{
 "cells": [
  {
   "cell_type": "markdown",
   "metadata": {},
   "source": [
    "#### Levels\n",
    "\n",
    "In this notebook we'll take a look at how to run `et_look` at different levels than the standard `level_1`."
   ]
  },
  {
   "cell_type": "code",
   "execution_count": 1,
   "metadata": {},
   "outputs": [],
   "source": [
    "!pip install pywapor==2.3.4 --quiet"
   ]
  },
  {
   "cell_type": "markdown",
   "metadata": {
    "id": "0xeoMH8j-vVD"
   },
   "source": [
    "First we redefine some of the basic inputs variables."
   ]
  },
  {
   "cell_type": "code",
   "execution_count": 2,
   "metadata": {},
   "outputs": [],
   "source": [
    "import pywapor\n",
    "\n",
    "project_folder = r\"/Users/hmcoerver/pywapor_notebooks\"\n",
    "latlim = [28.9, 29.7]\n",
    "lonlim = [30.2, 31.2]\n",
    "startdate = \"2021-07-01\"\n",
    "enddate = \"2021-07-11\""
   ]
  },
  {
   "cell_type": "markdown",
   "metadata": {
    "id": "4g2tMFZu3oY9"
   },
   "source": [
    "## Level-2 inputs\n",
    "\n",
    "Now that we have run ETLook for a simple use case, we'll have a look at how to run it at different levels and with different input datasets.\n",
    "\n",
    "When downloading input data with `pywapor.pre_et_look.main` as we did before, it is possible to select a level for which to download data. By default, this level is set to `level_1`.\n",
    "\n",
    "We can have a closer look at what this actually means by running the following functions.\n",
    "\n",
    "\n",
    "\n",
    "\n"
   ]
  },
  {
   "cell_type": "code",
   "execution_count": 4,
   "metadata": {
    "id": "GA7FNIlZ4v4W"
   },
   "outputs": [
    {
     "name": "stdout",
     "output_type": "stream",
     "text": [
      "METEO\n",
      " ['GEOS5']\n",
      "NDVI\n",
      " ['MOD13', 'MYD13']\n",
      "ALBEDO\n",
      " ['MDC43']\n",
      "LST\n",
      " ['MOD11', 'MYD11']\n",
      "LULC\n",
      " ['WAPOR']\n",
      "DEM\n",
      " ['SRTM']\n",
      "PRECIPITATION\n",
      " ['CHIRPS']\n",
      "TRANS\n",
      " ['MERRA2']\n"
     ]
    }
   ],
   "source": [
    "level = \"level_1\"\n",
    "levels = pywapor.general.variables.get_source_level_selections()\n",
    "pywapor.post_et_look.prettyprint(levels[level])"
   ]
  },
  {
   "cell_type": "markdown",
   "metadata": {
    "id": "nWmryPa15M46"
   },
   "source": [
    "You can see here which datasets are used for each (type of) variable. For example, the NDVI map we've used as input to ETLook was created using data from `MOD13` and `MYD13`. Notice that this information was also stored in the metadata (json) file that we've looked at earlier.\n",
    "\n",
    "We can check which other levels are available in this version of `pywapor` by checking the keys in the levels dictionary we've just created."
   ]
  },
  {
   "cell_type": "code",
   "execution_count": 5,
   "metadata": {
    "id": "pQ9XgNV_53BQ"
   },
   "outputs": [
    {
     "name": "stdout",
     "output_type": "stream",
     "text": [
      "dict_keys(['level_1', 'level_2'])\n"
     ]
    }
   ],
   "source": [
    "print(levels.keys())"
   ]
  },
  {
   "cell_type": "markdown",
   "metadata": {
    "id": "7THkaWpj6VIp"
   },
   "source": [
    "Let's have a look at the datasets used for `level_2`."
   ]
  },
  {
   "cell_type": "code",
   "execution_count": 6,
   "metadata": {
    "id": "IejI34Cb6fE8"
   },
   "outputs": [
    {
     "name": "stdout",
     "output_type": "stream",
     "text": [
      "METEO\n",
      " ['GEOS5']\n",
      "NDVI\n",
      " ['PROBAV']\n",
      "ALBEDO\n",
      " ['PROBAV']\n",
      "LST\n",
      " ['MOD11', 'MYD11']\n",
      "LULC\n",
      " ['WAPOR']\n",
      "DEM\n",
      " ['SRTM']\n",
      "PRECIPITATION\n",
      " ['CHIRPS']\n",
      "TRANS\n",
      " ['MERRA2']\n"
     ]
    }
   ],
   "source": [
    "level = \"level_2\"\n",
    "pywapor.post_et_look.prettyprint(levels[level])"
   ]
  },
  {
   "cell_type": "markdown",
   "metadata": {
    "id": "yGmz9BPq6p8l"
   },
   "source": [
    "As you can see, the difference between `level_1` and `level_2` is the dataset used to create the NDVI and ALBEDO inputs. For `level_2`, they are derived from PROBA-V images, which have a higher resolution than the MODIS products.\n",
    "\n",
    "Let's give `level_2` a try! Beware though, that the downloading of the PROBA-V images can take some time! \n",
    "\n",
    "> ⚠️  \n",
    ">\n",
    "> You'll notice that you'll be prompted for another username and password. This time for a [VITO account](https://www.vito-eodata.be/PDF/portal/Application.html). We could set this account up by running `pywapor.collect.setup_dl_accounts.setup_account(\"VITO\")` as well (like we did before for the NASA and WAPOR accounts). But `pywapor.pre_et_look.main` also checks if the required accounts can be found and gives a prompt if thats's not the case. \n",
    ">\n",
    ">You can create a VITO account [here](https://www.vito-eodata.be/PDF/portal/Application.html).\n",
    ">\n",
    "> ⚠️  \n"
   ]
  },
  {
   "cell_type": "code",
   "execution_count": 7,
   "metadata": {
    "colab": {
     "background_save": true
    },
    "id": "5guW3Xjm6_Ct"
   },
   "outputs": [
    {
     "name": "stdout",
     "output_type": "stream",
     "text": [
      "\n",
      "#################\n",
      "## PRE_ET_LOOK ##\n",
      "#################\n",
      "\n",
      "#### NDVI ####\n"
     ]
    },
    {
     "name": "stderr",
     "output_type": "stream",
     "text": [
      "2021.07.17: Saving finals.    : 100%|██████████| 230/230 [1:20:04<00:00, 20.9s/it]\n"
     ]
    },
    {
     "name": "stdout",
     "output_type": "stream",
     "text": [
      "--> Reprojecting datasets.\n",
      "--> Calculating composites.\n",
      "\n",
      "#### ALBEDO ####\n"
     ]
    },
    {
     "name": "stderr",
     "output_type": "stream",
     "text": [
      "2021.07.17: Saving finals.    : 100%|██████████| 230/230 [01:04<00:00, 3.58it/s]\n"
     ]
    },
    {
     "name": "stdout",
     "output_type": "stream",
     "text": [
      "--> Reprojecting datasets.\n",
      "--> Calculating composites.\n",
      "\n",
      "#### PRECIPITATION ####\n",
      "\n",
      "Downloading daily CHIRPS rainfall data for the period 2021-07-01 till 2021-07-11\n",
      "Progress: |██████████████████████████████████████████████████| 100.0% Complete\n",
      "--> Reprojecting datasets.\n",
      "--> Calculating composites.\n",
      "\n",
      "#### DEM ####\n",
      "\n",
      "#### SLOPE ASPECT ####\n",
      "\n",
      "#### LULC ####\n",
      "\n",
      "#### METEO ####\n"
     ]
    },
    {
     "name": "stderr",
     "output_type": "stream",
     "text": [
      "slp:  86%|████████▌ | 66/77 [00:00<00:00, 1081.86it/s]"
     ]
    },
    {
     "name": "stdout",
     "output_type": "stream",
     "text": [
      "## t2m ##\n",
      "--> Reprojecting datasets.\n",
      "--> Calculating composites.\n",
      "## t2m-min ##\n",
      "--> Reprojecting datasets.\n",
      "--> Calculating composites.\n",
      "## t2m-max ##\n",
      "--> Reprojecting datasets.\n",
      "--> Calculating composites.\n",
      "## u2m ##\n",
      "--> Reprojecting datasets.\n",
      "--> Calculating composites.\n",
      "## v2m ##\n",
      "--> Reprojecting datasets.\n",
      "--> Calculating composites.\n",
      "## qv2m ##\n",
      "--> Reprojecting datasets.\n",
      "--> Calculating composites.\n",
      "## tqv ##\n",
      "## ps ##\n",
      "## slp ##\n",
      "--> Reprojecting datasets.\n",
      "--> Calculating composites.\n",
      "\n",
      "#################\n",
      "## PRE_SE_ROOT ##\n",
      "#################\n",
      "\n",
      "#### NDVI ####\n"
     ]
    },
    {
     "name": "stderr",
     "output_type": "stream",
     "text": [
      "2021.07.17: Saving finals.    : 100%|██████████| 230/230 [01:02<00:00, 3.67it/s]\n"
     ]
    },
    {
     "name": "stdout",
     "output_type": "stream",
     "text": [
      "--> Reprojecting datasets.\n",
      "--> Exporting timeseries.\n",
      "\n",
      "#### LST ####\n",
      "NASA account: working\n",
      "\n",
      "Download daily MOD11 Land Surface Temperature data for period 2021-07-01 till 2021-07-11\n",
      "Progress: |██████████████████████████████████████████████████| 100.0% Complete\n",
      "\n",
      "Download daily MYD11 Land Surface Temperature data for period 2021-07-01 till 2021-07-11\n",
      "Progress: |██████████████████████████████████████████████████| 100.0% Complete\n",
      "\n",
      "#### DEM ####\n",
      "\n",
      "#### METEO ####\n"
     ]
    },
    {
     "name": "stderr",
     "output_type": "stream",
     "text": [
      "slp: 100%|██████████| 287/287 [00:01<00:00, 209.16it/s]"
     ]
    },
    {
     "name": "stdout",
     "output_type": "stream",
     "text": [
      "## Pair_inst_0 ##\n",
      "## Pair_inst ##\n",
      "## qv_inst ##\n",
      "## tair_inst ##\n",
      "## wv_inst ##\n",
      "## v2m_inst ##\n",
      "## u2m_inst ##\n",
      "\n",
      "#################\n",
      "## PRE_SE_ROOT ##\n",
      "##### DONE ######\n",
      "\n",
      "\n",
      "#### SE_ROOT ####\n",
      "--> Calculating se_root.\n"
     ]
    },
    {
     "name": "stderr",
     "output_type": "stream",
     "text": [
      "100%|██████████| 41/41 [01:43<00:00,  2.53s/it]\n"
     ]
    },
    {
     "name": "stdout",
     "output_type": "stream",
     "text": [
      "--> Reprojecting datasets.\n",
      "--> Calculating composites.\n",
      "[########################################] | 100% Completed |  1min  6.5s\n",
      "\n",
      "#### LAT LON ####\n",
      "\n",
      "#### SOLAR RADIATION ####\n",
      "\n",
      "Downloading daily MERRA swgnet data for the period 2021-07-01 till 2021-07-11\n",
      "Progress: |██████████████████████████████████████████████████| 100.0% Complete\n",
      "--> Reprojecting datasets.\n",
      "--> Calculating composites.\n",
      "\n",
      "#### TEMP. AMPLITUDE ####\n",
      "\n",
      "#################\n",
      "## PRE_ET_LOOK ##\n",
      "##### DONE ######\n",
      "\n"
     ]
    }
   ],
   "source": [
    "level = \"level_2\"\n",
    "pre_files_lvl2 = pywapor.pre_et_look.main(project_folder, startdate, enddate, latlim, lonlim, level)"
   ]
  },
  {
   "cell_type": "markdown",
   "metadata": {
    "id": "wNXvss2l9O4i"
   },
   "source": [
    "Downloading and processing the PROBA-V scenes will take quite some time as they are relatively large. But since we've already downloaded the other datasets for `level_1`, the function will find much of the other required datasets in the aforementioned `RAW` folder and won't have to download them again.\n",
    "\n",
    "We can check the contents of our `project_folder` again by running the following code."
   ]
  },
  {
   "cell_type": "code",
   "execution_count": 8,
   "metadata": {
    "id": "oa03G8dw932E"
   },
   "outputs": [
    {
     "name": "stdout",
     "output_type": "stream",
     "text": [
      "level_2/metadata_level_2.json\n",
      "\n",
      "level_2/20210701:\n",
      "P_24_20210701.tif         r0_20210701.tif           t_air_max_24_20210701.tif\n",
      "ndvi_20210701.tif         ra_24_20210701.tif        t_air_min_24_20210701.tif\n",
      "p_air_24_0_20210701.tif   se_root_20210701.tif      u2m_24_20210701.tif\n",
      "qv_24_20210701.tif        t_air_24_20210701.tif     v2m_24_20210701.tif\n",
      "\n",
      "level_2/SMC:\n",
      "SMC_-_-_inst_2021.07.01.09.24.tif SMC_-_-_inst_2021.07.06.11.24.tif\n",
      "SMC_-_-_inst_2021.07.01.09.30.tif SMC_-_-_inst_2021.07.07.08.42.tif\n",
      "SMC_-_-_inst_2021.07.01.11.00.tif SMC_-_-_inst_2021.07.07.08.48.tif\n",
      "SMC_-_-_inst_2021.07.01.11.06.tif SMC_-_-_inst_2021.07.07.10.30.tif\n",
      "SMC_-_-_inst_2021.07.02.08.24.tif SMC_-_-_inst_2021.07.07.12.00.tif\n",
      "SMC_-_-_inst_2021.07.02.08.30.tif SMC_-_-_inst_2021.07.07.12.06.tif\n",
      "SMC_-_-_inst_2021.07.02.11.42.tif SMC_-_-_inst_2021.07.08.09.30.tif\n",
      "SMC_-_-_inst_2021.07.02.11.48.tif SMC_-_-_inst_2021.07.08.11.06.tif\n",
      "SMC_-_-_inst_2021.07.03.09.12.tif SMC_-_-_inst_2021.07.08.11.12.tif\n",
      "SMC_-_-_inst_2021.07.03.10.48.tif SMC_-_-_inst_2021.07.09.08.36.tif\n",
      "SMC_-_-_inst_2021.07.03.10.54.tif SMC_-_-_inst_2021.07.09.11.48.tif\n",
      "SMC_-_-_inst_2021.07.04.08.12.tif SMC_-_-_inst_2021.07.09.11.54.tif\n",
      "SMC_-_-_inst_2021.07.04.08.18.tif SMC_-_-_inst_2021.07.10.09.18.tif\n",
      "SMC_-_-_inst_2021.07.04.11.30.tif SMC_-_-_inst_2021.07.10.09.24.tif\n",
      "SMC_-_-_inst_2021.07.04.11.36.tif SMC_-_-_inst_2021.07.10.10.54.tif\n",
      "SMC_-_-_inst_2021.07.05.09.00.tif SMC_-_-_inst_2021.07.10.11.00.tif\n",
      "SMC_-_-_inst_2021.07.05.10.36.tif SMC_-_-_inst_2021.07.11.08.18.tif\n",
      "SMC_-_-_inst_2021.07.05.10.42.tif SMC_-_-_inst_2021.07.11.08.24.tif\n",
      "SMC_-_-_inst_2021.07.06.08.00.tif SMC_-_-_inst_2021.07.11.11.36.tif\n",
      "SMC_-_-_inst_2021.07.06.08.06.tif SMC_-_-_inst_2021.07.11.11.42.tif\n",
      "SMC_-_-_inst_2021.07.06.11.18.tif\n",
      "\n",
      "level_2/static:\n",
      "aspect_deg.tif      lon_deg.tif         slope_deg.tif       z_obst_max_2021.tif\n",
      "land_mask_2021.tif  lue_max_2021.tif    t_amp_year_2021.tif\n",
      "lat_deg.tif         rs_min_2021.tif     z.tif\n"
     ]
    }
   ],
   "source": [
    "!ls level_2*/*"
   ]
  },
  {
   "cell_type": "markdown",
   "metadata": {
    "id": "Lh69IWzw9-wx"
   },
   "source": [
    "Next, we can run ETLook using the `level_2` data like this."
   ]
  },
  {
   "cell_type": "code",
   "execution_count": 9,
   "metadata": {
    "id": "QMHFJxKS-Iig"
   },
   "outputs": [
    {
     "name": "stdout",
     "output_type": "stream",
     "text": [
      "--> Running ETLook_v2\n",
      "----> u_24 will be calculated from u2m_24 and v2m_24.\n",
      "----> trans_24 will be calculated from ra_24.\n",
      "----> z_oro will be calculated from slope.\n",
      "----> lw_offset will be constant at -0.3500.\n",
      "----> lw_slope will be constant at 1.3500.\n",
      "----> r0_bare will be constant at 0.3800.\n",
      "----> r0_full will be constant at 0.1800.\n",
      "----> rn_offset will be constant at -61.0000.\n",
      "----> rn_slope will be constant at 0.9200.\n",
      "----> t_opt will be constant at 25.0000.\n",
      "----> vpd_slope will be constant at -0.3000.\n",
      "----> resolution is ~103 meter.\n"
     ]
    }
   ],
   "source": [
    "files_lvl2 = pywapor.et_look.main(project_folder, startdate, level)"
   ]
  },
  {
   "cell_type": "markdown",
   "metadata": {
    "id": "AFMggFouPqrd"
   },
   "source": [
    "We can check the pixel size in degrees of the `level_2` outputs like this."
   ]
  },
  {
   "cell_type": "code",
   "execution_count": 10,
   "metadata": {
    "id": "P3xNKcAoN5BC"
   },
   "outputs": [
    {
     "name": "stdout",
     "output_type": "stream",
     "text": [
      "Resolution level_2: 0.0010°\n"
     ]
    }
   ],
   "source": [
    "level_2_file = files_lvl2[\"et_24_mm\"]\n",
    "\n",
    "l2_xres = pywapor.general.processing_functions.get_geoinfo(level_2_file)[0][1]\n",
    "\n",
    "print(\"Resolution level_2: {0:.4f}°\".format(l2_xres))"
   ]
  },
  {
   "cell_type": "markdown",
   "metadata": {
    "id": "y8N_f26B-25h"
   },
   "source": [
    "## Custom inputs\n",
    "\n",
    "Besides using the predefined levels, it is also possible to create your own custom level. Instead of passing a string to the `level` input parameter of `pywapor.pre_et_look.main`, we can also pass a dictionary that specifies which products we would like to use.\n",
    "\n",
    "Lets start by creating such a dictionary by choosing some sources from this table.\n",
    "\n",
    "\n",
    "| Source | Temporal Availability | Temporal Resolution |Spatial Resolution | Used For |\n",
    "| ------ | ------ | ------ | ------ | ------ |\n",
    "|[MOD13](https://lpdaac.usgs.gov/products/mod13q1v006/) | 2000-02-18 - ongoing | 16-Daily |250m|NDVI|\n",
    "|[MYD13](https://lpdaac.usgs.gov/products/myd13q1v006/) | 2002-07-04 - ongoing | 16-Daily |250m|NDVI|\n",
    "|[MCD43](https://lpdaac.usgs.gov/products/mcd43a1v006/)|2000-02-16 - ongoing|Daily|500m|Albedo|\n",
    "|[MOD11](https://lpdaac.usgs.gov/products/mod11a1v006/) | 2000-02-24 - ongoing | Daily | 1000m | LST |\n",
    "|[MYD11](https://lpdaac.usgs.gov/products/myd11a1v006/)| 2002-07-04 - ongoing | Daily | 1000m | LST |\n",
    "|[PROBAV](https://www.vito-eodata.be/collectioncatalogue/srv/eng/catalog.search#/metadata/urn:ogc:def:EOP:VITO:PROBAV_S5-TOC_100M_V001)|2014-03-11 - ongoing|5-Daily|100m|NDVI, Albedo|\n",
    "| [GEOS5](https://geos5.org) | 2017-12-01 - ongoing | 3-Hourly |0.3125°×0.25° | Meteo |\n",
    "| [MERRA2](https://gmao.gsfc.nasa.gov/reanalysis/MERRA-2/) | 1980-01-01 - ongoing | Hourly | 0.625°×0.5° | Meteo | \n",
    "| [CHIRPS](https://www.chc.ucsb.edu/data/chirps) |  1981-01-01 - ongoing | Daily | 0.05° | Precipitation |\n",
    "| [WAPOR](https://wapor.apps.fao.org/catalog/WAPOR_2/1/L1_LCC_A) | 2009 - 2020 | Yearly |250m | Landcover |\n",
    "| [GLOBCOVER](http://due.esrin.esa.int/page_globcover.php) | 2009 | Single| 250m | Landcover |\n",
    "| [SRTM](https://srtm.csi.cgiar.org) | 2009 | Single | 90m | DEM |\n"
   ]
  },
  {
   "cell_type": "code",
   "execution_count": 11,
   "metadata": {
    "id": "50Sttzaw_hoX"
   },
   "outputs": [],
   "source": [
    "my_custom_level = {\n",
    "        \"METEO\": [\"MERRA2\"],\n",
    "        \"NDVI\": [\"PROBAV\"],\n",
    "        \"ALBEDO\": [\"MDC43\"],\n",
    "        \"LST\": [\"MOD11\", \"MYD11\"],\n",
    "        \"LULC\": [\"GLOBCOVER\"],\n",
    "        \"DEM\": [\"SRTM\"],\n",
    "        \"TRANS\": [\"MERRA2\"],\n",
    "        \"PRECIPITATION\": [\"CHIRPS\"],\n",
    "}"
   ]
  },
  {
   "cell_type": "markdown",
   "metadata": {
    "id": "Rg7zx1wl_3i7"
   },
   "source": [
    "We can check if it is possible to run `pywapor.pre_et_look.main` and `pywapor.et_look.main` with this custom level for a chosen start and enddate by passing it into the following function."
   ]
  },
  {
   "cell_type": "code",
   "execution_count": 12,
   "metadata": {
    "id": "R01EbxyvAHgT"
   },
   "outputs": [
    {
     "name": "stdout",
     "output_type": "stream",
     "text": [
      "valid custom level: True\n"
     ]
    }
   ],
   "source": [
    "results, succes = pywapor.general.tests.check_source_selection(my_custom_level, \n",
    "                                                        startdate, enddate)\n",
    "print(f\"valid custom level: {succes}\")"
   ]
  },
  {
   "cell_type": "markdown",
   "metadata": {
    "id": "yURe4EhaEEwd"
   },
   "source": [
    "Now our custom level is ready! We can have a closer look at the the checks that the function performed by looking at the `results` variable."
   ]
  },
  {
   "cell_type": "code",
   "execution_count": 13,
   "metadata": {
    "id": "5zZttjiJERO7"
   },
   "outputs": [
    {
     "name": "stdout",
     "output_type": "stream",
     "text": [
      "METEO\n",
      "\tMERRA2\n",
      "\t\tvalid_source:\n",
      "\t\t True\n",
      "\t\tvalid_startdate:\n",
      "\t\t True\n",
      "\t\tvalid_enddate:\n",
      "\t\t True\n",
      "NDVI\n",
      "\tPROBAV\n",
      "\t\tvalid_source:\n",
      "\t\t True\n",
      "\t\tvalid_startdate:\n",
      "\t\t True\n",
      "\t\tvalid_enddate:\n",
      "\t\t True\n",
      "ALBEDO\n",
      "\tMDC43\n",
      "\t\tvalid_source:\n",
      "\t\t True\n",
      "\t\tvalid_startdate:\n",
      "\t\t True\n",
      "\t\tvalid_enddate:\n",
      "\t\t True\n",
      "LST\n",
      "\tMOD11\n",
      "\t\tvalid_source:\n",
      "\t\t True\n",
      "\t\tvalid_startdate:\n",
      "\t\t True\n",
      "\t\tvalid_enddate:\n",
      "\t\t True\n",
      "\tMYD11\n",
      "\t\tvalid_source:\n",
      "\t\t True\n",
      "\t\tvalid_startdate:\n",
      "\t\t True\n",
      "\t\tvalid_enddate:\n",
      "\t\t True\n",
      "LULC\n",
      "\tGLOBCOVER\n",
      "\t\tvalid_source:\n",
      "\t\t True\n",
      "\t\tvalid_startdate:\n",
      "\t\t True\n",
      "\t\tvalid_enddate:\n",
      "\t\t True\n",
      "DEM\n",
      "\tSRTM\n",
      "\t\tvalid_source:\n",
      "\t\t True\n",
      "\t\tvalid_startdate:\n",
      "\t\t True\n",
      "\t\tvalid_enddate:\n",
      "\t\t True\n",
      "TRANS\n",
      "\tMERRA2\n",
      "\t\tvalid_source:\n",
      "\t\t True\n",
      "\t\tvalid_startdate:\n",
      "\t\t True\n",
      "\t\tvalid_enddate:\n",
      "\t\t True\n",
      "PRECIPITATION\n",
      "\tCHIRPS\n",
      "\t\tvalid_source:\n",
      "\t\t True\n",
      "\t\tvalid_startdate:\n",
      "\t\t True\n",
      "\t\tvalid_enddate:\n",
      "\t\t True\n"
     ]
    }
   ],
   "source": [
    "pywapor.post_et_look.prettyprint(results)"
   ]
  },
  {
   "cell_type": "markdown",
   "metadata": {
    "id": "Sv2ODjxGEaQq"
   },
   "source": [
    "As you can see, the function also checks if the selected sources are available for the chosen dates. \n",
    "\n",
    "Finally, we can give a name to the custom level (but this is not required, the default name is `custom`) and then start downloading the required data."
   ]
  },
  {
   "cell_type": "code",
   "execution_count": null,
   "metadata": {
    "id": "sWAdYPf3EmQZ"
   },
   "outputs": [],
   "source": [
    "my_custom_level[\"name\"] = \"my_first_custom_level\"\n",
    "\n",
    "pre_files_cstm = pywapor.pre_et_look.main(project_folder, startdate, enddate, latlim, lonlim, my_custom_level)"
   ]
  },
  {
   "cell_type": "markdown",
   "metadata": {
    "id": "t9a2_qrvHPYE"
   },
   "source": [
    "And then again, run ETLook like this.\n",
    "\n",
    "> ⚠️  \n",
    ">\n",
    "> Note that here we don't pass the dictionary, but the name of the level as the level selector!\n",
    ">\n",
    "> ⚠️  \n",
    "\n"
   ]
  },
  {
   "cell_type": "code",
   "execution_count": 15,
   "metadata": {
    "id": "phhPDillHOsg"
   },
   "outputs": [
    {
     "name": "stdout",
     "output_type": "stream",
     "text": [
      "--> Running ETLook_v2\n",
      "----> u_24 will be calculated from u2m_24 and v2m_24.\n",
      "----> trans_24 will be calculated from ra_24.\n",
      "----> z_oro will be calculated from slope.\n",
      "----> lw_offset will be constant at -0.3500.\n",
      "----> lw_slope will be constant at 1.3500.\n",
      "----> r0_bare will be constant at 0.3800.\n",
      "----> r0_full will be constant at 0.1800.\n",
      "----> rn_offset will be constant at -61.0000.\n",
      "----> rn_slope will be constant at 0.9200.\n",
      "----> t_opt will be constant at 25.0000.\n",
      "----> vpd_slope will be constant at -0.3000.\n",
      "----> resolution is ~103 meter.\n"
     ]
    }
   ],
   "source": [
    "files_cstm = pywapor.et_look.main(project_folder, startdate, \"my_first_custom_level\")"
   ]
  }
 ],
 "metadata": {
  "interpreter": {
   "hash": "f85bfb788a8c687938d52f45e0b3b96852f22966903f9a0a715c418e604f4599"
  },
  "kernelspec": {
   "display_name": "Python 3.9.7 64-bit ('test_a': conda)",
   "language": "python",
   "name": "python3"
  },
  "language_info": {
   "codemirror_mode": {
    "name": "ipython",
    "version": 3
   },
   "file_extension": ".py",
   "mimetype": "text/x-python",
   "name": "python",
   "nbconvert_exporter": "python",
   "pygments_lexer": "ipython3",
   "version": "3.8.12"
  },
  "orig_nbformat": 4
 },
 "nbformat": 4,
 "nbformat_minor": 2
}
