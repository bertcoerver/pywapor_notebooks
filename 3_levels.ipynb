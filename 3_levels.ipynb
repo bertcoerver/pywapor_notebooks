{
 "cells": [
  {
   "cell_type": "markdown",
   "metadata": {},
   "source": [
    "#### Levels\n",
    "\n",
    "In this notebook we'll take a look at how to run `et_look` at different levels than the standard `level_1`."
   ]
  },
  {
   "cell_type": "code",
   "execution_count": null,
   "metadata": {},
   "outputs": [],
   "source": [
    "!pip install pywapor==2.3.4 --quiet"
   ]
  },
  {
   "cell_type": "markdown",
   "metadata": {
    "id": "0xeoMH8j-vVD"
   },
   "source": [
    "First we redefine some of the basic inputs variables that we've also seen in the previous notebooks. This time however, we will choose a period of 1 day and a `composite_length` of 1 day, in order to keep download times down."
   ]
  },
  {
   "cell_type": "code",
   "execution_count": 1,
   "metadata": {},
   "outputs": [],
   "source": [
    "import pywapor\n",
    "\n",
    "project_folder = r\"/Users/hmcoerver/pywapor_notebooks\"\n",
    "latlim = [28.9, 29.7]\n",
    "lonlim = [30.2, 31.2]\n",
    "startdate = \"2021-07-06\"\n",
    "enddate = \"2021-07-07\"\n",
    "composite_length = 1"
   ]
  },
  {
   "cell_type": "markdown",
   "metadata": {
    "id": "4g2tMFZu3oY9"
   },
   "source": [
    "##### Level-2 inputs\n",
    "\n",
    "Now that we have run ETLook for a simple use case, we'll have a look at how to run it at different levels and with different input datasets.\n",
    "\n",
    "When downloading input data with `pywapor.pre_et_look.main` as we did before, it is possible to select a level for which to download data. By default, this level is set to `level_1`.\n",
    "\n",
    "We can have a closer look at what this actually means by running the following functions.\n",
    "\n",
    "\n",
    "\n",
    "\n"
   ]
  },
  {
   "cell_type": "code",
   "execution_count": 2,
   "metadata": {
    "id": "GA7FNIlZ4v4W"
   },
   "outputs": [],
   "source": [
    "level = \"level_1\"\n",
    "levels = pywapor.general.variables.get_source_level_selections()"
   ]
  },
  {
   "cell_type": "markdown",
   "metadata": {},
   "source": [
    "The variable `levels` now contains a dictionary with the source-selections for each ET_Look input variable at each level. E.g. to see the sources for the data used at level-1, we can do the following."
   ]
  },
  {
   "cell_type": "code",
   "execution_count": 3,
   "metadata": {},
   "outputs": [
    {
     "data": {
      "text/plain": [
       "{'ndvi': ['MOD13', 'MYD13'],\n",
       " 'r0': ['MCD43'],\n",
       " 'lst': ['MOD11', 'MYD11'],\n",
       " 'lulc': ['WAPOR'],\n",
       " 'z': ['SRTM'],\n",
       " 'p_24': ['CHIRPS'],\n",
       " 'ra_24': ['MERRA2'],\n",
       " 't_air_24': ['GEOS5'],\n",
       " 't_air_min_24': ['GEOS5'],\n",
       " 't_air_max_24': ['GEOS5'],\n",
       " 'u2m_24': ['GEOS5'],\n",
       " 'v2m_24': ['GEOS5'],\n",
       " 'p_air_0_24': ['GEOS5'],\n",
       " 'qv_24': ['GEOS5'],\n",
       " 't_air_i': ['GEOS5'],\n",
       " 'u2m_i': ['GEOS5'],\n",
       " 'v2m_i': ['GEOS5'],\n",
       " 'qv_i': ['GEOS5'],\n",
       " 'wv_i': ['GEOS5'],\n",
       " 'p_air_i': ['GEOS5'],\n",
       " 'p_air_0_i': ['GEOS5'],\n",
       " 'lw_offset': ['STATICS'],\n",
       " 'lw_slope': ['STATICS'],\n",
       " 'r0_bare': ['STATICS'],\n",
       " 'r0_full': ['STATICS'],\n",
       " 'rn_offset': ['STATICS'],\n",
       " 'rn_slope': ['STATICS'],\n",
       " 't_amp_year': ['STATICS'],\n",
       " 't_opt': ['STATICS'],\n",
       " 'vpd_slope': ['STATICS'],\n",
       " 'z_oro': ['STATICS']}"
      ]
     },
     "execution_count": 3,
     "metadata": {},
     "output_type": "execute_result"
    }
   ],
   "source": [
    "levels[\"level_1\"]"
   ]
  },
  {
   "cell_type": "markdown",
   "metadata": {},
   "source": [
    "You can see that at level-1, e.g. `ndvi` data comes from `MOD13` and `MYD13`, while daily precipitation (`p_24`) comes from the `CHIRPS` dataset. So by checking the keys of this dictionary, we can see which pre-defined levels are available in this version of pyWAPOR.\n",
    "\n",
    "> If you want to find some more information about these variables, you can get a dictionary with definitions and units for each variable by running `defs = pywapor.general.variables.get_var_definitions()` and then e.g. `defs[\"rn_offset\"]`."
   ]
  },
  {
   "cell_type": "code",
   "execution_count": 4,
   "metadata": {
    "id": "pQ9XgNV_53BQ"
   },
   "outputs": [
    {
     "name": "stdout",
     "output_type": "stream",
     "text": [
      "dict_keys(['level_1', 'level_2'])\n"
     ]
    }
   ],
   "source": [
    "print(levels.keys())"
   ]
  },
  {
   "cell_type": "markdown",
   "metadata": {
    "id": "7THkaWpj6VIp"
   },
   "source": [
    "Let's have a look at the datasets used for `level_2`."
   ]
  },
  {
   "cell_type": "code",
   "execution_count": 5,
   "metadata": {
    "id": "IejI34Cb6fE8"
   },
   "outputs": [
    {
     "data": {
      "text/plain": [
       "{'ndvi': ['PROBAV'],\n",
       " 'r0': ['PROBAV'],\n",
       " 'lst': ['MOD11', 'MYD11'],\n",
       " 'lulc': ['WAPOR'],\n",
       " 'z': ['SRTM'],\n",
       " 'p_24': ['CHIRPS'],\n",
       " 'ra_24': ['MERRA2'],\n",
       " 't_air_24': ['GEOS5'],\n",
       " 't_air_min_24': ['GEOS5'],\n",
       " 't_air_max_24': ['GEOS5'],\n",
       " 'u2m_24': ['GEOS5'],\n",
       " 'v2m_24': ['GEOS5'],\n",
       " 'p_air_0_24': ['GEOS5'],\n",
       " 'qv_24': ['GEOS5'],\n",
       " 't_air_i': ['GEOS5'],\n",
       " 'u2m_i': ['GEOS5'],\n",
       " 'v2m_i': ['GEOS5'],\n",
       " 'qv_i': ['GEOS5'],\n",
       " 'wv_i': ['GEOS5'],\n",
       " 'p_air_i': ['GEOS5'],\n",
       " 'p_air_0_i': ['GEOS5'],\n",
       " 'lw_offset': ['STATICS'],\n",
       " 'lw_slope': ['STATICS'],\n",
       " 'r0_bare': ['STATICS'],\n",
       " 'r0_full': ['STATICS'],\n",
       " 'rn_offset': ['STATICS'],\n",
       " 'rn_slope': ['STATICS'],\n",
       " 't_amp_year': ['STATICS'],\n",
       " 't_opt': ['STATICS'],\n",
       " 'vpd_slope': ['STATICS'],\n",
       " 'z_oro': ['STATICS']}"
      ]
     },
     "execution_count": 5,
     "metadata": {},
     "output_type": "execute_result"
    }
   ],
   "source": [
    "levels[\"level_2\"]"
   ]
  },
  {
   "cell_type": "markdown",
   "metadata": {
    "id": "yGmz9BPq6p8l"
   },
   "source": [
    "As you can see, the difference between `level_1` and `level_2` is the dataset used to create the NDVI and ALBEDO inputs. For `level_2`, they are derived from PROBA-V images, which have a higher resolution (~100m) than the MODIS products (~250m for NDVI).\n",
    "\n",
    "Let's give `level_2` a try! Beware though, that the downloading of the PROBA-V images can take some time! \n",
    "\n",
    "> ⚠️  \n",
    ">\n",
    "> You'll notice that you'll be prompted for another username and password. This time for a [VITO account](https://www.vito-eodata.be/PDF/portal/Application.html). We could set this account up by running `pywapor.collect.setup_dl_accounts.setup_account(\"VITO\")` as well (like we did before for the NASA and WAPOR accounts). But `pywapor.pre_et_look.main` also checks if the required accounts can be found and gives a prompt if thats's not the case. \n",
    ">\n",
    ">You can create a VITO account [here](https://www.vito-eodata.be/PDF/portal/Application.html).\n",
    ">\n",
    "> ⚠️  \n"
   ]
  },
  {
   "cell_type": "markdown",
   "metadata": {},
   "source": [
    "We run `pywapor.pre_et_look.main` the same way as we've done previously, but now we add the parameter specifying the level (which has a default value of `\"level_1\"`) and the composite_length of 1 day (instead of the default `\"DEKAD\"`)."
   ]
  },
  {
   "cell_type": "code",
   "execution_count": 6,
   "metadata": {
    "colab": {
     "background_save": true
    },
    "id": "5guW3Xjm6_Ct"
   },
   "outputs": [
    {
     "name": "stderr",
     "output_type": "stream",
     "text": [
      "> PRE_ET_LOOK\n",
      "    # ndvi\n",
      "    --> Downloading PROBAV.\n",
      "2021.07.06:               : 100%|██████████| 10.0/10.0 [00:00<00:00, 636it/s]\n",
      "    --> Resampling resolution is ~103 meter.\n",
      "    --> Resampling datasets.\n",
      "    --> Calculating composites.\n",
      "    # p_24\n",
      "    --> Downloading CHIRPS.\n",
      "Tile: 2 / 2: 0.00Bytes [00:00, ?Bytes/s]\n",
      "    --> Resampling datasets.\n",
      "    --> Calculating composites.\n",
      "    # se_root\n",
      "    > PRE_SE_ROOT\n",
      "        # ndvi\n",
      "        --> Downloading PROBAV.\n",
      "2021.07.06:               : 100%|██████████| 10.0/10.0 [00:00<00:00, 2.37kit/s]\n",
      "        --> Resampling resolution is ~103 meter.\n",
      "        --> Resampling datasets.\n",
      "        # lst\n",
      "        --> Downloading MOD11.\n",
      "Tile: 2 / 2: 0.00Bytes [00:00, ?Bytes/s]\n",
      "        --> Downloading MYD11.\n",
      "Tile: 2 / 2: 0.00Bytes [00:00, ?Bytes/s]\n",
      "        --> Resampling datasets.\n",
      "        > METEO\n",
      "            # t_air_i\n",
      "            --> Downloading GEOS5 (3-hourly), t2m.\n",
      "Tile: 7 / 7: 0.00Bytes [00:00, ?Bytes/s]\n",
      "            --> Applying 'kelvin_to_celsius' to `t_air_i` from GEOS5.\n",
      "            # u2m_i\n",
      "            --> Downloading GEOS5 (3-hourly), u2m.\n",
      "Tile: 7 / 7: 0.00Bytes [00:00, ?Bytes/s]\n",
      "            # v2m_i\n",
      "            --> Downloading GEOS5 (3-hourly), v2m.\n",
      "Tile: 7 / 7: 0.00Bytes [00:00, ?Bytes/s]\n",
      "            # qv_i\n",
      "            --> Downloading GEOS5 (3-hourly), qv2m.\n",
      "Tile: 7 / 7: 0.00Bytes [00:00, ?Bytes/s]\n",
      "            # wv_i\n",
      "            --> Downloading GEOS5 (3-hourly), tqv.\n",
      "Tile: 7 / 7: 0.00Bytes [00:00, ?Bytes/s]\n",
      "            # p_air_i\n",
      "            --> Downloading GEOS5 (3-hourly), ps.\n",
      "Tile: 7 / 7: 0.00Bytes [00:00, ?Bytes/s]\n",
      "            # p_air_0_i\n",
      "            --> Downloading GEOS5 (3-hourly), slp.\n",
      "Tile: 7 / 7: 0.00Bytes [00:00, ?Bytes/s]\n",
      "        < METEO\n",
      "        --> Interpolating datasets.\n",
      "    < PRE_SE_ROOT\n",
      "    > SE_ROOT\n",
      "        --> Running SEroot_v2.\n",
      "        --> Saving outputs.\n",
      "    < SE_ROOT\n",
      "    --> Resampling datasets.\n",
      "    --> Calculating composites.\n",
      "    # r0\n",
      "    --> Downloading PROBAV.\n",
      "2021.07.06:               : 100%|██████████| 10.0/10.0 [00:00<00:00, 612it/s]\n",
      "    --> Resampling datasets.\n",
      "    --> Calculating composites.\n",
      "    # z\n",
      "    --> Downloading SRTM.\n",
      "    --> Resampling datasets.\n",
      "    # lulc\n",
      "    --> Downloading WAPOR.\n",
      "    --> Creating new variable `land_mask`.\n",
      "    --> Creating new variable `rs_min`.\n",
      "    --> Creating new variable `lue_max`.\n",
      "    --> Creating new variable `z_obst_max`.\n",
      "    --> Applying 'remove_var' to `lulc` from WAPOR.\n",
      "    --> Resampling datasets.\n",
      "    --> Calculating composites.\n",
      "    # ra_24\n",
      "    --> Downloading MERRA2 (daily), swgnet.\n",
      "Tile: 2 / 2: 0.00Bytes [00:00, ?Bytes/s]\n",
      "    --> Resampling datasets.\n",
      "    --> Calculating composites.\n",
      "    # t_air_24\n",
      "    --> Downloading GEOS5 (daily), t2m.\n",
      "Tile: 2 / 2: 0.00Bytes [00:00, ?Bytes/s]\n",
      "    --> Applying 'kelvin_to_celsius' to `t_air_24` from GEOS5.\n",
      "    --> Resampling datasets.\n",
      "    --> Calculating composites.\n",
      "    # t_air_min_24\n",
      "    --> Downloading GEOS5 (daily), t2m-min.\n",
      "Tile: 2 / 2: 0.00Bytes [00:00, ?Bytes/s]\n",
      "    --> Applying 'kelvin_to_celsius' to `t_air_min_24` from GEOS5.\n",
      "    --> Resampling datasets.\n",
      "    --> Calculating composites.\n",
      "    # t_air_max_24\n",
      "    --> Downloading GEOS5 (daily), t2m-max.\n",
      "Tile: 2 / 2: 0.00Bytes [00:00, ?Bytes/s]\n",
      "    --> Applying 'kelvin_to_celsius' to `t_air_max_24` from GEOS5.\n",
      "    --> Resampling datasets.\n",
      "    --> Calculating composites.\n",
      "    # u2m_24\n",
      "    --> Downloading GEOS5 (daily), u2m.\n",
      "Tile: 2 / 2: 0.00Bytes [00:00, ?Bytes/s]\n",
      "    --> Resampling datasets.\n",
      "    --> Calculating composites.\n",
      "    # v2m_24\n",
      "    --> Downloading GEOS5 (daily), v2m.\n",
      "Tile: 2 / 2: 0.00Bytes [00:00, ?Bytes/s]\n",
      "    --> Resampling datasets.\n",
      "    --> Calculating composites.\n",
      "    # p_air_0_24\n",
      "    --> Downloading GEOS5 (daily), slp.\n",
      "Tile: 2 / 2: 0.00Bytes [00:00, ?Bytes/s]\n",
      "    --> Resampling datasets.\n",
      "    --> Calculating composites.\n",
      "    # qv_24\n",
      "    --> Downloading GEOS5 (daily), qv2m.\n",
      "Tile: 2 / 2: 0.00Bytes [00:00, ?Bytes/s]\n",
      "    --> Resampling datasets.\n",
      "    --> Calculating composites.\n",
      "    # lw_offset\n",
      "    --> Resampling datasets.\n",
      "    # lw_slope\n",
      "    --> Resampling datasets.\n",
      "    # r0_bare\n",
      "    --> Resampling datasets.\n",
      "    # r0_full\n",
      "    --> Resampling datasets.\n",
      "    # rn_offset\n",
      "    --> Resampling datasets.\n",
      "    # rn_slope\n",
      "    --> Resampling datasets.\n",
      "    # t_amp_year\n",
      "    --> Resampling datasets.\n",
      "    # t_opt\n",
      "    --> Resampling datasets.\n",
      "    # vpd_slope\n",
      "    --> Resampling datasets.\n",
      "    # z_oro\n",
      "    --> Resampling datasets.\n",
      "    > Composite enhancers.\n",
      "        # t_air_24\n",
      "        --> Calculating local means (r = 0.25°) of `z`.\n",
      "        --> Applying 'lapse_rate' to `t_air_24`.\n",
      "        # t_air_min_24\n",
      "        --> Applying 'lapse_rate' to `t_air_min_24`.\n",
      "        # t_air_max_24\n",
      "        --> Applying 'lapse_rate' to `t_air_max_24`.\n",
      "        # z\n",
      "        --> Creating new variable `slope`.\n",
      "        --> Creating new variable `aspect`.\n",
      "        --> Creating new variable `lat_deg`.\n",
      "        --> Creating new variable `lon_deg`.\n",
      "    < Composite enhancers.\n",
      "    --> Saving results.\n",
      "< PRE_ET_LOOK\n"
     ]
    }
   ],
   "source": [
    "level = \"level_2\"\n",
    "\n",
    "ds, fh = pywapor.pre_et_look.main(project_folder, startdate, enddate, \n",
    "                                    latlim, lonlim, level = level,\n",
    "                                    composite_length = composite_length)"
   ]
  },
  {
   "cell_type": "markdown",
   "metadata": {
    "id": "wNXvss2l9O4i"
   },
   "source": [
    "We can check the contents of our `project_folder` again by running the following code."
   ]
  },
  {
   "cell_type": "code",
   "execution_count": 7,
   "metadata": {
    "id": "oa03G8dw932E"
   },
   "outputs": [
    {
     "name": "stdout",
     "output_type": "stream",
     "text": [
      "log.txt\n",
      "\n",
      "RAW:\n",
      "\u001b[34mCHIRPS\u001b[m\u001b[m\n",
      "\u001b[34mGEOS5\u001b[m\u001b[m\n",
      "\u001b[34mGLOBCOVER\u001b[m\u001b[m\n",
      "LC08_L2SP_177040_20210715_20210721_02_T1.tar\n",
      "\u001b[34mMERRA2\u001b[m\u001b[m\n",
      "\u001b[34mMODIS\u001b[m\u001b[m\n",
      "\u001b[34mPROBAV\u001b[m\u001b[m\n",
      "\u001b[34mSRTM\u001b[m\u001b[m\n",
      "\u001b[34mSTATICS\u001b[m\u001b[m\n",
      "\u001b[34mWAPOR\u001b[m\u001b[m\n",
      "\n",
      "level_2:\n",
      "et_look_input.nc  se_root_input.nc  \u001b[34mse_root_output\u001b[m\u001b[m    se_root_output.nc\n",
      "\n",
      "my_landsat_folder:\n",
      "LE07_L2SP_177040_20210707_20210802_02_T1.tar\n",
      "\u001b[34mlst\u001b[m\u001b[m\n",
      "\u001b[34mndvi\u001b[m\u001b[m\n",
      "\u001b[34mr0\u001b[m\u001b[m\n"
     ]
    }
   ],
   "source": [
    "!ls *"
   ]
  },
  {
   "cell_type": "markdown",
   "metadata": {},
   "source": [
    "And inspect the xarray.Dataset like this. Notice the `pixel_size` and the size of the `lat` and `lon` dimensions."
   ]
  },
  {
   "cell_type": "code",
   "execution_count": 8,
   "metadata": {},
   "outputs": [
    {
     "data": {
      "text/html": [
       "<div><svg style=\"position: absolute; width: 0; height: 0; overflow: hidden\">\n",
       "<defs>\n",
       "<symbol id=\"icon-database\" viewBox=\"0 0 32 32\">\n",
       "<path d=\"M16 0c-8.837 0-16 2.239-16 5v4c0 2.761 7.163 5 16 5s16-2.239 16-5v-4c0-2.761-7.163-5-16-5z\"></path>\n",
       "<path d=\"M16 17c-8.837 0-16-2.239-16-5v6c0 2.761 7.163 5 16 5s16-2.239 16-5v-6c0 2.761-7.163 5-16 5z\"></path>\n",
       "<path d=\"M16 26c-8.837 0-16-2.239-16-5v6c0 2.761 7.163 5 16 5s16-2.239 16-5v-6c0 2.761-7.163 5-16 5z\"></path>\n",
       "</symbol>\n",
       "<symbol id=\"icon-file-text2\" viewBox=\"0 0 32 32\">\n",
       "<path d=\"M28.681 7.159c-0.694-0.947-1.662-2.053-2.724-3.116s-2.169-2.030-3.116-2.724c-1.612-1.182-2.393-1.319-2.841-1.319h-15.5c-1.378 0-2.5 1.121-2.5 2.5v27c0 1.378 1.122 2.5 2.5 2.5h23c1.378 0 2.5-1.122 2.5-2.5v-19.5c0-0.448-0.137-1.23-1.319-2.841zM24.543 5.457c0.959 0.959 1.712 1.825 2.268 2.543h-4.811v-4.811c0.718 0.556 1.584 1.309 2.543 2.268zM28 29.5c0 0.271-0.229 0.5-0.5 0.5h-23c-0.271 0-0.5-0.229-0.5-0.5v-27c0-0.271 0.229-0.5 0.5-0.5 0 0 15.499-0 15.5 0v7c0 0.552 0.448 1 1 1h7v19.5z\"></path>\n",
       "<path d=\"M23 26h-14c-0.552 0-1-0.448-1-1s0.448-1 1-1h14c0.552 0 1 0.448 1 1s-0.448 1-1 1z\"></path>\n",
       "<path d=\"M23 22h-14c-0.552 0-1-0.448-1-1s0.448-1 1-1h14c0.552 0 1 0.448 1 1s-0.448 1-1 1z\"></path>\n",
       "<path d=\"M23 18h-14c-0.552 0-1-0.448-1-1s0.448-1 1-1h14c0.552 0 1 0.448 1 1s-0.448 1-1 1z\"></path>\n",
       "</symbol>\n",
       "</defs>\n",
       "</svg>\n",
       "<style>/* CSS stylesheet for displaying xarray objects in jupyterlab.\n",
       " *\n",
       " */\n",
       "\n",
       ":root {\n",
       "  --xr-font-color0: var(--jp-content-font-color0, rgba(0, 0, 0, 1));\n",
       "  --xr-font-color2: var(--jp-content-font-color2, rgba(0, 0, 0, 0.54));\n",
       "  --xr-font-color3: var(--jp-content-font-color3, rgba(0, 0, 0, 0.38));\n",
       "  --xr-border-color: var(--jp-border-color2, #e0e0e0);\n",
       "  --xr-disabled-color: var(--jp-layout-color3, #bdbdbd);\n",
       "  --xr-background-color: var(--jp-layout-color0, white);\n",
       "  --xr-background-color-row-even: var(--jp-layout-color1, white);\n",
       "  --xr-background-color-row-odd: var(--jp-layout-color2, #eeeeee);\n",
       "}\n",
       "\n",
       "html[theme=dark],\n",
       "body.vscode-dark {\n",
       "  --xr-font-color0: rgba(255, 255, 255, 1);\n",
       "  --xr-font-color2: rgba(255, 255, 255, 0.54);\n",
       "  --xr-font-color3: rgba(255, 255, 255, 0.38);\n",
       "  --xr-border-color: #1F1F1F;\n",
       "  --xr-disabled-color: #515151;\n",
       "  --xr-background-color: #111111;\n",
       "  --xr-background-color-row-even: #111111;\n",
       "  --xr-background-color-row-odd: #313131;\n",
       "}\n",
       "\n",
       ".xr-wrap {\n",
       "  display: block !important;\n",
       "  min-width: 300px;\n",
       "  max-width: 700px;\n",
       "}\n",
       "\n",
       ".xr-text-repr-fallback {\n",
       "  /* fallback to plain text repr when CSS is not injected (untrusted notebook) */\n",
       "  display: none;\n",
       "}\n",
       "\n",
       ".xr-header {\n",
       "  padding-top: 6px;\n",
       "  padding-bottom: 6px;\n",
       "  margin-bottom: 4px;\n",
       "  border-bottom: solid 1px var(--xr-border-color);\n",
       "}\n",
       "\n",
       ".xr-header > div,\n",
       ".xr-header > ul {\n",
       "  display: inline;\n",
       "  margin-top: 0;\n",
       "  margin-bottom: 0;\n",
       "}\n",
       "\n",
       ".xr-obj-type,\n",
       ".xr-array-name {\n",
       "  margin-left: 2px;\n",
       "  margin-right: 10px;\n",
       "}\n",
       "\n",
       ".xr-obj-type {\n",
       "  color: var(--xr-font-color2);\n",
       "}\n",
       "\n",
       ".xr-sections {\n",
       "  padding-left: 0 !important;\n",
       "  display: grid;\n",
       "  grid-template-columns: 150px auto auto 1fr 20px 20px;\n",
       "}\n",
       "\n",
       ".xr-section-item {\n",
       "  display: contents;\n",
       "}\n",
       "\n",
       ".xr-section-item input {\n",
       "  display: none;\n",
       "}\n",
       "\n",
       ".xr-section-item input + label {\n",
       "  color: var(--xr-disabled-color);\n",
       "}\n",
       "\n",
       ".xr-section-item input:enabled + label {\n",
       "  cursor: pointer;\n",
       "  color: var(--xr-font-color2);\n",
       "}\n",
       "\n",
       ".xr-section-item input:enabled + label:hover {\n",
       "  color: var(--xr-font-color0);\n",
       "}\n",
       "\n",
       ".xr-section-summary {\n",
       "  grid-column: 1;\n",
       "  color: var(--xr-font-color2);\n",
       "  font-weight: 500;\n",
       "}\n",
       "\n",
       ".xr-section-summary > span {\n",
       "  display: inline-block;\n",
       "  padding-left: 0.5em;\n",
       "}\n",
       "\n",
       ".xr-section-summary-in:disabled + label {\n",
       "  color: var(--xr-font-color2);\n",
       "}\n",
       "\n",
       ".xr-section-summary-in + label:before {\n",
       "  display: inline-block;\n",
       "  content: '►';\n",
       "  font-size: 11px;\n",
       "  width: 15px;\n",
       "  text-align: center;\n",
       "}\n",
       "\n",
       ".xr-section-summary-in:disabled + label:before {\n",
       "  color: var(--xr-disabled-color);\n",
       "}\n",
       "\n",
       ".xr-section-summary-in:checked + label:before {\n",
       "  content: '▼';\n",
       "}\n",
       "\n",
       ".xr-section-summary-in:checked + label > span {\n",
       "  display: none;\n",
       "}\n",
       "\n",
       ".xr-section-summary,\n",
       ".xr-section-inline-details {\n",
       "  padding-top: 4px;\n",
       "  padding-bottom: 4px;\n",
       "}\n",
       "\n",
       ".xr-section-inline-details {\n",
       "  grid-column: 2 / -1;\n",
       "}\n",
       "\n",
       ".xr-section-details {\n",
       "  display: none;\n",
       "  grid-column: 1 / -1;\n",
       "  margin-bottom: 5px;\n",
       "}\n",
       "\n",
       ".xr-section-summary-in:checked ~ .xr-section-details {\n",
       "  display: contents;\n",
       "}\n",
       "\n",
       ".xr-array-wrap {\n",
       "  grid-column: 1 / -1;\n",
       "  display: grid;\n",
       "  grid-template-columns: 20px auto;\n",
       "}\n",
       "\n",
       ".xr-array-wrap > label {\n",
       "  grid-column: 1;\n",
       "  vertical-align: top;\n",
       "}\n",
       "\n",
       ".xr-preview {\n",
       "  color: var(--xr-font-color3);\n",
       "}\n",
       "\n",
       ".xr-array-preview,\n",
       ".xr-array-data {\n",
       "  padding: 0 5px !important;\n",
       "  grid-column: 2;\n",
       "}\n",
       "\n",
       ".xr-array-data,\n",
       ".xr-array-in:checked ~ .xr-array-preview {\n",
       "  display: none;\n",
       "}\n",
       "\n",
       ".xr-array-in:checked ~ .xr-array-data,\n",
       ".xr-array-preview {\n",
       "  display: inline-block;\n",
       "}\n",
       "\n",
       ".xr-dim-list {\n",
       "  display: inline-block !important;\n",
       "  list-style: none;\n",
       "  padding: 0 !important;\n",
       "  margin: 0;\n",
       "}\n",
       "\n",
       ".xr-dim-list li {\n",
       "  display: inline-block;\n",
       "  padding: 0;\n",
       "  margin: 0;\n",
       "}\n",
       "\n",
       ".xr-dim-list:before {\n",
       "  content: '(';\n",
       "}\n",
       "\n",
       ".xr-dim-list:after {\n",
       "  content: ')';\n",
       "}\n",
       "\n",
       ".xr-dim-list li:not(:last-child):after {\n",
       "  content: ',';\n",
       "  padding-right: 5px;\n",
       "}\n",
       "\n",
       ".xr-has-index {\n",
       "  font-weight: bold;\n",
       "}\n",
       "\n",
       ".xr-var-list,\n",
       ".xr-var-item {\n",
       "  display: contents;\n",
       "}\n",
       "\n",
       ".xr-var-item > div,\n",
       ".xr-var-item label,\n",
       ".xr-var-item > .xr-var-name span {\n",
       "  background-color: var(--xr-background-color-row-even);\n",
       "  margin-bottom: 0;\n",
       "}\n",
       "\n",
       ".xr-var-item > .xr-var-name:hover span {\n",
       "  padding-right: 5px;\n",
       "}\n",
       "\n",
       ".xr-var-list > li:nth-child(odd) > div,\n",
       ".xr-var-list > li:nth-child(odd) > label,\n",
       ".xr-var-list > li:nth-child(odd) > .xr-var-name span {\n",
       "  background-color: var(--xr-background-color-row-odd);\n",
       "}\n",
       "\n",
       ".xr-var-name {\n",
       "  grid-column: 1;\n",
       "}\n",
       "\n",
       ".xr-var-dims {\n",
       "  grid-column: 2;\n",
       "}\n",
       "\n",
       ".xr-var-dtype {\n",
       "  grid-column: 3;\n",
       "  text-align: right;\n",
       "  color: var(--xr-font-color2);\n",
       "}\n",
       "\n",
       ".xr-var-preview {\n",
       "  grid-column: 4;\n",
       "}\n",
       "\n",
       ".xr-var-name,\n",
       ".xr-var-dims,\n",
       ".xr-var-dtype,\n",
       ".xr-preview,\n",
       ".xr-attrs dt {\n",
       "  white-space: nowrap;\n",
       "  overflow: hidden;\n",
       "  text-overflow: ellipsis;\n",
       "  padding-right: 10px;\n",
       "}\n",
       "\n",
       ".xr-var-name:hover,\n",
       ".xr-var-dims:hover,\n",
       ".xr-var-dtype:hover,\n",
       ".xr-attrs dt:hover {\n",
       "  overflow: visible;\n",
       "  width: auto;\n",
       "  z-index: 1;\n",
       "}\n",
       "\n",
       ".xr-var-attrs,\n",
       ".xr-var-data {\n",
       "  display: none;\n",
       "  background-color: var(--xr-background-color) !important;\n",
       "  padding-bottom: 5px !important;\n",
       "}\n",
       "\n",
       ".xr-var-attrs-in:checked ~ .xr-var-attrs,\n",
       ".xr-var-data-in:checked ~ .xr-var-data {\n",
       "  display: block;\n",
       "}\n",
       "\n",
       ".xr-var-data > table {\n",
       "  float: right;\n",
       "}\n",
       "\n",
       ".xr-var-name span,\n",
       ".xr-var-data,\n",
       ".xr-attrs {\n",
       "  padding-left: 25px !important;\n",
       "}\n",
       "\n",
       ".xr-attrs,\n",
       ".xr-var-attrs,\n",
       ".xr-var-data {\n",
       "  grid-column: 1 / -1;\n",
       "}\n",
       "\n",
       "dl.xr-attrs {\n",
       "  padding: 0;\n",
       "  margin: 0;\n",
       "  display: grid;\n",
       "  grid-template-columns: 125px auto;\n",
       "}\n",
       "\n",
       ".xr-attrs dt,\n",
       ".xr-attrs dd {\n",
       "  padding: 0;\n",
       "  margin: 0;\n",
       "  float: left;\n",
       "  padding-right: 10px;\n",
       "  width: auto;\n",
       "}\n",
       "\n",
       ".xr-attrs dt {\n",
       "  font-weight: normal;\n",
       "  grid-column: 1;\n",
       "}\n",
       "\n",
       ".xr-attrs dt:hover span {\n",
       "  display: inline-block;\n",
       "  background: var(--xr-background-color);\n",
       "  padding-right: 10px;\n",
       "}\n",
       "\n",
       ".xr-attrs dd {\n",
       "  grid-column: 2;\n",
       "  white-space: pre-wrap;\n",
       "  word-break: break-all;\n",
       "}\n",
       "\n",
       ".xr-icon-database,\n",
       ".xr-icon-file-text2 {\n",
       "  display: inline-block;\n",
       "  vertical-align: middle;\n",
       "  width: 1em;\n",
       "  height: 1.5em !important;\n",
       "  stroke-width: 0;\n",
       "  stroke: currentColor;\n",
       "  fill: currentColor;\n",
       "}\n",
       "</style><pre class='xr-text-repr-fallback'>&lt;xarray.Dataset&gt;\n",
       "Dimensions:       (epoch: 1, lon: 1009, lat: 807)\n",
       "Coordinates:\n",
       "  * epoch         (epoch) int64 0\n",
       "  * lon           (lon) float64 30.2 30.2 30.2 30.2 30.2 ... 31.2 31.2 31.2 31.2\n",
       "  * lat           (lat) float64 29.7 29.7 29.7 29.7 29.7 ... 28.9 28.9 28.9 28.9\n",
       "    epoch_starts  (epoch) datetime64[ns] 2021-07-06\n",
       "    epoch_ends    (epoch) datetime64[ns] 2021-07-07\n",
       "Data variables: (12/32)\n",
       "    ndvi          (epoch, lat, lon) float32 ...\n",
       "    p_24          (epoch, lat, lon) float32 ...\n",
       "    se_root       (epoch, lat, lon) float32 ...\n",
       "    r0            (epoch, lat, lon) float32 ...\n",
       "    z             (lat, lon) float32 ...\n",
       "    land_mask     (epoch, lat, lon) float32 ...\n",
       "    ...            ...\n",
       "    z_oro         (lat, lon) float32 ...\n",
       "    t_diff        (lat, lon) float32 ...\n",
       "    slope         (lat, lon) float32 ...\n",
       "    aspect        (lat, lon) float32 ...\n",
       "    lat_deg       (lat, lon) float32 ...\n",
       "    lon_deg       (lat, lon) float32 ...\n",
       "Attributes:\n",
       "    geotransform:  [ 3.01994050e+01  9.92063500e-04  0.00000000e+00  2.970039...\n",
       "    projection:    GEOGCS[&quot;WGS 84&quot;,DATUM[&quot;WGS_1984&quot;,SPHEROID[&quot;WGS 84&quot;,6378137...\n",
       "    pixel_size:    103.25558167780254\n",
       "    example_file:  /Users/hmcoerver/pywapor_notebooks/RAW/PROBAV/NDVI/NDVI_PR...</pre><div class='xr-wrap' style='display:none'><div class='xr-header'><div class='xr-obj-type'>xarray.Dataset</div></div><ul class='xr-sections'><li class='xr-section-item'><input id='section-b5f671e6-4452-4d3e-86cf-2aadec11108d' class='xr-section-summary-in' type='checkbox' disabled ><label for='section-b5f671e6-4452-4d3e-86cf-2aadec11108d' class='xr-section-summary'  title='Expand/collapse section'>Dimensions:</label><div class='xr-section-inline-details'><ul class='xr-dim-list'><li><span class='xr-has-index'>epoch</span>: 1</li><li><span class='xr-has-index'>lon</span>: 1009</li><li><span class='xr-has-index'>lat</span>: 807</li></ul></div><div class='xr-section-details'></div></li><li class='xr-section-item'><input id='section-914b0ae4-10e6-4a06-9337-0502d0170b39' class='xr-section-summary-in' type='checkbox'  checked><label for='section-914b0ae4-10e6-4a06-9337-0502d0170b39' class='xr-section-summary' >Coordinates: <span>(5)</span></label><div class='xr-section-inline-details'></div><div class='xr-section-details'><ul class='xr-var-list'><li class='xr-var-item'><div class='xr-var-name'><span class='xr-has-index'>epoch</span></div><div class='xr-var-dims'>(epoch)</div><div class='xr-var-dtype'>int64</div><div class='xr-var-preview xr-preview'>0</div><input id='attrs-3b329922-e965-41b4-9f27-624f4b966754' class='xr-var-attrs-in' type='checkbox' disabled><label for='attrs-3b329922-e965-41b4-9f27-624f4b966754' title='Show/Hide attributes'><svg class='icon xr-icon-file-text2'><use xlink:href='#icon-file-text2'></use></svg></label><input id='data-f5fad089-aa06-4208-bae2-7c5cc2789aeb' class='xr-var-data-in' type='checkbox'><label for='data-f5fad089-aa06-4208-bae2-7c5cc2789aeb' title='Show/Hide data repr'><svg class='icon xr-icon-database'><use xlink:href='#icon-database'></use></svg></label><div class='xr-var-attrs'><dl class='xr-attrs'></dl></div><div class='xr-var-data'><pre>array([0])</pre></div></li><li class='xr-var-item'><div class='xr-var-name'><span class='xr-has-index'>lon</span></div><div class='xr-var-dims'>(lon)</div><div class='xr-var-dtype'>float64</div><div class='xr-var-preview xr-preview'>30.2 30.2 30.2 ... 31.2 31.2 31.2</div><input id='attrs-8897263d-c10a-418d-a556-6a3c3856f166' class='xr-var-attrs-in' type='checkbox' ><label for='attrs-8897263d-c10a-418d-a556-6a3c3856f166' title='Show/Hide attributes'><svg class='icon xr-icon-file-text2'><use xlink:href='#icon-file-text2'></use></svg></label><input id='data-3534cf11-e5d9-4204-b7cf-eeb55f983f6f' class='xr-var-data-in' type='checkbox'><label for='data-3534cf11-e5d9-4204-b7cf-eeb55f983f6f' title='Show/Hide data repr'><svg class='icon xr-icon-database'><use xlink:href='#icon-database'></use></svg></label><div class='xr-var-attrs'><dl class='xr-attrs'><dt><span>long_name :</span></dt><dd>Longitude</dd><dt><span>units :</span></dt><dd>degrees</dd></dl></div><div class='xr-var-data'><pre>array([30.199901, 30.200893, 30.201885, ..., 31.197917, 31.198909, 31.199901])</pre></div></li><li class='xr-var-item'><div class='xr-var-name'><span class='xr-has-index'>lat</span></div><div class='xr-var-dims'>(lat)</div><div class='xr-var-dtype'>float64</div><div class='xr-var-preview xr-preview'>29.7 29.7 29.7 ... 28.9 28.9 28.9</div><input id='attrs-e281f2d4-4f3c-4f88-b5ed-2b4d64f27aec' class='xr-var-attrs-in' type='checkbox' ><label for='attrs-e281f2d4-4f3c-4f88-b5ed-2b4d64f27aec' title='Show/Hide attributes'><svg class='icon xr-icon-file-text2'><use xlink:href='#icon-file-text2'></use></svg></label><input id='data-cd87042f-f1dd-4a4b-a67f-6121c4b94916' class='xr-var-data-in' type='checkbox'><label for='data-cd87042f-f1dd-4a4b-a67f-6121c4b94916' title='Show/Hide data repr'><svg class='icon xr-icon-database'><use xlink:href='#icon-database'></use></svg></label><div class='xr-var-attrs'><dl class='xr-attrs'><dt><span>long_name :</span></dt><dd>Latitude</dd><dt><span>units :</span></dt><dd>degrees</dd></dl></div><div class='xr-var-data'><pre>array([29.699901, 29.698909, 29.697917, ..., 28.902282, 28.90129 , 28.900298])</pre></div></li><li class='xr-var-item'><div class='xr-var-name'><span>epoch_starts</span></div><div class='xr-var-dims'>(epoch)</div><div class='xr-var-dtype'>datetime64[ns]</div><div class='xr-var-preview xr-preview'>...</div><input id='attrs-56ed8a23-89fc-4018-926d-63f3d6381e2c' class='xr-var-attrs-in' type='checkbox' disabled><label for='attrs-56ed8a23-89fc-4018-926d-63f3d6381e2c' title='Show/Hide attributes'><svg class='icon xr-icon-file-text2'><use xlink:href='#icon-file-text2'></use></svg></label><input id='data-8aac991a-e337-419f-811d-ede4dbf5f134' class='xr-var-data-in' type='checkbox'><label for='data-8aac991a-e337-419f-811d-ede4dbf5f134' title='Show/Hide data repr'><svg class='icon xr-icon-database'><use xlink:href='#icon-database'></use></svg></label><div class='xr-var-attrs'><dl class='xr-attrs'></dl></div><div class='xr-var-data'><pre>array([&#x27;2021-07-06T00:00:00.000000000&#x27;], dtype=&#x27;datetime64[ns]&#x27;)</pre></div></li><li class='xr-var-item'><div class='xr-var-name'><span>epoch_ends</span></div><div class='xr-var-dims'>(epoch)</div><div class='xr-var-dtype'>datetime64[ns]</div><div class='xr-var-preview xr-preview'>...</div><input id='attrs-4d91de5a-de41-4007-8857-34bf26de8966' class='xr-var-attrs-in' type='checkbox' disabled><label for='attrs-4d91de5a-de41-4007-8857-34bf26de8966' title='Show/Hide attributes'><svg class='icon xr-icon-file-text2'><use xlink:href='#icon-file-text2'></use></svg></label><input id='data-c9f29cc2-8448-4533-8fe6-3b4321790a40' class='xr-var-data-in' type='checkbox'><label for='data-c9f29cc2-8448-4533-8fe6-3b4321790a40' title='Show/Hide data repr'><svg class='icon xr-icon-database'><use xlink:href='#icon-database'></use></svg></label><div class='xr-var-attrs'><dl class='xr-attrs'></dl></div><div class='xr-var-data'><pre>array([&#x27;2021-07-07T00:00:00.000000000&#x27;], dtype=&#x27;datetime64[ns]&#x27;)</pre></div></li></ul></div></li><li class='xr-section-item'><input id='section-2d87ac85-f8b1-4c19-ba1f-23f633c024ef' class='xr-section-summary-in' type='checkbox'  ><label for='section-2d87ac85-f8b1-4c19-ba1f-23f633c024ef' class='xr-section-summary' >Data variables: <span>(32)</span></label><div class='xr-section-inline-details'></div><div class='xr-section-details'><ul class='xr-var-list'><li class='xr-var-item'><div class='xr-var-name'><span>ndvi</span></div><div class='xr-var-dims'>(epoch, lat, lon)</div><div class='xr-var-dtype'>float32</div><div class='xr-var-preview xr-preview'>...</div><input id='attrs-0ed7d92e-9f8e-4249-a706-4a9ef43f70b0' class='xr-var-attrs-in' type='checkbox' ><label for='attrs-0ed7d92e-9f8e-4249-a706-4a9ef43f70b0' title='Show/Hide attributes'><svg class='icon xr-icon-file-text2'><use xlink:href='#icon-file-text2'></use></svg></label><input id='data-abf6115b-ab49-4c95-9af1-29888c8c5214' class='xr-var-data-in' type='checkbox'><label for='data-abf6115b-ab49-4c95-9af1-29888c8c5214' title='Show/Hide data repr'><svg class='icon xr-icon-database'><use xlink:href='#icon-database'></use></svg></label><div class='xr-var-attrs'><dl class='xr-attrs'><dt><span>sources :</span></dt><dd>PROBAV</dd><dt><span>long_name :</span></dt><dd>Normalized difference vegetation index</dd><dt><span>units :</span></dt><dd>-</dd></dl></div><div class='xr-var-data'><pre>[814263 values with dtype=float32]</pre></div></li><li class='xr-var-item'><div class='xr-var-name'><span>p_24</span></div><div class='xr-var-dims'>(epoch, lat, lon)</div><div class='xr-var-dtype'>float32</div><div class='xr-var-preview xr-preview'>...</div><input id='attrs-41a9764f-e974-420c-bb8c-661e39306ebb' class='xr-var-attrs-in' type='checkbox' ><label for='attrs-41a9764f-e974-420c-bb8c-661e39306ebb' title='Show/Hide attributes'><svg class='icon xr-icon-file-text2'><use xlink:href='#icon-file-text2'></use></svg></label><input id='data-81e9eb40-f620-4051-b3da-8453aba8e443' class='xr-var-data-in' type='checkbox'><label for='data-81e9eb40-f620-4051-b3da-8453aba8e443' title='Show/Hide data repr'><svg class='icon xr-icon-database'><use xlink:href='#icon-database'></use></svg></label><div class='xr-var-attrs'><dl class='xr-attrs'><dt><span>sources :</span></dt><dd>CHIRPS.v2.0</dd><dt><span>long_name :</span></dt><dd>Daily precipitation</dd><dt><span>units :</span></dt><dd>mm day-1</dd></dl></div><div class='xr-var-data'><pre>[814263 values with dtype=float32]</pre></div></li><li class='xr-var-item'><div class='xr-var-name'><span>se_root</span></div><div class='xr-var-dims'>(epoch, lat, lon)</div><div class='xr-var-dtype'>float32</div><div class='xr-var-preview xr-preview'>...</div><input id='attrs-e21be94d-bde9-49d2-9cb7-cdc35e179240' class='xr-var-attrs-in' type='checkbox' ><label for='attrs-e21be94d-bde9-49d2-9cb7-cdc35e179240' title='Show/Hide attributes'><svg class='icon xr-icon-file-text2'><use xlink:href='#icon-file-text2'></use></svg></label><input id='data-ce822d3a-a2f3-485e-834b-4e2e78a0feb0' class='xr-var-data-in' type='checkbox'><label for='data-ce822d3a-a2f3-485e-834b-4e2e78a0feb0' title='Show/Hide data repr'><svg class='icon xr-icon-database'><use xlink:href='#icon-database'></use></svg></label><div class='xr-var-attrs'><dl class='xr-attrs'><dt><span>sources :</span></dt><dd>-</dd><dt><span>long_name :</span></dt><dd>Relative root zone soil moisture</dd><dt><span>units :</span></dt><dd>-</dd></dl></div><div class='xr-var-data'><pre>[814263 values with dtype=float32]</pre></div></li><li class='xr-var-item'><div class='xr-var-name'><span>r0</span></div><div class='xr-var-dims'>(epoch, lat, lon)</div><div class='xr-var-dtype'>float32</div><div class='xr-var-preview xr-preview'>...</div><input id='attrs-5a1afc44-5202-45bb-a5ab-75995e805417' class='xr-var-attrs-in' type='checkbox' ><label for='attrs-5a1afc44-5202-45bb-a5ab-75995e805417' title='Show/Hide attributes'><svg class='icon xr-icon-file-text2'><use xlink:href='#icon-file-text2'></use></svg></label><input id='data-f2ef4480-6754-4654-9eb3-40664104bb02' class='xr-var-data-in' type='checkbox'><label for='data-f2ef4480-6754-4654-9eb3-40664104bb02' title='Show/Hide data repr'><svg class='icon xr-icon-database'><use xlink:href='#icon-database'></use></svg></label><div class='xr-var-attrs'><dl class='xr-attrs'><dt><span>sources :</span></dt><dd>PROBAV</dd><dt><span>long_name :</span></dt><dd>Albedo</dd><dt><span>units :</span></dt><dd>-</dd></dl></div><div class='xr-var-data'><pre>[814263 values with dtype=float32]</pre></div></li><li class='xr-var-item'><div class='xr-var-name'><span>z</span></div><div class='xr-var-dims'>(lat, lon)</div><div class='xr-var-dtype'>float32</div><div class='xr-var-preview xr-preview'>...</div><input id='attrs-da5737af-3952-402e-869d-adcb5de2e13e' class='xr-var-attrs-in' type='checkbox' ><label for='attrs-da5737af-3952-402e-869d-adcb5de2e13e' title='Show/Hide attributes'><svg class='icon xr-icon-file-text2'><use xlink:href='#icon-file-text2'></use></svg></label><input id='data-7173b485-c6d2-46bf-a150-56b89c459e7a' class='xr-var-data-in' type='checkbox'><label for='data-7173b485-c6d2-46bf-a150-56b89c459e7a' title='Show/Hide data repr'><svg class='icon xr-icon-database'><use xlink:href='#icon-database'></use></svg></label><div class='xr-var-attrs'><dl class='xr-attrs'><dt><span>sources :</span></dt><dd>SRTM</dd><dt><span>long_name :</span></dt><dd>Elevation above sea level</dd><dt><span>units :</span></dt><dd>m</dd></dl></div><div class='xr-var-data'><pre>[814263 values with dtype=float32]</pre></div></li><li class='xr-var-item'><div class='xr-var-name'><span>land_mask</span></div><div class='xr-var-dims'>(epoch, lat, lon)</div><div class='xr-var-dtype'>float32</div><div class='xr-var-preview xr-preview'>...</div><input id='attrs-36b3113d-9ff2-4e58-8db8-546bb641a3a2' class='xr-var-attrs-in' type='checkbox' ><label for='attrs-36b3113d-9ff2-4e58-8db8-546bb641a3a2' title='Show/Hide attributes'><svg class='icon xr-icon-file-text2'><use xlink:href='#icon-file-text2'></use></svg></label><input id='data-1ad16af4-53b8-430f-b374-8306cdee5555' class='xr-var-data-in' type='checkbox'><label for='data-1ad16af4-53b8-430f-b374-8306cdee5555' title='Show/Hide data repr'><svg class='icon xr-icon-database'><use xlink:href='#icon-database'></use></svg></label><div class='xr-var-attrs'><dl class='xr-attrs'><dt><span>sources :</span></dt><dd>WAPOR</dd><dt><span>long_name :</span></dt><dd>Land use classification</dd><dt><span>units :</span></dt><dd>-</dd></dl></div><div class='xr-var-data'><pre>[814263 values with dtype=float32]</pre></div></li><li class='xr-var-item'><div class='xr-var-name'><span>rs_min</span></div><div class='xr-var-dims'>(epoch, lat, lon)</div><div class='xr-var-dtype'>float32</div><div class='xr-var-preview xr-preview'>...</div><input id='attrs-98eafab5-1a2e-496f-be8c-d1ab1a85c945' class='xr-var-attrs-in' type='checkbox' ><label for='attrs-98eafab5-1a2e-496f-be8c-d1ab1a85c945' title='Show/Hide attributes'><svg class='icon xr-icon-file-text2'><use xlink:href='#icon-file-text2'></use></svg></label><input id='data-5c92c259-c96a-47d3-a218-1c2aae4b1526' class='xr-var-data-in' type='checkbox'><label for='data-5c92c259-c96a-47d3-a218-1c2aae4b1526' title='Show/Hide data repr'><svg class='icon xr-icon-database'><use xlink:href='#icon-database'></use></svg></label><div class='xr-var-attrs'><dl class='xr-attrs'><dt><span>sources :</span></dt><dd>WAPOR</dd><dt><span>long_name :</span></dt><dd>Minimal stomatal resistance</dd><dt><span>units :</span></dt><dd>s m-1</dd></dl></div><div class='xr-var-data'><pre>[814263 values with dtype=float32]</pre></div></li><li class='xr-var-item'><div class='xr-var-name'><span>lue_max</span></div><div class='xr-var-dims'>(epoch, lat, lon)</div><div class='xr-var-dtype'>float32</div><div class='xr-var-preview xr-preview'>...</div><input id='attrs-e60607a6-fef2-445f-b083-1d3a1858e91b' class='xr-var-attrs-in' type='checkbox' ><label for='attrs-e60607a6-fef2-445f-b083-1d3a1858e91b' title='Show/Hide attributes'><svg class='icon xr-icon-file-text2'><use xlink:href='#icon-file-text2'></use></svg></label><input id='data-a542ce21-c21f-44c6-b4ef-b10d1c847f33' class='xr-var-data-in' type='checkbox'><label for='data-a542ce21-c21f-44c6-b4ef-b10d1c847f33' title='Show/Hide data repr'><svg class='icon xr-icon-database'><use xlink:href='#icon-database'></use></svg></label><div class='xr-var-attrs'><dl class='xr-attrs'><dt><span>sources :</span></dt><dd>WAPOR</dd><dt><span>long_name :</span></dt><dd></dd><dt><span>units :</span></dt><dd></dd></dl></div><div class='xr-var-data'><pre>[814263 values with dtype=float32]</pre></div></li><li class='xr-var-item'><div class='xr-var-name'><span>z_obst_max</span></div><div class='xr-var-dims'>(epoch, lat, lon)</div><div class='xr-var-dtype'>float32</div><div class='xr-var-preview xr-preview'>...</div><input id='attrs-78d3e29e-31ee-403b-abef-cd9896bd1dd4' class='xr-var-attrs-in' type='checkbox' ><label for='attrs-78d3e29e-31ee-403b-abef-cd9896bd1dd4' title='Show/Hide attributes'><svg class='icon xr-icon-file-text2'><use xlink:href='#icon-file-text2'></use></svg></label><input id='data-ba693b7e-fdac-4e3f-8248-2fee0435a770' class='xr-var-data-in' type='checkbox'><label for='data-ba693b7e-fdac-4e3f-8248-2fee0435a770' title='Show/Hide data repr'><svg class='icon xr-icon-database'><use xlink:href='#icon-database'></use></svg></label><div class='xr-var-attrs'><dl class='xr-attrs'><dt><span>sources :</span></dt><dd>WAPOR</dd><dt><span>long_name :</span></dt><dd>Maximum obstacle height</dd><dt><span>units :</span></dt><dd>m</dd></dl></div><div class='xr-var-data'><pre>[814263 values with dtype=float32]</pre></div></li><li class='xr-var-item'><div class='xr-var-name'><span>ra_24</span></div><div class='xr-var-dims'>(epoch, lat, lon)</div><div class='xr-var-dtype'>float32</div><div class='xr-var-preview xr-preview'>...</div><input id='attrs-a5bd1d89-9ac7-41c6-8fd9-f5f543e1b0d2' class='xr-var-attrs-in' type='checkbox' ><label for='attrs-a5bd1d89-9ac7-41c6-8fd9-f5f543e1b0d2' title='Show/Hide attributes'><svg class='icon xr-icon-file-text2'><use xlink:href='#icon-file-text2'></use></svg></label><input id='data-77628fa6-818c-4628-89b3-ef8af89a5d1a' class='xr-var-data-in' type='checkbox'><label for='data-77628fa6-818c-4628-89b3-ef8af89a5d1a' title='Show/Hide data repr'><svg class='icon xr-icon-database'><use xlink:href='#icon-database'></use></svg></label><div class='xr-var-attrs'><dl class='xr-attrs'><dt><span>sources :</span></dt><dd>MERRA2</dd><dt><span>long_name :</span></dt><dd>Daily solar radiation</dd><dt><span>units :</span></dt><dd>W m-2</dd></dl></div><div class='xr-var-data'><pre>[814263 values with dtype=float32]</pre></div></li><li class='xr-var-item'><div class='xr-var-name'><span>t_air_24</span></div><div class='xr-var-dims'>(epoch, lat, lon)</div><div class='xr-var-dtype'>float32</div><div class='xr-var-preview xr-preview'>...</div><input id='attrs-f8be0257-0ffa-4a40-92bc-4c7c96399012' class='xr-var-attrs-in' type='checkbox' ><label for='attrs-f8be0257-0ffa-4a40-92bc-4c7c96399012' title='Show/Hide attributes'><svg class='icon xr-icon-file-text2'><use xlink:href='#icon-file-text2'></use></svg></label><input id='data-42e5a2ad-25e2-4d8f-a93a-4dd08819f2c5' class='xr-var-data-in' type='checkbox'><label for='data-42e5a2ad-25e2-4d8f-a93a-4dd08819f2c5' title='Show/Hide data repr'><svg class='icon xr-icon-database'><use xlink:href='#icon-database'></use></svg></label><div class='xr-var-attrs'><dl class='xr-attrs'><dt><span>sources :</span></dt><dd>GEOS5</dd><dt><span>long_name :</span></dt><dd>Daily air temperature</dd><dt><span>units :</span></dt><dd>C</dd></dl></div><div class='xr-var-data'><pre>[814263 values with dtype=float32]</pre></div></li><li class='xr-var-item'><div class='xr-var-name'><span>t_air_min_24</span></div><div class='xr-var-dims'>(epoch, lat, lon)</div><div class='xr-var-dtype'>float32</div><div class='xr-var-preview xr-preview'>...</div><input id='attrs-f9001d5a-45b0-4282-b9f2-a35211b929cd' class='xr-var-attrs-in' type='checkbox' ><label for='attrs-f9001d5a-45b0-4282-b9f2-a35211b929cd' title='Show/Hide attributes'><svg class='icon xr-icon-file-text2'><use xlink:href='#icon-file-text2'></use></svg></label><input id='data-29872fa3-4c87-4d17-b719-a3f8f0b3ff49' class='xr-var-data-in' type='checkbox'><label for='data-29872fa3-4c87-4d17-b719-a3f8f0b3ff49' title='Show/Hide data repr'><svg class='icon xr-icon-database'><use xlink:href='#icon-database'></use></svg></label><div class='xr-var-attrs'><dl class='xr-attrs'><dt><span>sources :</span></dt><dd>GEOS5</dd><dt><span>long_name :</span></dt><dd>Daily minimum temperature</dd><dt><span>units :</span></dt><dd>C</dd></dl></div><div class='xr-var-data'><pre>[814263 values with dtype=float32]</pre></div></li><li class='xr-var-item'><div class='xr-var-name'><span>t_air_max_24</span></div><div class='xr-var-dims'>(epoch, lat, lon)</div><div class='xr-var-dtype'>float32</div><div class='xr-var-preview xr-preview'>...</div><input id='attrs-baafe88b-b271-45b1-9d10-99f5281c66e6' class='xr-var-attrs-in' type='checkbox' ><label for='attrs-baafe88b-b271-45b1-9d10-99f5281c66e6' title='Show/Hide attributes'><svg class='icon xr-icon-file-text2'><use xlink:href='#icon-file-text2'></use></svg></label><input id='data-0cc55e97-c385-48bc-a574-e1530e725d80' class='xr-var-data-in' type='checkbox'><label for='data-0cc55e97-c385-48bc-a574-e1530e725d80' title='Show/Hide data repr'><svg class='icon xr-icon-database'><use xlink:href='#icon-database'></use></svg></label><div class='xr-var-attrs'><dl class='xr-attrs'><dt><span>sources :</span></dt><dd>GEOS5</dd><dt><span>long_name :</span></dt><dd>Daily maximum temperature</dd><dt><span>units :</span></dt><dd>C</dd></dl></div><div class='xr-var-data'><pre>[814263 values with dtype=float32]</pre></div></li><li class='xr-var-item'><div class='xr-var-name'><span>u2m_24</span></div><div class='xr-var-dims'>(epoch, lat, lon)</div><div class='xr-var-dtype'>float32</div><div class='xr-var-preview xr-preview'>...</div><input id='attrs-2d6b379b-2112-4a05-8277-d8de9247171c' class='xr-var-attrs-in' type='checkbox' ><label for='attrs-2d6b379b-2112-4a05-8277-d8de9247171c' title='Show/Hide attributes'><svg class='icon xr-icon-file-text2'><use xlink:href='#icon-file-text2'></use></svg></label><input id='data-008107ec-4ffd-4669-8bd4-f9e9472fe986' class='xr-var-data-in' type='checkbox'><label for='data-008107ec-4ffd-4669-8bd4-f9e9472fe986' title='Show/Hide data repr'><svg class='icon xr-icon-database'><use xlink:href='#icon-database'></use></svg></label><div class='xr-var-attrs'><dl class='xr-attrs'><dt><span>sources :</span></dt><dd>GEOS5</dd><dt><span>long_name :</span></dt><dd>Daily average eastward wind speed at 2 meter</dd><dt><span>units :</span></dt><dd>m s-1</dd></dl></div><div class='xr-var-data'><pre>[814263 values with dtype=float32]</pre></div></li><li class='xr-var-item'><div class='xr-var-name'><span>v2m_24</span></div><div class='xr-var-dims'>(epoch, lat, lon)</div><div class='xr-var-dtype'>float32</div><div class='xr-var-preview xr-preview'>...</div><input id='attrs-9ed13861-53c4-4232-9a58-5f2863027d23' class='xr-var-attrs-in' type='checkbox' ><label for='attrs-9ed13861-53c4-4232-9a58-5f2863027d23' title='Show/Hide attributes'><svg class='icon xr-icon-file-text2'><use xlink:href='#icon-file-text2'></use></svg></label><input id='data-c443e06f-38b8-414f-b027-d5f71daabdb5' class='xr-var-data-in' type='checkbox'><label for='data-c443e06f-38b8-414f-b027-d5f71daabdb5' title='Show/Hide data repr'><svg class='icon xr-icon-database'><use xlink:href='#icon-database'></use></svg></label><div class='xr-var-attrs'><dl class='xr-attrs'><dt><span>sources :</span></dt><dd>GEOS5</dd><dt><span>long_name :</span></dt><dd>Daily average northward wind speed at 2 meter</dd><dt><span>units :</span></dt><dd>m s-1</dd></dl></div><div class='xr-var-data'><pre>[814263 values with dtype=float32]</pre></div></li><li class='xr-var-item'><div class='xr-var-name'><span>p_air_0_24</span></div><div class='xr-var-dims'>(epoch, lat, lon)</div><div class='xr-var-dtype'>float32</div><div class='xr-var-preview xr-preview'>...</div><input id='attrs-bacb5a6b-e921-4eac-afb0-8c277d97c62c' class='xr-var-attrs-in' type='checkbox' ><label for='attrs-bacb5a6b-e921-4eac-afb0-8c277d97c62c' title='Show/Hide attributes'><svg class='icon xr-icon-file-text2'><use xlink:href='#icon-file-text2'></use></svg></label><input id='data-df7c607d-c124-4e90-a0cb-316133167cee' class='xr-var-data-in' type='checkbox'><label for='data-df7c607d-c124-4e90-a0cb-316133167cee' title='Show/Hide data repr'><svg class='icon xr-icon-database'><use xlink:href='#icon-database'></use></svg></label><div class='xr-var-attrs'><dl class='xr-attrs'><dt><span>sources :</span></dt><dd>GEOS5</dd><dt><span>long_name :</span></dt><dd>Daily air pressure at sea level</dd><dt><span>units :</span></dt><dd>mbar</dd></dl></div><div class='xr-var-data'><pre>[814263 values with dtype=float32]</pre></div></li><li class='xr-var-item'><div class='xr-var-name'><span>qv_24</span></div><div class='xr-var-dims'>(epoch, lat, lon)</div><div class='xr-var-dtype'>float32</div><div class='xr-var-preview xr-preview'>...</div><input id='attrs-ec1eb220-9287-4b65-85c2-c7167a40fd80' class='xr-var-attrs-in' type='checkbox' ><label for='attrs-ec1eb220-9287-4b65-85c2-c7167a40fd80' title='Show/Hide attributes'><svg class='icon xr-icon-file-text2'><use xlink:href='#icon-file-text2'></use></svg></label><input id='data-98ed9256-944e-4a32-b540-3b32e5f6aeae' class='xr-var-data-in' type='checkbox'><label for='data-98ed9256-944e-4a32-b540-3b32e5f6aeae' title='Show/Hide data repr'><svg class='icon xr-icon-database'><use xlink:href='#icon-database'></use></svg></label><div class='xr-var-attrs'><dl class='xr-attrs'><dt><span>sources :</span></dt><dd>GEOS5</dd><dt><span>long_name :</span></dt><dd>Daily specific humidity</dd><dt><span>units :</span></dt><dd>kg kg-1</dd></dl></div><div class='xr-var-data'><pre>[814263 values with dtype=float32]</pre></div></li><li class='xr-var-item'><div class='xr-var-name'><span>lw_offset</span></div><div class='xr-var-dims'>(lat, lon)</div><div class='xr-var-dtype'>float32</div><div class='xr-var-preview xr-preview'>...</div><input id='attrs-18cc7a4a-fd9e-4db6-8a27-61a5f4907749' class='xr-var-attrs-in' type='checkbox' ><label for='attrs-18cc7a4a-fd9e-4db6-8a27-61a5f4907749' title='Show/Hide attributes'><svg class='icon xr-icon-file-text2'><use xlink:href='#icon-file-text2'></use></svg></label><input id='data-c80acf7b-3f0b-4923-8592-6c4dec31c1a6' class='xr-var-data-in' type='checkbox'><label for='data-c80acf7b-3f0b-4923-8592-6c4dec31c1a6' title='Show/Hide data repr'><svg class='icon xr-icon-database'><use xlink:href='#icon-database'></use></svg></label><div class='xr-var-attrs'><dl class='xr-attrs'><dt><span>sources :</span></dt><dd>STATICS</dd><dt><span>long_name :</span></dt><dd>Offset of the tau-term in the FAO-56 longwave radiation relationship</dd><dt><span>units :</span></dt><dd>-</dd></dl></div><div class='xr-var-data'><pre>[814263 values with dtype=float32]</pre></div></li><li class='xr-var-item'><div class='xr-var-name'><span>lw_slope</span></div><div class='xr-var-dims'>(lat, lon)</div><div class='xr-var-dtype'>float32</div><div class='xr-var-preview xr-preview'>...</div><input id='attrs-7f68eeaa-989f-4fd7-a670-1310c451d0bd' class='xr-var-attrs-in' type='checkbox' ><label for='attrs-7f68eeaa-989f-4fd7-a670-1310c451d0bd' title='Show/Hide attributes'><svg class='icon xr-icon-file-text2'><use xlink:href='#icon-file-text2'></use></svg></label><input id='data-e7c72ae2-1ce6-46d9-95f4-3d7d76c71fc4' class='xr-var-data-in' type='checkbox'><label for='data-e7c72ae2-1ce6-46d9-95f4-3d7d76c71fc4' title='Show/Hide data repr'><svg class='icon xr-icon-database'><use xlink:href='#icon-database'></use></svg></label><div class='xr-var-attrs'><dl class='xr-attrs'><dt><span>sources :</span></dt><dd>STATICS</dd><dt><span>long_name :</span></dt><dd>Slope of the tau-term in the FAO-56 longwave radiation relationship</dd><dt><span>units :</span></dt><dd>-</dd></dl></div><div class='xr-var-data'><pre>[814263 values with dtype=float32]</pre></div></li><li class='xr-var-item'><div class='xr-var-name'><span>r0_bare</span></div><div class='xr-var-dims'>(lat, lon)</div><div class='xr-var-dtype'>float32</div><div class='xr-var-preview xr-preview'>...</div><input id='attrs-47a98497-af52-4336-a5a4-d51a9c1ef323' class='xr-var-attrs-in' type='checkbox' ><label for='attrs-47a98497-af52-4336-a5a4-d51a9c1ef323' title='Show/Hide attributes'><svg class='icon xr-icon-file-text2'><use xlink:href='#icon-file-text2'></use></svg></label><input id='data-f946de44-e66c-4dd4-a784-9e821983305e' class='xr-var-data-in' type='checkbox'><label for='data-f946de44-e66c-4dd4-a784-9e821983305e' title='Show/Hide data repr'><svg class='icon xr-icon-database'><use xlink:href='#icon-database'></use></svg></label><div class='xr-var-attrs'><dl class='xr-attrs'><dt><span>sources :</span></dt><dd>STATICS</dd><dt><span>long_name :</span></dt><dd>Dry bare soil surface albedo</dd><dt><span>units :</span></dt><dd>-</dd></dl></div><div class='xr-var-data'><pre>[814263 values with dtype=float32]</pre></div></li><li class='xr-var-item'><div class='xr-var-name'><span>r0_full</span></div><div class='xr-var-dims'>(lat, lon)</div><div class='xr-var-dtype'>float32</div><div class='xr-var-preview xr-preview'>...</div><input id='attrs-9bdb2bca-44f6-4c7c-a559-ce3150dd79e4' class='xr-var-attrs-in' type='checkbox' ><label for='attrs-9bdb2bca-44f6-4c7c-a559-ce3150dd79e4' title='Show/Hide attributes'><svg class='icon xr-icon-file-text2'><use xlink:href='#icon-file-text2'></use></svg></label><input id='data-2c3a7748-14dc-4da5-a239-976b8c7d80a7' class='xr-var-data-in' type='checkbox'><label for='data-2c3a7748-14dc-4da5-a239-976b8c7d80a7' title='Show/Hide data repr'><svg class='icon xr-icon-database'><use xlink:href='#icon-database'></use></svg></label><div class='xr-var-attrs'><dl class='xr-attrs'><dt><span>sources :</span></dt><dd>STATICS</dd><dt><span>long_name :</span></dt><dd>Surface albedo under full vegetation cover</dd><dt><span>units :</span></dt><dd>-</dd></dl></div><div class='xr-var-data'><pre>[814263 values with dtype=float32]</pre></div></li><li class='xr-var-item'><div class='xr-var-name'><span>rn_offset</span></div><div class='xr-var-dims'>(lat, lon)</div><div class='xr-var-dtype'>float32</div><div class='xr-var-preview xr-preview'>...</div><input id='attrs-610a57dc-ace4-4586-ac07-ca14119e8500' class='xr-var-attrs-in' type='checkbox' ><label for='attrs-610a57dc-ace4-4586-ac07-ca14119e8500' title='Show/Hide attributes'><svg class='icon xr-icon-file-text2'><use xlink:href='#icon-file-text2'></use></svg></label><input id='data-4c7afed6-1a23-4fd8-b1ae-d2a93658921b' class='xr-var-data-in' type='checkbox'><label for='data-4c7afed6-1a23-4fd8-b1ae-d2a93658921b' title='Show/Hide data repr'><svg class='icon xr-icon-database'><use xlink:href='#icon-database'></use></svg></label><div class='xr-var-attrs'><dl class='xr-attrs'><dt><span>sources :</span></dt><dd>STATICS</dd><dt><span>long_name :</span></dt><dd>Offset rn/g0-relation water</dd><dt><span>units :</span></dt><dd>-</dd></dl></div><div class='xr-var-data'><pre>[814263 values with dtype=float32]</pre></div></li><li class='xr-var-item'><div class='xr-var-name'><span>rn_slope</span></div><div class='xr-var-dims'>(lat, lon)</div><div class='xr-var-dtype'>float32</div><div class='xr-var-preview xr-preview'>...</div><input id='attrs-bcf65036-1f6d-4c07-9dc1-7cfbf659abb1' class='xr-var-attrs-in' type='checkbox' ><label for='attrs-bcf65036-1f6d-4c07-9dc1-7cfbf659abb1' title='Show/Hide attributes'><svg class='icon xr-icon-file-text2'><use xlink:href='#icon-file-text2'></use></svg></label><input id='data-2817fe1a-5566-4553-ad2d-5193de705281' class='xr-var-data-in' type='checkbox'><label for='data-2817fe1a-5566-4553-ad2d-5193de705281' title='Show/Hide data repr'><svg class='icon xr-icon-database'><use xlink:href='#icon-database'></use></svg></label><div class='xr-var-attrs'><dl class='xr-attrs'><dt><span>sources :</span></dt><dd>STATICS</dd><dt><span>long_name :</span></dt><dd>Slope rn/g0-relation water</dd><dt><span>units :</span></dt><dd>-</dd></dl></div><div class='xr-var-data'><pre>[814263 values with dtype=float32]</pre></div></li><li class='xr-var-item'><div class='xr-var-name'><span>t_amp_year</span></div><div class='xr-var-dims'>(lat, lon)</div><div class='xr-var-dtype'>float32</div><div class='xr-var-preview xr-preview'>...</div><input id='attrs-adeeb385-47db-40aa-b4d5-d4cd441fb382' class='xr-var-attrs-in' type='checkbox' ><label for='attrs-adeeb385-47db-40aa-b4d5-d4cd441fb382' title='Show/Hide attributes'><svg class='icon xr-icon-file-text2'><use xlink:href='#icon-file-text2'></use></svg></label><input id='data-0867351c-85fd-409e-bc0f-5e01b1a92915' class='xr-var-data-in' type='checkbox'><label for='data-0867351c-85fd-409e-bc0f-5e01b1a92915' title='Show/Hide data repr'><svg class='icon xr-icon-database'><use xlink:href='#icon-database'></use></svg></label><div class='xr-var-attrs'><dl class='xr-attrs'><dt><span>sources :</span></dt><dd>STATICS</dd><dt><span>long_name :</span></dt><dd>Yearly air temperature amplitude</dd><dt><span>units :</span></dt><dd>K</dd></dl></div><div class='xr-var-data'><pre>[814263 values with dtype=float32]</pre></div></li><li class='xr-var-item'><div class='xr-var-name'><span>t_opt</span></div><div class='xr-var-dims'>(lat, lon)</div><div class='xr-var-dtype'>float32</div><div class='xr-var-preview xr-preview'>...</div><input id='attrs-c05c501d-93be-4545-a8d3-77ffd9f796f8' class='xr-var-attrs-in' type='checkbox' ><label for='attrs-c05c501d-93be-4545-a8d3-77ffd9f796f8' title='Show/Hide attributes'><svg class='icon xr-icon-file-text2'><use xlink:href='#icon-file-text2'></use></svg></label><input id='data-275cde67-09b4-48ec-86bc-38aa4cf0b899' class='xr-var-data-in' type='checkbox'><label for='data-275cde67-09b4-48ec-86bc-38aa4cf0b899' title='Show/Hide data repr'><svg class='icon xr-icon-database'><use xlink:href='#icon-database'></use></svg></label><div class='xr-var-attrs'><dl class='xr-attrs'><dt><span>sources :</span></dt><dd>STATICS</dd><dt><span>long_name :</span></dt><dd>Optimum air temperature for plant growth</dd><dt><span>units :</span></dt><dd>C</dd></dl></div><div class='xr-var-data'><pre>[814263 values with dtype=float32]</pre></div></li><li class='xr-var-item'><div class='xr-var-name'><span>vpd_slope</span></div><div class='xr-var-dims'>(lat, lon)</div><div class='xr-var-dtype'>float32</div><div class='xr-var-preview xr-preview'>...</div><input id='attrs-a7ba6cbd-7d70-429e-bbfc-dc4805b03821' class='xr-var-attrs-in' type='checkbox' ><label for='attrs-a7ba6cbd-7d70-429e-bbfc-dc4805b03821' title='Show/Hide attributes'><svg class='icon xr-icon-file-text2'><use xlink:href='#icon-file-text2'></use></svg></label><input id='data-4dff6816-125c-4ece-9985-59c0d4ff65a4' class='xr-var-data-in' type='checkbox'><label for='data-4dff6816-125c-4ece-9985-59c0d4ff65a4' title='Show/Hide data repr'><svg class='icon xr-icon-database'><use xlink:href='#icon-database'></use></svg></label><div class='xr-var-attrs'><dl class='xr-attrs'><dt><span>sources :</span></dt><dd>STATICS</dd><dt><span>long_name :</span></dt><dd>Vapour pressure stress curve slope</dd><dt><span>units :</span></dt><dd>mbar-1</dd></dl></div><div class='xr-var-data'><pre>[814263 values with dtype=float32]</pre></div></li><li class='xr-var-item'><div class='xr-var-name'><span>z_oro</span></div><div class='xr-var-dims'>(lat, lon)</div><div class='xr-var-dtype'>float32</div><div class='xr-var-preview xr-preview'>...</div><input id='attrs-4190649a-2701-4236-bad8-27618c616244' class='xr-var-attrs-in' type='checkbox' ><label for='attrs-4190649a-2701-4236-bad8-27618c616244' title='Show/Hide attributes'><svg class='icon xr-icon-file-text2'><use xlink:href='#icon-file-text2'></use></svg></label><input id='data-22ec5944-7d02-43e6-be51-4ba76734d77a' class='xr-var-data-in' type='checkbox'><label for='data-22ec5944-7d02-43e6-be51-4ba76734d77a' title='Show/Hide data repr'><svg class='icon xr-icon-database'><use xlink:href='#icon-database'></use></svg></label><div class='xr-var-attrs'><dl class='xr-attrs'><dt><span>sources :</span></dt><dd>STATICS</dd><dt><span>long_name :</span></dt><dd>Orographic roughness</dd><dt><span>units :</span></dt><dd>m</dd></dl></div><div class='xr-var-data'><pre>[814263 values with dtype=float32]</pre></div></li><li class='xr-var-item'><div class='xr-var-name'><span>t_diff</span></div><div class='xr-var-dims'>(lat, lon)</div><div class='xr-var-dtype'>float32</div><div class='xr-var-preview xr-preview'>...</div><input id='attrs-52c44361-a1ea-47db-9b7f-4e28254ceae8' class='xr-var-attrs-in' type='checkbox' ><label for='attrs-52c44361-a1ea-47db-9b7f-4e28254ceae8' title='Show/Hide attributes'><svg class='icon xr-icon-file-text2'><use xlink:href='#icon-file-text2'></use></svg></label><input id='data-b80cb036-977a-47d6-a899-7e31cc64f635' class='xr-var-data-in' type='checkbox'><label for='data-b80cb036-977a-47d6-a899-7e31cc64f635' title='Show/Hide data repr'><svg class='icon xr-icon-database'><use xlink:href='#icon-database'></use></svg></label><div class='xr-var-attrs'><dl class='xr-attrs'><dt><span>sources :</span></dt><dd>temperature.lapse_rate()</dd><dt><span>long_name :</span></dt><dd>Lapse-rate temperature adjustment</dd><dt><span>units :</span></dt><dd>C</dd></dl></div><div class='xr-var-data'><pre>[814263 values with dtype=float32]</pre></div></li><li class='xr-var-item'><div class='xr-var-name'><span>slope</span></div><div class='xr-var-dims'>(lat, lon)</div><div class='xr-var-dtype'>float32</div><div class='xr-var-preview xr-preview'>...</div><input id='attrs-8ea6a434-eea0-428a-9936-d00866c6bfbd' class='xr-var-attrs-in' type='checkbox' ><label for='attrs-8ea6a434-eea0-428a-9936-d00866c6bfbd' title='Show/Hide attributes'><svg class='icon xr-icon-file-text2'><use xlink:href='#icon-file-text2'></use></svg></label><input id='data-af16495b-4c5e-4f43-a96f-5dc15ff39e95' class='xr-var-data-in' type='checkbox'><label for='data-af16495b-4c5e-4f43-a96f-5dc15ff39e95' title='Show/Hide data repr'><svg class='icon xr-icon-database'><use xlink:href='#icon-database'></use></svg></label><div class='xr-var-attrs'><dl class='xr-attrs'><dt><span>sources :</span></dt><dd>dem.to_slope()</dd><dt><span>long_name :</span></dt><dd>Slope</dd><dt><span>units :</span></dt><dd>radians</dd></dl></div><div class='xr-var-data'><pre>[814263 values with dtype=float32]</pre></div></li><li class='xr-var-item'><div class='xr-var-name'><span>aspect</span></div><div class='xr-var-dims'>(lat, lon)</div><div class='xr-var-dtype'>float32</div><div class='xr-var-preview xr-preview'>...</div><input id='attrs-77a6c4aa-4d21-4f86-9937-49b5a875a9ff' class='xr-var-attrs-in' type='checkbox' ><label for='attrs-77a6c4aa-4d21-4f86-9937-49b5a875a9ff' title='Show/Hide attributes'><svg class='icon xr-icon-file-text2'><use xlink:href='#icon-file-text2'></use></svg></label><input id='data-9571c8ae-50dd-4cb2-b352-58ecbea06401' class='xr-var-data-in' type='checkbox'><label for='data-9571c8ae-50dd-4cb2-b352-58ecbea06401' title='Show/Hide data repr'><svg class='icon xr-icon-database'><use xlink:href='#icon-database'></use></svg></label><div class='xr-var-attrs'><dl class='xr-attrs'><dt><span>sources :</span></dt><dd>dem.to_aspect()</dd><dt><span>long_name :</span></dt><dd>Aspect (0 is north; pi is south)</dd><dt><span>units :</span></dt><dd>radians</dd></dl></div><div class='xr-var-data'><pre>[814263 values with dtype=float32]</pre></div></li><li class='xr-var-item'><div class='xr-var-name'><span>lat_deg</span></div><div class='xr-var-dims'>(lat, lon)</div><div class='xr-var-dtype'>float32</div><div class='xr-var-preview xr-preview'>...</div><input id='attrs-f2910e9d-a5ea-4524-afa9-0d9d92ba6259' class='xr-var-attrs-in' type='checkbox' ><label for='attrs-f2910e9d-a5ea-4524-afa9-0d9d92ba6259' title='Show/Hide attributes'><svg class='icon xr-icon-file-text2'><use xlink:href='#icon-file-text2'></use></svg></label><input id='data-066b694b-6b5f-44ea-a159-a8f0ba6753f1' class='xr-var-data-in' type='checkbox'><label for='data-066b694b-6b5f-44ea-a159-a8f0ba6753f1' title='Show/Hide data repr'><svg class='icon xr-icon-database'><use xlink:href='#icon-database'></use></svg></label><div class='xr-var-attrs'><dl class='xr-attrs'><dt><span>sources :</span></dt><dd>dem.to_lat()</dd><dt><span>long_name :</span></dt><dd>Latitude in degrees</dd><dt><span>units :</span></dt><dd>degrees</dd></dl></div><div class='xr-var-data'><pre>[814263 values with dtype=float32]</pre></div></li><li class='xr-var-item'><div class='xr-var-name'><span>lon_deg</span></div><div class='xr-var-dims'>(lat, lon)</div><div class='xr-var-dtype'>float32</div><div class='xr-var-preview xr-preview'>...</div><input id='attrs-367a2e67-86cb-485c-8e66-f02c4df4ef2a' class='xr-var-attrs-in' type='checkbox' ><label for='attrs-367a2e67-86cb-485c-8e66-f02c4df4ef2a' title='Show/Hide attributes'><svg class='icon xr-icon-file-text2'><use xlink:href='#icon-file-text2'></use></svg></label><input id='data-d5688a94-d491-4c9b-89e7-b2fadfd004fd' class='xr-var-data-in' type='checkbox'><label for='data-d5688a94-d491-4c9b-89e7-b2fadfd004fd' title='Show/Hide data repr'><svg class='icon xr-icon-database'><use xlink:href='#icon-database'></use></svg></label><div class='xr-var-attrs'><dl class='xr-attrs'><dt><span>sources :</span></dt><dd>dem.to_lon()</dd><dt><span>long_name :</span></dt><dd>Longitude in degrees</dd><dt><span>units :</span></dt><dd>degrees</dd></dl></div><div class='xr-var-data'><pre>[814263 values with dtype=float32]</pre></div></li></ul></div></li><li class='xr-section-item'><input id='section-bff17b9d-5644-49d0-a417-856c9c561e28' class='xr-section-summary-in' type='checkbox'  checked><label for='section-bff17b9d-5644-49d0-a417-856c9c561e28' class='xr-section-summary' >Attributes: <span>(4)</span></label><div class='xr-section-inline-details'></div><div class='xr-section-details'><dl class='xr-attrs'><dt><span>geotransform :</span></dt><dd>[ 3.01994050e+01  9.92063500e-04  0.00000000e+00  2.97003971e+01\n",
       "  0.00000000e+00 -9.92063500e-04]</dd><dt><span>projection :</span></dt><dd>GEOGCS[&quot;WGS 84&quot;,DATUM[&quot;WGS_1984&quot;,SPHEROID[&quot;WGS 84&quot;,6378137,298.257223563,AUTHORITY[&quot;EPSG&quot;,&quot;7030&quot;]],AUTHORITY[&quot;EPSG&quot;,&quot;6326&quot;]],PRIMEM[&quot;Greenwich&quot;,0],UNIT[&quot;degree&quot;,0.0174532925199433,AUTHORITY[&quot;EPSG&quot;,&quot;9122&quot;]],AXIS[&quot;Latitude&quot;,NORTH],AXIS[&quot;Longitude&quot;,EAST],AUTHORITY[&quot;EPSG&quot;,&quot;4326&quot;]]</dd><dt><span>pixel_size :</span></dt><dd>103.25558167780254</dd><dt><span>example_file :</span></dt><dd>/Users/hmcoerver/pywapor_notebooks/RAW/PROBAV/NDVI/NDVI_PROBAV_-_5-daily_2021.07.06.tif</dd></dl></div></li></ul></div></div>"
      ],
      "text/plain": [
       "<xarray.Dataset>\n",
       "Dimensions:       (epoch: 1, lon: 1009, lat: 807)\n",
       "Coordinates:\n",
       "  * epoch         (epoch) int64 0\n",
       "  * lon           (lon) float64 30.2 30.2 30.2 30.2 30.2 ... 31.2 31.2 31.2 31.2\n",
       "  * lat           (lat) float64 29.7 29.7 29.7 29.7 29.7 ... 28.9 28.9 28.9 28.9\n",
       "    epoch_starts  (epoch) datetime64[ns] ...\n",
       "    epoch_ends    (epoch) datetime64[ns] ...\n",
       "Data variables: (12/32)\n",
       "    ndvi          (epoch, lat, lon) float32 ...\n",
       "    p_24          (epoch, lat, lon) float32 ...\n",
       "    se_root       (epoch, lat, lon) float32 ...\n",
       "    r0            (epoch, lat, lon) float32 ...\n",
       "    z             (lat, lon) float32 ...\n",
       "    land_mask     (epoch, lat, lon) float32 ...\n",
       "    ...            ...\n",
       "    z_oro         (lat, lon) float32 ...\n",
       "    t_diff        (lat, lon) float32 ...\n",
       "    slope         (lat, lon) float32 ...\n",
       "    aspect        (lat, lon) float32 ...\n",
       "    lat_deg       (lat, lon) float32 ...\n",
       "    lon_deg       (lat, lon) float32 ...\n",
       "Attributes:\n",
       "    geotransform:  [ 3.01994050e+01  9.92063500e-04  0.00000000e+00  2.970039...\n",
       "    projection:    GEOGCS[\"WGS 84\",DATUM[\"WGS_1984\",SPHEROID[\"WGS 84\",6378137...\n",
       "    pixel_size:    103.25558167780254\n",
       "    example_file:  /Users/hmcoerver/pywapor_notebooks/RAW/PROBAV/NDVI/NDVI_PR..."
      ]
     },
     "execution_count": 8,
     "metadata": {},
     "output_type": "execute_result"
    }
   ],
   "source": [
    "ds"
   ]
  },
  {
   "cell_type": "markdown",
   "metadata": {
    "id": "Lh69IWzw9-wx"
   },
   "source": [
    "Next, we can run ETLook using the `level_2` data just like we did for `level_1`."
   ]
  },
  {
   "cell_type": "code",
   "execution_count": 9,
   "metadata": {
    "id": "QMHFJxKS-Iig"
   },
   "outputs": [
    {
     "name": "stdout",
     "output_type": "stream",
     "text": [
      "--> Running ETLook_v2\n"
     ]
    },
    {
     "name": "stderr",
     "output_type": "stream",
     "text": [
      "--> Saving outputs.\n"
     ]
    }
   ],
   "source": [
    "ds = pywapor.et_look.main(fh)"
   ]
  },
  {
   "cell_type": "markdown",
   "metadata": {},
   "source": [
    "We can calculate some statistic, like we did before."
   ]
  },
  {
   "cell_type": "code",
   "execution_count": 10,
   "metadata": {},
   "outputs": [
    {
     "name": "stdout",
     "output_type": "stream",
     "text": [
      "resolution: (807, 1009)\n",
      "total pixels: 814263\n",
      "number of pixels with missing data: 328446\n",
      "maximum value: 8.34\n",
      "minimum value: 0.00\n",
      "mean: 0.85\n",
      "median: 0.15\n"
     ]
    }
   ],
   "source": [
    "import numpy as np\n",
    "\n",
    "et_data = ds.et_24_mm.isel(epoch = 0).values\n",
    "\n",
    "print(\"resolution:\", et_data.shape)\n",
    "print(\"total pixels:\", et_data.size)\n",
    "print(\"number of pixels with missing data:\", np.sum(np.isnan(et_data)))\n",
    "print(\"maximum value: {0:.2f}\".format(np.nanmax(et_data)))\n",
    "print(\"minimum value: {0:.2f}\".format(np.nanmin(et_data)))\n",
    "print(\"mean: {0:.2f}\".format(np.nanmean(et_data)))\n",
    "print(\"median: {0:.2f}\".format(np.nanmedian(et_data)))"
   ]
  },
  {
   "cell_type": "markdown",
   "metadata": {},
   "source": [
    "Notice that the amount of pixels with missing data is now much higher. Which we can also see on a map of the higher resolution daily ET."
   ]
  },
  {
   "cell_type": "code",
   "execution_count": 11,
   "metadata": {},
   "outputs": [
    {
     "data": {
      "text/plain": [
       "<matplotlib.collections.QuadMesh at 0x1532a5d30>"
      ]
     },
     "execution_count": 11,
     "metadata": {},
     "output_type": "execute_result"
    }
   ],
   "source": [
    "ds.et_24_mm.isel(epoch = 0).plot()"
   ]
  },
  {
   "cell_type": "markdown",
   "metadata": {},
   "source": [
    "Since we used a very short `composite_length` in this notebook (to keep the time required to download the data down), the chances of a pixel having no valid data increases (e.g. there is less time per composite to acquire a cloudfree measurement). Also, since we only processed one epoch, temporal interpolation wasn't possible. "
   ]
  },
  {
   "cell_type": "markdown",
   "metadata": {
    "id": "y8N_f26B-25h"
   },
   "source": [
    "##### Custom inputs\n",
    "\n",
    "Besides using the predefined levels, it is also possible to create your own custom level. Instead of passing a string to the `level` input parameter of `pywapor.pre_et_look.main`, we can also pass a dictionary that specifies which products we would like to use.\n",
    "\n",
    "Lets start by creating such a dictionary by choosing some sources from this table.\n",
    "\n",
    "\n",
    "| Source | Temporal Availability | Temporal Resolution |Spatial Resolution | Used For |\n",
    "| ------ | ------ | ------ | ------ | ------ |\n",
    "|[MOD13](https://lpdaac.usgs.gov/products/mod13q1v006/) | 2000-02-18 - ongoing | 16-Daily |250m|NDVI|\n",
    "|[MYD13](https://lpdaac.usgs.gov/products/myd13q1v006/) | 2002-07-04 - ongoing | 16-Daily |250m|NDVI|\n",
    "|[MCD43](https://lpdaac.usgs.gov/products/mcd43a1v006/)|2000-02-16 - ongoing|Daily|500m|Albedo|\n",
    "|[MOD11](https://lpdaac.usgs.gov/products/mod11a1v006/) | 2000-02-24 - ongoing | Daily | 1000m | LST |\n",
    "|[MYD11](https://lpdaac.usgs.gov/products/myd11a1v006/)| 2002-07-04 - ongoing | Daily | 1000m | LST |\n",
    "|[PROBAV](https://www.vito-eodata.be/collectioncatalogue/srv/eng/catalog.search#/metadata/urn:ogc:def:EOP:VITO:PROBAV_S5-TOC_100M_V001)|2014-03-11 - ongoing|5-Daily|100m|NDVI, Albedo|\n",
    "| [GEOS5](https://geos5.org) | 2017-12-01 - ongoing | 3-Hourly |0.3125°×0.25° | Meteo |\n",
    "| [MERRA2](https://gmao.gsfc.nasa.gov/reanalysis/MERRA-2/) | 1980-01-01 - ongoing | Hourly | 0.625°×0.5° | Meteo | \n",
    "| [CHIRPS](https://www.chc.ucsb.edu/data/chirps) |  1981-01-01 - ongoing | Daily | 0.05° | Precipitation |\n",
    "| [WAPOR](https://wapor.apps.fao.org/catalog/WAPOR_2/1/L1_LCC_A) | 2009 - 2020 | Yearly |250m | Landcover |\n",
    "| [GLOBCOVER](http://due.esrin.esa.int/page_globcover.php) | 2009 | Single| 250m | Landcover |\n",
    "| [SRTM](https://srtm.csi.cgiar.org) | 2009 | Single | 90m | DEM |\n"
   ]
  },
  {
   "cell_type": "code",
   "execution_count": 12,
   "metadata": {
    "id": "50Sttzaw_hoX"
   },
   "outputs": [],
   "source": [
    "my_custom_level = {\n",
    "        # Main inputs\n",
    "        \"ndvi\":         [\"PROBAV\", \"MOD13\", \"MYD13\"],\n",
    "        \"r0\":           [\"PROBAV\", \"MCD43\"],\n",
    "        \"lst\":          [\"MOD11\", \"MYD11\"],\n",
    "        \"lulc\":         [\"GLOBCOVER\"],\n",
    "        \"z\":            [\"SRTM\"],\n",
    "        \"p_24\":         [\"CHIRPS\"],\n",
    "        \"ra_24\":        [\"MERRA2\"],\n",
    "\n",
    "        # Daily meteo \n",
    "        't_air_24':     [\"MERRA2\", \"GEOS5\"],\n",
    "        't_air_min_24': [\"MERRA2\"], \n",
    "        't_air_max_24': [\"MERRA2\"],\n",
    "        'u2m_24':       [\"GEOS5\"],\n",
    "        'v2m_24':       [\"GEOS5\"],\n",
    "        'p_air_0_24':   [\"MERRA2\"],\n",
    "        'qv_24':        [\"MERRA2\", \"GEOS5\"],\n",
    "\n",
    "        # Instanteneous meteo\n",
    "        \"t_air_i\":      [\"MERRA2\"],\n",
    "        \"u2m_i\":        [\"MERRA2\"],\n",
    "        \"v2m_i\":        [\"MERRA2\"],\n",
    "        \"qv_i\":         [\"MERRA2\"],\n",
    "        \"wv_i\":         [\"MERRA2\"],\n",
    "        \"p_air_i\":      [\"MERRA2\"],\n",
    "        \"p_air_0_i\":    [\"MERRA2\"],\n",
    "\n",
    "        # Temporal Constants\n",
    "        \"lw_offset\":    [\"STATICS\"],\n",
    "        \"lw_slope\":     [\"STATICS\"],\n",
    "        \"r0_bare\":      [\"STATICS\"],\n",
    "        \"r0_full\":      [\"STATICS\"],\n",
    "        \"rn_offset\":    [\"STATICS\"],\n",
    "        \"rn_slope\":     [\"STATICS\"],\n",
    "        \"t_amp_year\":   [\"STATICS\"],\n",
    "        \"t_opt\":        [\"STATICS\"],\n",
    "        \"vpd_slope\":    [\"STATICS\"],\n",
    "        \"z_oro\":        [\"STATICS\"],\n",
    "}"
   ]
  },
  {
   "cell_type": "markdown",
   "metadata": {
    "id": "Sv2ODjxGEaQq"
   },
   "source": [
    "Finally, we can give a name to the custom level (although this is not required, the default name is `custom`) and then start downloading the required data."
   ]
  },
  {
   "cell_type": "code",
   "execution_count": 13,
   "metadata": {
    "id": "sWAdYPf3EmQZ"
   },
   "outputs": [
    {
     "name": "stderr",
     "output_type": "stream",
     "text": [
      "> PRE_ET_LOOK\n",
      "    # ndvi\n",
      "    --> Downloading PROBAV.\n",
      "2021.07.06:               : 100%|██████████| 10.0/10.0 [00:00<00:00, 2.29kit/s]\n",
      "    --> Downloading MOD13.\n",
      "Tile: 2 / 2: 0.00Bytes [00:00, ?Bytes/s]\n",
      "    --> Downloading MYD13.\n",
      "Tile: 1 / 1: 0.00Bytes [00:00, ?Bytes/s]\n",
      "    --> Resampling resolution is ~103 meter.\n",
      "    --> Resampling datasets.\n",
      "    --> Interpolating 1,139,719 of 1,139,719 missing pixels.\n"
     ]
    },
    {
     "name": "stdout",
     "output_type": "stream",
     "text": [
      "[########################################] | 100% Completed | 32.8s\n"
     ]
    },
    {
     "name": "stderr",
     "output_type": "stream",
     "text": [
      "    --> Calculating composites.\n",
      "    # p_24\n",
      "    --> Downloading CHIRPS.\n",
      "Tile: 2 / 2: 0.00Bytes [00:00, ?Bytes/s]\n",
      "    --> Resampling datasets.\n",
      "    --> Calculating composites.\n",
      "    # se_root\n",
      "    > PRE_SE_ROOT\n",
      "        # ndvi\n",
      "        --> Downloading PROBAV.\n",
      "2021.07.06:               : 100%|██████████| 10.0/10.0 [00:00<00:00, 3.13kit/s]\n",
      "        --> Downloading MOD13.\n",
      "Tile: 2 / 2: 0.00Bytes [00:00, ?Bytes/s]\n",
      "        --> Downloading MYD13.\n",
      "Tile: 1 / 1: 0.00Bytes [00:00, ?Bytes/s]\n",
      "        --> Resampling resolution is ~103 meter.\n",
      "        --> Resampling datasets.\n",
      "        # lst\n",
      "        --> Downloading MOD11.\n",
      "Tile: 2 / 2: 0.00Bytes [00:00, ?Bytes/s]\n",
      "        --> Downloading MYD11.\n",
      "Tile: 2 / 2: 0.00Bytes [00:00, ?Bytes/s]\n",
      "        --> Resampling datasets.\n",
      "        > METEO\n",
      "            # t_air_i\n",
      "            --> Applying 'kelvin_to_celsius' to `t_air_i` from MERRA2.\n",
      "            # u2m_i\n",
      "            # v2m_i\n",
      "            # qv_i\n",
      "            # wv_i\n",
      "            # p_air_i\n",
      "            # p_air_0_i\n",
      "        < METEO\n",
      "        --> Interpolating datasets.\n"
     ]
    },
    {
     "name": "stdout",
     "output_type": "stream",
     "text": [
      "[########################################] | 100% Completed | 30.5s\n"
     ]
    },
    {
     "name": "stderr",
     "output_type": "stream",
     "text": [
      "    < PRE_SE_ROOT\n",
      "    > SE_ROOT\n",
      "        --> Running SEroot_v2.\n",
      "        --> Saving outputs.\n",
      "    < SE_ROOT\n",
      "    --> Resampling datasets.\n",
      "    --> Calculating composites.\n",
      "    # r0\n",
      "    --> Downloading PROBAV.\n",
      "2021.07.06:               : 100%|██████████| 10.0/10.0 [00:00<00:00, 6.38kit/s]\n",
      "    --> Downloading MCD43.\n",
      "Tile: 2 / 2: 0.00Bytes [00:00, ?Bytes/s]\n",
      "    --> Resampling datasets.\n",
      "    --> Calculating composites.\n",
      "    # z\n",
      "    --> Downloading SRTM.\n",
      "    --> Resampling datasets.\n",
      "    # lulc\n",
      "    --> Downloading GLOBCOVER.\n",
      "    --> Creating new variable `land_mask`.\n",
      "    --> Creating new variable `rs_min`.\n",
      "    --> Creating new variable `lue_max`.\n",
      "    --> Creating new variable `z_obst_max`.\n",
      "    --> Applying 'remove_var' to `lulc` from GLOBCOVER.\n",
      "    --> Resampling datasets.\n",
      "    --> Calculating composites.\n",
      "    # ra_24\n",
      "    --> Downloading MERRA2 (daily), swgnet.\n",
      "Tile: 2 / 2: 0.00Bytes [00:00, ?Bytes/s]\n",
      "    --> Resampling datasets.\n",
      "    --> Calculating composites.\n",
      "    # t_air_24\n",
      "    --> Downloading MERRA2 (daily), t2m.\n",
      "Tile: 2 / 2: 0.00Bytes [00:00, ?Bytes/s]\n",
      "    --> Downloading GEOS5 (daily), t2m.\n",
      "Tile: 2 / 2: 0.00Bytes [00:00, ?Bytes/s]\n",
      "    --> Applying 'kelvin_to_celsius' to `t_air_24` from MERRA2.\n",
      "    --> Applying 'kelvin_to_celsius' to `t_air_24` from GEOS5.\n",
      "    --> Resampling datasets.\n",
      "    --> Calculating composites.\n",
      "    # t_air_min_24\n",
      "    --> Downloading MERRA2 (daily), t2m.\n",
      "Tile: 2 / 2: 0.00Bytes [00:00, ?Bytes/s]\n",
      "    --> Applying 'kelvin_to_celsius' to `t_air_min_24` from MERRA2.\n",
      "    --> Resampling datasets.\n",
      "    --> Calculating composites.\n",
      "    # t_air_max_24\n",
      "    --> Downloading MERRA2 (daily), t2m.\n",
      "Tile: 2 / 2: 0.00Bytes [00:00, ?Bytes/s]\n",
      "    --> Applying 'kelvin_to_celsius' to `t_air_max_24` from MERRA2.\n",
      "    --> Resampling datasets.\n",
      "    --> Calculating composites.\n",
      "    # u2m_24\n",
      "    --> Downloading GEOS5 (daily), u2m.\n",
      "Tile: 2 / 2: 0.00Bytes [00:00, ?Bytes/s]\n",
      "    --> Resampling datasets.\n",
      "    --> Calculating composites.\n",
      "    # v2m_24\n",
      "    --> Downloading GEOS5 (daily), v2m.\n",
      "Tile: 2 / 2: 0.00Bytes [00:00, ?Bytes/s]\n",
      "    --> Resampling datasets.\n",
      "    --> Calculating composites.\n",
      "    # p_air_0_24\n",
      "    --> Downloading MERRA2 (daily), slp.\n",
      "Tile: 2 / 2: 0.00Bytes [00:00, ?Bytes/s]\n",
      "    --> Resampling datasets.\n",
      "    --> Calculating composites.\n",
      "    # qv_24\n",
      "    --> Downloading MERRA2 (daily), q2m.\n",
      "Tile: 2 / 2: 0.00Bytes [00:00, ?Bytes/s]\n",
      "    --> Downloading GEOS5 (daily), qv2m.\n",
      "Tile: 2 / 2: 0.00Bytes [00:00, ?Bytes/s]\n",
      "    --> Resampling datasets.\n",
      "    --> Calculating composites.\n",
      "    # lw_offset\n",
      "    --> Resampling datasets.\n",
      "    # lw_slope\n",
      "    --> Resampling datasets.\n",
      "    # r0_bare\n",
      "    --> Resampling datasets.\n",
      "    # r0_full\n",
      "    --> Resampling datasets.\n",
      "    # rn_offset\n",
      "    --> Resampling datasets.\n",
      "    # rn_slope\n",
      "    --> Resampling datasets.\n",
      "    # t_amp_year\n",
      "    --> Resampling datasets.\n",
      "    # t_opt\n",
      "    --> Resampling datasets.\n",
      "    # vpd_slope\n",
      "    --> Resampling datasets.\n",
      "    # z_oro\n",
      "    --> Resampling datasets.\n",
      "    > Composite enhancers.\n",
      "        # t_air_24\n",
      "        --> Calculating local means (r = 0.25°) of `z`.\n",
      "        --> Applying 'lapse_rate' to `t_air_24`.\n",
      "        # t_air_min_24\n",
      "        --> Applying 'lapse_rate' to `t_air_min_24`.\n",
      "        # t_air_max_24\n",
      "        --> Applying 'lapse_rate' to `t_air_max_24`.\n",
      "        # z\n",
      "        --> Creating new variable `slope`.\n",
      "        --> Creating new variable `aspect`.\n",
      "        --> Creating new variable `lat_deg`.\n",
      "        --> Creating new variable `lon_deg`.\n",
      "    < Composite enhancers.\n",
      "    --> Saving results.\n",
      "< PRE_ET_LOOK\n"
     ]
    }
   ],
   "source": [
    "my_custom_level[\"level_name\"] = \"my_first_custom_level\"\n",
    "\n",
    "ds, fh = pywapor.pre_et_look.main(project_folder, startdate, enddate, \n",
    "                                    latlim, lonlim, level = my_custom_level,\n",
    "                                    composite_length = composite_length)"
   ]
  },
  {
   "cell_type": "markdown",
   "metadata": {},
   "source": [
    "Notice how we are now combining PROBAV and MODIS datasets and even GEOS5 and MERRA2 for several meteo-datasets!"
   ]
  },
  {
   "cell_type": "code",
   "execution_count": 14,
   "metadata": {},
   "outputs": [
    {
     "name": "stdout",
     "output_type": "stream",
     "text": [
      "'ndvi'-composites are made from: ['PROBAV', 'MOD13Q1', 'MYD13Q1'] \n",
      "\n",
      "'qv_24'-composites are made from: ['MERRA2', 'GEOS5'] \n",
      "\n",
      "'t_air_24'-composites are made from: ['MERRA2', 'GEOS5'] \n",
      "\n",
      "'r0'-composites are made from: ['PROBAV', 'MCD43A3'] \n",
      "\n"
     ]
    }
   ],
   "source": [
    "for var in [\"ndvi\", \"qv_24\", \"t_air_24\", \"r0\"]:\n",
    "    print(f\"'{var}'-composites are made from: {ds[var].attrs['sources']} \\n\")"
   ]
  },
  {
   "cell_type": "code",
   "execution_count": 15,
   "metadata": {},
   "outputs": [
    {
     "data": {
      "text/plain": [
       "<matplotlib.collections.QuadMesh at 0x15304b970>"
      ]
     },
     "execution_count": 15,
     "metadata": {},
     "output_type": "execute_result"
    }
   ],
   "source": [
    "ds.ndvi.isel(epoch = 0).plot()"
   ]
  },
  {
   "cell_type": "markdown",
   "metadata": {
    "id": "t9a2_qrvHPYE"
   },
   "source": [
    "And then again, run `pwapor.et_look.main` like this."
   ]
  },
  {
   "cell_type": "code",
   "execution_count": 16,
   "metadata": {
    "id": "phhPDillHOsg"
   },
   "outputs": [
    {
     "name": "stdout",
     "output_type": "stream",
     "text": [
      "--> Running ETLook_v2\n"
     ]
    },
    {
     "name": "stderr",
     "output_type": "stream",
     "text": [
      "--> Saving outputs.\n"
     ]
    }
   ],
   "source": [
    "ds = pywapor.et_look.main(fh)"
   ]
  },
  {
   "cell_type": "markdown",
   "metadata": {},
   "source": [
    "Notice how the nodata areas from before have been filled in thanks to temporal interpolation!"
   ]
  },
  {
   "cell_type": "code",
   "execution_count": 17,
   "metadata": {},
   "outputs": [
    {
     "data": {
      "text/plain": [
       "<matplotlib.collections.QuadMesh at 0x1532eb1c0>"
      ]
     },
     "execution_count": 17,
     "metadata": {},
     "output_type": "execute_result"
    }
   ],
   "source": [
    "ds.et_24_mm.isel(epoch =0 ).plot()"
   ]
  }
 ],
 "metadata": {
  "interpreter": {
   "hash": "f85bfb788a8c687938d52f45e0b3b96852f22966903f9a0a715c418e604f4599"
  },
  "kernelspec": {
   "display_name": "Python 3.9.9 64-bit ('test_a': conda)",
   "name": "python3"
  },
  "language_info": {
   "codemirror_mode": {
    "name": "ipython",
    "version": 3
   },
   "file_extension": ".py",
   "mimetype": "text/x-python",
   "name": "python",
   "nbconvert_exporter": "python",
   "pygments_lexer": "ipython3",
   "version": "3.9.9"
  },
  "orig_nbformat": 4
 },
 "nbformat": 4,
 "nbformat_minor": 2
}
