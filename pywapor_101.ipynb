{
  "cells": [
    {
      "cell_type": "markdown",
      "metadata": {
        "id": "XZ_9AP55KxvB"
      },
      "source": [
        "# Installation\n",
        "\n",
        "The pywapor package depends on several other packages, most of them get installed automatically when we install pywapor. The GDAL package needs to be installed manually however. Luckily, it is already installed on the backend computer used by Google Colab. We can verify that GDAL is installed by running the following commands."
      ]
    },
    {
      "cell_type": "code",
      "execution_count": null,
      "metadata": {
        "colab": {
          "base_uri": "https://localhost:8080/"
        },
        "id": "qTp9VSQQIHrF",
        "outputId": "3329851f-06e2-4518-9a7c-ac3f184e6bf7"
      },
      "outputs": [],
      "source": [
        "from osgeo import gdal\n",
        "print(\"Using GDAL version:\", gdal.__version__)"
      ]
    },
    {
      "cell_type": "markdown",
      "metadata": {
        "id": "74aXWEzAKY2M"
      },
      "source": [
        "Now that we know that Python is able to import the GDAL package, we can install pywapor by running the following command.\n",
        "\n"
      ]
    },
    {
      "cell_type": "code",
      "execution_count": null,
      "metadata": {
        "colab": {
          "base_uri": "https://localhost:8080/"
        },
        "id": "jW9d6wtlKKuE",
        "outputId": "32c85291-894b-4bea-99c3-f5e5d922374f"
      },
      "outputs": [],
      "source": [
        "# !pip install pywapor_test==2.2.9 --quiet"
      ]
    },
    {
      "cell_type": "markdown",
      "metadata": {
        "id": "fzHQsJcy76iH"
      },
      "source": [
        "If everything went well, we can now import pywapor in Python, let's try it (fingers crossed)!"
      ]
    },
    {
      "cell_type": "code",
      "execution_count": 1,
      "metadata": {
        "colab": {
          "base_uri": "https://localhost:8080/"
        },
        "id": "arxHuGoAKcxH",
        "outputId": "335fa6fd-5601-474d-f15e-8cb21eab1dd5"
      },
      "outputs": [
        {
          "name": "stdout",
          "output_type": "stream",
          "text": [
            "mpl backend: MacOSX\n",
            "Using pywapor version: 2.3.0\n"
          ]
        }
      ],
      "source": [
        "import pywapor\n",
        "print(\"Using pywapor version:\", pywapor.__version__)"
      ]
    },
    {
      "cell_type": "markdown",
      "metadata": {
        "id": "MiqFKqNmK9m0"
      },
      "source": [
        "# ETLook Input\n",
        "\n",
        "In order to run the ETLook model, we first need to collect the necessary inputs. Two types of spatial data are required, temporal and static data. At the bottom of this notebook you can find a table specifying all the required inputs.\n",
        "\n",
        "Each of these variables can be collected from whichever source you wish to use, as long as you make sure the units are correct, the data is stored as a GeoTIFF (1 band per file, 1 file for each variable and date), the files all have the same no-data-value and they all have the same projection and resolution.\n",
        "\n",
        "For your convenience, the pywapor package has a function that can collect all this data from selected sources and make sure the data is stored in the correct format and folder structure. \n",
        "\n",
        "Because some of the data portals used require a user to login with a username and a password, we first need to set those up. Most importantly, we will need a `NASA Eearthdata Login` to be able to collect the MODIS, CHIRPS and MERRA2 datasets, which can be created [over here](https://urs.earthdata.nasa.gov/users/new).\n",
        "\n",
        "> ⚠️\n",
        ">\n",
        "> After creating your account, you still need to accept some 'Terms of Use', before you can continue with this notebook. To do that, login to your newly created account and go to\n",
        ">\n",
        "> `Applications > Authorized Apps > Approve More Applications`\n",
        ">\n",
        "> There, make sure the two following applications are authorized:\n",
        "> 1. `NASA GESDISC DATA ARCHIVE`\n",
        "> 2. `LP DAAC Data Pool`\n",
        ">\n",
        "> ⚠️\n",
        "\n",
        "Once you have your account set up, we can enter our username and password by running the following code.\n"
      ]
    },
    {
      "cell_type": "code",
      "execution_count": null,
      "metadata": {
        "colab": {
          "base_uri": "https://localhost:8080/"
        },
        "id": "lsGTGdVcLbqQ",
        "outputId": "0de29ab4-4025-425c-e22f-adc4f040f14d"
      },
      "outputs": [],
      "source": [
        "pywapor.collect.setup_dl_accounts.setup_account(\"NASA\")"
      ]
    },
    {
      "cell_type": "markdown",
      "metadata": {
        "id": "ed72eDLrF8AA"
      },
      "source": [
        "Next, we need a WAPOR API token. To get that token, you need to create an account [here](https://wapor.apps.fao.org/home/WAPOR_2/1) and then go to `My WaPOR > My Profile > API Token`. Once you have the token, we can add it to our pywapor accounts."
      ]
    },
    {
      "cell_type": "code",
      "execution_count": null,
      "metadata": {
        "colab": {
          "base_uri": "https://localhost:8080/"
        },
        "id": "sGhNEx2RQej-",
        "outputId": "e26cc6ed-f561-4e97-fe99-0559cee43f9b"
      },
      "outputs": [],
      "source": [
        "pywapor.collect.setup_dl_accounts.setup_account(\"WAPOR\")"
      ]
    },
    {
      "cell_type": "markdown",
      "metadata": {
        "id": "2m5yrTgrGO5P"
      },
      "source": [
        "First we define a `startdate` and `enddate`, our boundingbox through `latlim` and `lonlim` and we give a `project_folder` in which all our data will be stored. Here I've chosen an period of exactly 10 days which is the default composite length of pyWAPOR. To learn more about composites, check out the dedicated notebook here. The given boundingbox will show us the Fayoum irrigation scheme in Egypt.\n",
        "\n",
        "Then we can run `pywapor.pre_et_look.main()` to start the downloading."
      ]
    },
    {
      "cell_type": "code",
      "execution_count": 2,
      "metadata": {},
      "outputs": [
        {
          "data": {
            "text/plain": [
              "'/Users/hmcoerver/miniconda3/envs/test_a/lib/python3.9/site-packages/pywapor_test-2.3.0-py3.9.egg/pywapor/__init__.py'"
            ]
          },
          "execution_count": 2,
          "metadata": {},
          "output_type": "execute_result"
        }
      ],
      "source": [
        "pywapor.__file__"
      ]
    },
    {
      "cell_type": "code",
      "execution_count": 3,
      "metadata": {
        "colab": {
          "base_uri": "https://localhost:8080/",
          "height": 1000
        },
        "id": "nPaqrdS2Kol7",
        "outputId": "5dd6da58-1342-4097-cfb4-1728e61cf86c"
      },
      "outputs": [
        {
          "name": "stdout",
          "output_type": "stream",
          "text": [
            "\n",
            "#################\n",
            "## PRE_ET_LOOK ##\n",
            "#################\n",
            "\n",
            "#### NDVI ####\n",
            "\n",
            "Download 16-daily MODIS NDVI data for period 2021-07-01 till 2021-07-10\n",
            "Progress: |██████████████████████████████████████████████████| 100.0% Complete\n",
            "\n",
            "Download 16-daily MODIS NDVI data for period 2021-07-01 till 2021-07-10\n",
            "Progress: |██████████████████████████████████████████████████| 100.0% Complete\n",
            "--> Reprojecting datasets.\n",
            "--> Calculating composites.\n",
            "\n",
            "#### ALBEDO ####\n",
            "\n",
            "Download daily MODIS Albedo data for period 2021-07-01 till 2021-07-10\n",
            "Progress: |██████████████████████████████████████████████████| 100.0% Complete\n",
            "--> Reprojecting datasets.\n",
            "--> Calculating composites.\n",
            "\n",
            "#### PRECIPITATION ####\n",
            "\n",
            "Downloading daily CHIRPS rainfall data for the period 2021-07-01 till 2021-07-10\n",
            "Progress: |██████████████████████████████████████████████████| 100.0% Complete\n",
            "--> Reprojecting datasets.\n",
            "--> Calculating composites.\n",
            "\n",
            "#### DEM ####\n",
            "\n",
            "#### SLOPE ASPECT ####\n",
            "\n",
            "#### LULC ####\n",
            "\n",
            "#### METEO ####\n"
          ]
        },
        {
          "name": "stderr",
          "output_type": "stream",
          "text": [
            "slp:  86%|████████▌ | 60/70 [00:00<00:00, 968.63it/s]"
          ]
        },
        {
          "name": "stdout",
          "output_type": "stream",
          "text": [
            "## t2m ##\n",
            "--> Reprojecting datasets.\n",
            "--> Calculating composites.\n",
            "## t2m-min ##\n",
            "--> Reprojecting datasets.\n",
            "--> Calculating composites.\n",
            "## t2m-max ##\n",
            "--> Reprojecting datasets.\n",
            "--> Calculating composites.\n",
            "## u2m ##\n",
            "--> Reprojecting datasets.\n",
            "--> Calculating composites.\n",
            "## v2m ##\n",
            "--> Reprojecting datasets.\n",
            "--> Calculating composites.\n",
            "## qv2m ##\n",
            "--> Reprojecting datasets.\n",
            "--> Calculating composites.\n",
            "## tqv ##\n",
            "## ps ##\n",
            "## slp ##\n",
            "--> Reprojecting datasets.\n",
            "--> Calculating composites.\n",
            "\n",
            "#################\n",
            "## PRE_SE_ROOT ##\n",
            "#################\n",
            "\n",
            "#### NDVI ####\n",
            "\n",
            "Download 16-daily MODIS NDVI data for period 2021-07-01 till 2021-07-10\n",
            "Progress: |██████████████████████████████████████████████████| 100.0% Complete\n",
            "\n",
            "Download 16-daily MODIS NDVI data for period 2021-07-01 till 2021-07-10\n",
            "Progress: |██████████████████████████████████████████████████| 100.0% Complete\n",
            "--> Reprojecting datasets.\n",
            "--> Exporting timeseries.\n",
            "\n",
            "#### LST ####\n",
            "\n",
            "Download daily MODIS land surface temperature data for period 2021-07-01 till 2021-07-10\n",
            "Progress: |██████████████████████████████████████████████████| 100.0% Complete\n",
            "\n",
            "Download daily MODIS land surface temperature data for period 2021-07-01 till 2021-07-10\n",
            "Progress: |██████████████████████████████████████████████████| 100.0% Complete\n",
            "\n",
            "#### DEM ####\n",
            "\n",
            "#### METEO ####\n"
          ]
        },
        {
          "name": "stderr",
          "output_type": "stream",
          "text": [
            "slp: 100%|██████████| 217/217 [00:01<00:00, 191.77it/s]"
          ]
        },
        {
          "name": "stdout",
          "output_type": "stream",
          "text": [
            "## Pair_inst_0 ##\n",
            "## Pair_inst ##\n",
            "## qv_inst ##\n",
            "## tair_inst ##\n",
            "## wv_inst ##\n",
            "## v2m_inst ##\n",
            "## u2m_inst ##\n",
            "\n",
            "#################\n",
            "## PRE_SE_ROOT ##\n",
            "##### DONE ######\n",
            "\n",
            "\n",
            "#### SE_ROOT ####\n",
            "--> Calculating se_root.\n"
          ]
        },
        {
          "name": "stderr",
          "output_type": "stream",
          "text": [
            "100%|██████████| 31/31 [00:00<00:00, 890.29it/s]\n"
          ]
        },
        {
          "name": "stdout",
          "output_type": "stream",
          "text": [
            "--> Reprojecting datasets.\n",
            "--> Calculating composites.\n",
            "\n",
            "#### LAT LON ####\n",
            "\n",
            "#### SOLAR RADIATION ####\n",
            "\n",
            "Downloading daily MERRA swgnet data for the period 2021-07-01 till 2021-07-10\n",
            "Progress: |██████████████████████████████████████████████████| 100.0% Complete\n",
            "--> Reprojecting datasets.\n",
            "--> Calculating composites.\n",
            "\n",
            "#### TEMP. AMPLITUDE ####\n",
            "\n",
            "#################\n",
            "## PRE_ET_LOOK ##\n",
            "##### DONE ######\n",
            "\n"
          ]
        }
      ],
      "source": [
        "startdate = \"2021-07-01\"\n",
        "enddate = \"2021-07-10\"\n",
        "latlim = [28.9, 29.7]\n",
        "lonlim = [30.2, 31.2]\n",
        "project_folder = r\"/Users/hmcoerver/pywapor_test\"\n",
        "\n",
        "pre_files = pywapor.pre_et_look.main(project_folder, startdate, enddate, latlim, lonlim)"
      ]
    },
    {
      "cell_type": "markdown",
      "metadata": {
        "id": "Tm7SaBW9d_6x"
      },
      "source": [
        "After downloading the files, we can check if all the required files exist. Using the [`ls` unix command](https://en.wikipedia.org/wiki/Ls), we can see the contents of a folder, and with the asterices we can see the contents of recursive folders. Our `project_folder` now contains the following subdirectories and files.\n",
        "\n",
        "> Actually, it also contains a folder called `RAW`, which you can see by running `!ls */*` instead. This folder holds some intermediate files that were used to create the final ETLook inputs.\n",
        "\n"
      ]
    },
    {
      "cell_type": "code",
      "execution_count": 4,
      "metadata": {
        "id": "2cnYOlMN9dDb"
      },
      "outputs": [
        {
          "name": "stdout",
          "output_type": "stream",
          "text": [
            "level_1/metadata_level_1.json\n",
            "\n",
            "level_1/20210701:\n",
            "P_24_20210701.tif         r0_20210701.tif           t_air_max_24_20210701.tif\n",
            "ndvi_20210701.tif         ra_24_20210701.tif        t_air_min_24_20210701.tif\n",
            "p_air_24_0_20210701.tif   se_root_20210701.tif      u2m_24_20210701.tif\n",
            "qv_24_20210701.tif        t_air_24_20210701.tif     v2m_24_20210701.tif\n",
            "\n",
            "level_1/SMC:\n",
            "SMC_-_-_inst_2021.07.01.09.24.tif SMC_-_-_inst_2021.07.06.08.00.tif\n",
            "SMC_-_-_inst_2021.07.01.11.00.tif SMC_-_-_inst_2021.07.06.08.06.tif\n",
            "SMC_-_-_inst_2021.07.01.11.06.tif SMC_-_-_inst_2021.07.06.11.18.tif\n",
            "SMC_-_-_inst_2021.07.02.08.24.tif SMC_-_-_inst_2021.07.06.11.24.tif\n",
            "SMC_-_-_inst_2021.07.02.08.30.tif SMC_-_-_inst_2021.07.07.08.48.tif\n",
            "SMC_-_-_inst_2021.07.02.11.42.tif SMC_-_-_inst_2021.07.07.12.00.tif\n",
            "SMC_-_-_inst_2021.07.02.11.48.tif SMC_-_-_inst_2021.07.07.12.06.tif\n",
            "SMC_-_-_inst_2021.07.03.09.12.tif SMC_-_-_inst_2021.07.08.09.30.tif\n",
            "SMC_-_-_inst_2021.07.03.10.48.tif SMC_-_-_inst_2021.07.08.11.06.tif\n",
            "SMC_-_-_inst_2021.07.03.10.54.tif SMC_-_-_inst_2021.07.08.11.12.tif\n",
            "SMC_-_-_inst_2021.07.04.08.12.tif SMC_-_-_inst_2021.07.09.08.36.tif\n",
            "SMC_-_-_inst_2021.07.04.08.18.tif SMC_-_-_inst_2021.07.09.11.48.tif\n",
            "SMC_-_-_inst_2021.07.04.11.30.tif SMC_-_-_inst_2021.07.09.11.54.tif\n",
            "SMC_-_-_inst_2021.07.04.11.36.tif SMC_-_-_inst_2021.07.10.09.18.tif\n",
            "SMC_-_-_inst_2021.07.05.09.00.tif SMC_-_-_inst_2021.07.10.10.54.tif\n",
            "SMC_-_-_inst_2021.07.05.10.36.tif\n",
            "\n",
            "level_1/static:\n",
            "aspect_deg.tif      lon_deg.tif         slope_deg.tif       z_obst_max_2021.tif\n",
            "land_mask_2021.tif  lue_max_2021.tif    t_amp_year_2021.tif\n",
            "lat_deg.tif         rs_min_2021.tif     z.tif\n"
          ]
        }
      ],
      "source": [
        "!ls level_1*/*"
      ]
    },
    {
      "cell_type": "markdown",
      "metadata": {
        "id": "aOSTwRklSm5t"
      },
      "source": [
        "Besides the tif files, which we need as input for ETLook, a json file has also been created (named `metadata_level_1.json` here). It contains information on how the input files were created. We can check the file like this."
      ]
    },
    {
      "cell_type": "code",
      "execution_count": 5,
      "metadata": {
        "id": "Yztw39OPZ3EG"
      },
      "outputs": [
        {
          "name": "stdout",
          "output_type": "stream",
          "text": [
            "{\n",
            "    \"pywapor_version\": \"2.3.0\",\n",
            "    \"created\": \"11/19/2021, 12:56:53\",\n",
            "    \"template_file\": \"/Users/hmcoerver/pywapor_test/RAW/MODIS/MOD13/NDVI_MOD13Q1_-_16-daily_2021.06.26.tif\",\n",
            "    \"geotransform\": \"[30.19847367188096, 0.0019653699789507215, 0.0, 29.7012637605054, 0.0, -0.0019653699789507215]\",\n",
            "    \"resolution\": \"[510, 408]\",\n",
            "    \"inputs\": {\n",
            "        \"latlim\": \"[28.799999999999997, 29.8]\",\n",
            "        \"lonlim\": \"[30.099999999999998, 31.3]\",\n",
            "        \"startdate\": \"2021-07-01\",\n",
            "        \"enddate\": \"2021-07-10\",\n",
            "        \"source_selection_name\": \"level_1\",\n",
            "        \"project_folder\": \"/Users/hmcoerver/pywapor_test\"\n",
            "    },\n",
            "    \"sources\": {\n",
            "        \"METEO\": [\n",
            "            \"GEOS5\"\n",
            "        ],\n",
            "        \"NDVI\": [\n",
            "            \"MOD13\",\n",
            "            \"MYD13\"\n",
            "        ],\n",
            "        \"ALBEDO\": [\n",
            "            \"MDC43\"\n",
            "        ],\n",
            "        \"LST\": [\n",
            "            \"MOD11\",\n",
            "            \"MYD11\"\n",
            "        ],\n",
            "        \"LULC\": [\n",
            "            \"WAPOR\"\n",
            "        ],\n",
            "        \"DEM\": [\n",
            "            \"SRTM\"\n",
            "        ],\n",
            "        \"PRECIPITATION\": [\n",
            "            \"CHIRPS\"\n",
            "        ],\n",
            "        \"TRANS\": [\n",
            "            \"MERRA2\"\n",
            "        ]\n",
            "    }\n",
            "}\n"
          ]
        }
      ],
      "source": [
        "!python -m json.tool level_1/metadata_level_1.json"
      ]
    },
    {
      "cell_type": "markdown",
      "metadata": {
        "id": "DDcpwCU-DPtp"
      },
      "source": [
        "Now that we know that all the required files exist, it is also a good idea to check if there is any data inside those files! For all we know right now, they might just be a bunch of empty files.\n",
        "\n",
        "We can create a simple map using the code below."
      ]
    },
    {
      "cell_type": "code",
      "execution_count": 9,
      "metadata": {
        "id": "wVYtgrMUDh7o"
      },
      "outputs": [
        {
          "data": {
            "application/vnd.jupyter.widget-view+json": {
              "model_id": "677be050e6994279ba8766e3aa79751c",
              "version_major": 2,
              "version_minor": 0
            },
            "text/html": [
              "\n",
              "            <div style=\"display: inline-block;\">\n",
              "                <div class=\"jupyter-widgets widget-label\" style=\"text-align: center;\">\n",
              "                    Figure\n",
              "                </div>\n",
              "                <img src='data:image/png;base64,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' width=432.0/>\n",
              "            </div>\n",
              "        "
            ],
            "text/plain": [
              "Canvas(toolbar=Toolbar(toolitems=[('Home', 'Reset original view', 'home', 'home'), ('Back', 'Back to previous …"
            ]
          },
          "metadata": {},
          "output_type": "display_data"
        }
      ],
      "source": [
        "tif_file = pre_files[\"ndvi\"][0]\n",
        "quantity = \"NDVI\"\n",
        "unit = \"[-]\"\n",
        "\n",
        "pywapor.post_et_look.plot_tif(tif_file, quantity, unit)"
      ]
    },
    {
      "cell_type": "markdown",
      "metadata": {
        "id": "4Gbe46u9IvMW"
      },
      "source": [
        "Now that we have all the required input files its time to run the actual model!"
      ]
    },
    {
      "cell_type": "markdown",
      "metadata": {
        "id": "s0VaOK65I4Gi"
      },
      "source": [
        "# Running ETLook\n",
        "\n",
        "To run the model, we need to give at least two inputs to `pywapor.et_look_code.main()`:\n",
        "\n",
        "1.   The `project_folder`, wich we already defined.\n",
        "2.   And the specific `date` for which to run the model. Here we'll use `startdate`."
      ]
    },
    {
      "cell_type": "code",
      "execution_count": 10,
      "metadata": {
        "id": "cJpRk0dkJ4El"
      },
      "outputs": [
        {
          "name": "stdout",
          "output_type": "stream",
          "text": [
            "--> Running ETLook_v2\n",
            "----> u_24 will be calculated from u2m_24 and v2m_24.\n",
            "----> trans_24 will be calculated from ra_24.\n",
            "----> z_oro will be calculated from slope.\n",
            "----> lw_offset will be constant at -4.7000.\n",
            "----> lw_slope will be constant at 6.9900.\n",
            "----> r0_bare will be constant at 0.2650.\n",
            "----> r0_full will be constant at 0.2540.\n",
            "----> rn_offset will be constant at -209.7740.\n",
            "----> rn_slope will be constant at 1.3940.\n",
            "----> t_opt will be constant at 23.0970.\n",
            "----> vpd_slope will be constant at -0.3000.\n",
            "----> resolution is ~205 meter.\n"
          ]
        }
      ],
      "source": [
        "files = pywapor.et_look.main(project_folder, startdate)"
      ]
    },
    {
      "cell_type": "markdown",
      "metadata": {
        "id": "MLf3M4liMGdF"
      },
      "source": [
        "You'll see an message indicating that `'se_root'` was `not found`. This is no problem, ETLook can calculate `se_root` with the inputs we've provided, but it can also be given as input in case you have some great soil moisture dataset lying around.\n",
        "\n",
        "Now that the model is finished, we can check again if any new files have been created, just like we did before."
      ]
    },
    {
      "cell_type": "code",
      "execution_count": 11,
      "metadata": {
        "id": "quvj1cR3K0iQ"
      },
      "outputs": [
        {
          "name": "stdout",
          "output_type": "stream",
          "text": [
            "e_24_mm_20210701.tif      et_ref_24_mm_20210701.tif se_root_20210701.tif\n",
            "et_24_mm_20210701.tif     int_mm_20210701.tif       t_24_mm_20210701.tif\n"
          ]
        }
      ],
      "source": [
        "!ls out_level_1*/*"
      ]
    },
    {
      "cell_type": "markdown",
      "metadata": {
        "id": "lN3V9RNAMTLu"
      },
      "source": [
        "If everything went well, there should be a new folder called `out_level_1`, showing several output files that have been created.\n",
        "\n"
      ]
    },
    {
      "cell_type": "markdown",
      "metadata": {
        "id": "WaBldQ7xMvJs"
      },
      "source": [
        "# ETLook Output\n",
        "\n",
        "Like we did before, we can plot a map by giving a path to a tif-file."
      ]
    },
    {
      "cell_type": "code",
      "execution_count": 13,
      "metadata": {
        "id": "2cWvCeCALCMb"
      },
      "outputs": [
        {
          "name": "stdout",
          "output_type": "stream",
          "text": [
            "True\n"
          ]
        }
      ],
      "source": [
        "tif_file = files[\"et_24_mm\"]\n",
        "quantity = \"Evapotranspiration\"\n",
        "unit = \"[mm/day]\"\n",
        "\n",
        "pywapor.post_et_look.plot_tif(tif_file, quantity, unit)"
      ]
    },
    {
      "cell_type": "markdown",
      "metadata": {
        "id": "PCBZks2RM4pt"
      },
      "source": [
        "Or we can open the map to calculate some statistics."
      ]
    },
    {
      "cell_type": "code",
      "execution_count": 14,
      "metadata": {
        "id": "o5_eJdngNBS_"
      },
      "outputs": [
        {
          "name": "stdout",
          "output_type": "stream",
          "text": [
            "resolution: (408, 510)\n",
            "total pixels: 208080\n",
            "number of pixels with missing data: 844\n",
            "maximum value: 9.14\n",
            "minimum value: 0.11\n",
            "mean: 2.05\n",
            "median: 0.38\n"
          ]
        }
      ],
      "source": [
        "import numpy as np\n",
        "\n",
        "array = pywapor.general.processing_functions.open_as_array(tif_file)\n",
        "\n",
        "print(\"resolution:\", array.shape)\n",
        "print(\"total pixels:\", array.size)\n",
        "print(\"number of pixels with missing data:\", np.sum(np.isnan(array)))\n",
        "print(\"maximum value: {0:.2f}\".format(np.nanmax(array)))\n",
        "print(\"minimum value: {0:.2f}\".format(np.nanmin(array)))\n",
        "print(\"mean: {0:.2f}\".format(np.nanmean(array)))\n",
        "print(\"median: {0:.2f}\".format(np.nanmedian(array)))"
      ]
    },
    {
      "cell_type": "markdown",
      "metadata": {
        "id": "0xeoMH8j-vVD"
      },
      "source": [
        "# Input configurations"
      ]
    },
    {
      "cell_type": "markdown",
      "metadata": {
        "id": "4g2tMFZu3oY9"
      },
      "source": [
        "## Level-2 inputs\n",
        "\n",
        "Now that we have run ETLook for a simple use case, we'll have a look at how to run it at different levels or with different input datasets.\n",
        "\n",
        "When downloading input data with `pywapor.pre_et_look.main` as we did before, it is possible to select a level for which to download data. By default, this level is set to `level_1`.\n",
        "\n",
        "We can have a closer look at what this actually means by running the following functions.\n",
        "\n",
        "\n",
        "\n",
        "\n"
      ]
    },
    {
      "cell_type": "code",
      "execution_count": 16,
      "metadata": {
        "id": "GA7FNIlZ4v4W"
      },
      "outputs": [
        {
          "ename": "AttributeError",
          "evalue": "module 'pywapor.post_et_look' has no attribute 'prettyprint'",
          "output_type": "error",
          "traceback": [
            "\u001b[0;31m---------------------------------------------------------------------------\u001b[0m",
            "\u001b[0;31mAttributeError\u001b[0m                            Traceback (most recent call last)",
            "\u001b[0;32m/var/folders/xg/zl4sr4bn7_vfqc9m46h8n3sr0000gn/T/ipykernel_10753/1713793978.py\u001b[0m in \u001b[0;36m<module>\u001b[0;34m\u001b[0m\n\u001b[1;32m      1\u001b[0m \u001b[0mlevel\u001b[0m \u001b[0;34m=\u001b[0m \u001b[0;34m\"level_1\"\u001b[0m\u001b[0;34m\u001b[0m\u001b[0;34m\u001b[0m\u001b[0m\n\u001b[1;32m      2\u001b[0m \u001b[0mlevels\u001b[0m \u001b[0;34m=\u001b[0m \u001b[0mpywapor\u001b[0m\u001b[0;34m.\u001b[0m\u001b[0mgeneral\u001b[0m\u001b[0;34m.\u001b[0m\u001b[0mvariables\u001b[0m\u001b[0;34m.\u001b[0m\u001b[0mget_source_level_selections\u001b[0m\u001b[0;34m(\u001b[0m\u001b[0;34m)\u001b[0m\u001b[0;34m\u001b[0m\u001b[0;34m\u001b[0m\u001b[0m\n\u001b[0;32m----> 3\u001b[0;31m \u001b[0mpywapor\u001b[0m\u001b[0;34m.\u001b[0m\u001b[0mpost_et_look\u001b[0m\u001b[0;34m.\u001b[0m\u001b[0mprettyprint\u001b[0m\u001b[0;34m(\u001b[0m\u001b[0mlevels\u001b[0m\u001b[0;34m[\u001b[0m\u001b[0mlevel\u001b[0m\u001b[0;34m]\u001b[0m\u001b[0;34m)\u001b[0m\u001b[0;34m\u001b[0m\u001b[0;34m\u001b[0m\u001b[0m\n\u001b[0m",
            "\u001b[0;31mAttributeError\u001b[0m: module 'pywapor.post_et_look' has no attribute 'prettyprint'"
          ]
        }
      ],
      "source": [
        "level = \"level_1\"\n",
        "levels = pywapor.general.variables.get_source_level_selections()\n",
        "pywapor.post_et_look.prettyprint(levels[level])"
      ]
    },
    {
      "cell_type": "markdown",
      "metadata": {
        "id": "nWmryPa15M46"
      },
      "source": [
        "You can see here which datasets are used for each (type of) variable. For example, the NDVI map we've used as input to ETLook was created using data from `MOD13` and `MYD13`. Notice that this information was also stored in the metadata (json) file that we've looked at earlier.\n",
        "\n",
        "We can check which other levels are available in this version of `pywapor` by checking the keys in the levels dictionary we've just created."
      ]
    },
    {
      "cell_type": "code",
      "execution_count": 17,
      "metadata": {
        "id": "pQ9XgNV_53BQ"
      },
      "outputs": [
        {
          "name": "stdout",
          "output_type": "stream",
          "text": [
            "dict_keys(['level_1', 'level_2'])\n"
          ]
        }
      ],
      "source": [
        "print(levels.keys())"
      ]
    },
    {
      "cell_type": "markdown",
      "metadata": {
        "id": "7THkaWpj6VIp"
      },
      "source": [
        "Let's have a look at the datasets used for `level_2`."
      ]
    },
    {
      "cell_type": "code",
      "execution_count": null,
      "metadata": {
        "id": "IejI34Cb6fE8"
      },
      "outputs": [],
      "source": [
        "level = \"level_2\"\n",
        "pywapor.post_et_look.prettyprint(levels[level])"
      ]
    },
    {
      "cell_type": "markdown",
      "metadata": {
        "id": "yGmz9BPq6p8l"
      },
      "source": [
        "As you can see, the difference between `level_1` and `level_2` is the dataset used to create the NDVI and ALBEDO inputs. For `level_2`, they are derived from PROBA-V images, which have a higher resolution than the MODIS products.\n",
        "\n",
        "Let's give `level_2` a try! Beware though, that the downloading of the PROBA-V images can take some time! \n",
        "\n",
        "> ⚠️  \n",
        ">\n",
        "> You'll notice that you'll be prompted for another username and password. This time for a [VITO account](https://www.vito-eodata.be/PDF/portal/Application.html). We could set this account up by running `pywapor.collect.setup_dl_accounts.setup_account(\"VITO\")` as well (like we did before for the NASA and WAPOR accounts). But `pywapor.pre_et_look.main` also checks if the required accounts can be found and gives a prompt if thats's not the case. \n",
        ">\n",
        ">You can create a VITO account [here](https://www.vito-eodata.be/PDF/portal/Application.html).\n",
        ">\n",
        "> ⚠️  \n"
      ]
    },
    {
      "cell_type": "code",
      "execution_count": 18,
      "metadata": {
        "colab": {
          "background_save": true
        },
        "id": "5guW3Xjm6_Ct"
      },
      "outputs": [
        {
          "name": "stdout",
          "output_type": "stream",
          "text": [
            "\n",
            "#################\n",
            "## PRE_ET_LOOK ##\n",
            "#################\n",
            "\n",
            "#### NDVI ####\n"
          ]
        },
        {
          "name": "stderr",
          "output_type": "stream",
          "text": [
            "2021.07.16:               : 100%|██████████| 22.0/22.0 [00:56<00:00,  2.56s/days]\n"
          ]
        },
        {
          "name": "stdout",
          "output_type": "stream",
          "text": [
            "--> Reprojecting datasets.\n",
            "--> Calculating composites.\n",
            "\n",
            "#### ALBEDO ####\n"
          ]
        },
        {
          "name": "stderr",
          "output_type": "stream",
          "text": [
            "2021.07.16:               : 100%|██████████| 22.0/22.0 [00:56<00:00,  2.55s/days]"
          ]
        },
        {
          "name": "stdout",
          "output_type": "stream",
          "text": [
            "--> Reprojecting datasets.\n"
          ]
        },
        {
          "name": "stderr",
          "output_type": "stream",
          "text": [
            "\n"
          ]
        },
        {
          "name": "stdout",
          "output_type": "stream",
          "text": [
            "--> Calculating composites.\n",
            "\n",
            "#### PRECIPITATION ####\n",
            "\n",
            "Downloading daily CHIRPS rainfall data for the period 2021-07-01 till 2021-07-10\n",
            "Progress: |██████████████████████████████████████████████████| 100.0% Complete\n",
            "--> Reprojecting datasets.\n",
            "--> Calculating composites.\n",
            "\n",
            "#### DEM ####\n",
            "\n",
            "#### SLOPE ASPECT ####\n",
            "\n",
            "#### LULC ####\n",
            "\n",
            "#### METEO ####\n"
          ]
        },
        {
          "name": "stderr",
          "output_type": "stream",
          "text": [
            "slp:  86%|████████▌ | 60/70 [00:00<00:00, 2614.52it/s]"
          ]
        },
        {
          "name": "stdout",
          "output_type": "stream",
          "text": [
            "## t2m ##\n",
            "--> Reprojecting datasets.\n",
            "--> Calculating composites.\n",
            "## t2m-min ##\n",
            "--> Reprojecting datasets.\n",
            "--> Calculating composites.\n",
            "## t2m-max ##\n",
            "--> Reprojecting datasets.\n",
            "--> Calculating composites.\n",
            "## u2m ##\n",
            "--> Reprojecting datasets.\n",
            "--> Calculating composites.\n",
            "## v2m ##\n",
            "--> Reprojecting datasets.\n",
            "--> Calculating composites.\n",
            "## qv2m ##\n",
            "--> Reprojecting datasets.\n",
            "--> Calculating composites.\n",
            "## tqv ##\n",
            "## ps ##\n",
            "## slp ##\n",
            "--> Reprojecting datasets.\n",
            "--> Calculating composites.\n",
            "\n",
            "#################\n",
            "## PRE_SE_ROOT ##\n",
            "#################\n",
            "\n",
            "#### NDVI ####\n"
          ]
        },
        {
          "name": "stderr",
          "output_type": "stream",
          "text": [
            "2021.07.16:               : 100%|██████████| 22.0/22.0 [00:54<00:00,  2.46s/days]\n"
          ]
        },
        {
          "name": "stdout",
          "output_type": "stream",
          "text": [
            "--> Reprojecting datasets.\n",
            "--> Exporting timeseries.\n",
            "\n",
            "#### LST ####\n",
            "\n",
            "Download daily MODIS land surface temperature data for period 2021-07-01 till 2021-07-10\n",
            "Progress: |██████████████████████████████████████████████████| 100.0% Complete\n",
            "\n",
            "Download daily MODIS land surface temperature data for period 2021-07-01 till 2021-07-10\n",
            "Progress: |██████████████████████████████████████████████████| 100.0% Complete\n",
            "\n",
            "#### DEM ####\n",
            "\n",
            "#### METEO ####\n"
          ]
        },
        {
          "name": "stderr",
          "output_type": "stream",
          "text": [
            "slp: 100%|██████████| 217/217 [00:01<00:00, 215.41it/s]"
          ]
        },
        {
          "name": "stdout",
          "output_type": "stream",
          "text": [
            "## Pair_inst_0 ##\n",
            "## Pair_inst ##\n",
            "## qv_inst ##\n",
            "## tair_inst ##\n",
            "## wv_inst ##\n",
            "## v2m_inst ##\n",
            "## u2m_inst ##\n",
            "\n",
            "#################\n",
            "## PRE_SE_ROOT ##\n",
            "##### DONE ######\n",
            "\n",
            "\n",
            "#### SE_ROOT ####\n",
            "--> Calculating se_root.\n"
          ]
        },
        {
          "name": "stderr",
          "output_type": "stream",
          "text": [
            "100%|██████████| 31/31 [00:00<00:00, 226.37it/s]\n"
          ]
        },
        {
          "name": "stdout",
          "output_type": "stream",
          "text": [
            "--> Reprojecting datasets.\n",
            "--> Calculating composites.\n",
            "[########################################] | 100% Completed |  1min 15.1s\n",
            "\n",
            "#### LAT LON ####\n",
            "\n",
            "#### SOLAR RADIATION ####\n",
            "\n",
            "Downloading daily MERRA swgnet data for the period 2021-07-01 till 2021-07-10\n",
            "Progress: |██████████████████████████████████████████████████| 100.0% Complete\n",
            "--> Reprojecting datasets.\n",
            "--> Calculating composites.\n",
            "\n",
            "#### TEMP. AMPLITUDE ####\n",
            "\n",
            "#################\n",
            "## PRE_ET_LOOK ##\n",
            "##### DONE ######\n",
            "\n"
          ]
        }
      ],
      "source": [
        "level = \"level_2\"\n",
        "pre_files_lvl2 = pywapor.pre_et_look.main(project_folder, startdate, enddate, latlim, lonlim, level)"
      ]
    },
    {
      "cell_type": "markdown",
      "metadata": {
        "id": "wNXvss2l9O4i"
      },
      "source": [
        "Downloading and processing the PROBA-V scenes will take quite some time as they are relatively large. But since we've already downloaded the other datasets for `level_1`, the function will find much of the other required datasets in the aforementioned `RAW` folder and won't have to download them again.\n",
        "\n",
        "We can check the contents of our `project_folder` again by running the following code."
      ]
    },
    {
      "cell_type": "code",
      "execution_count": 19,
      "metadata": {
        "id": "oa03G8dw932E"
      },
      "outputs": [
        {
          "name": "stdout",
          "output_type": "stream",
          "text": [
            "level_2/metadata_level_2.json\n",
            "\n",
            "level_2/20210701:\n",
            "P_24_20210701.tif         r0_20210701.tif           t_air_max_24_20210701.tif\n",
            "ndvi_20210701.tif         ra_24_20210701.tif        t_air_min_24_20210701.tif\n",
            "p_air_24_0_20210701.tif   se_root_20210701.tif      u2m_24_20210701.tif\n",
            "qv_24_20210701.tif        t_air_24_20210701.tif     v2m_24_20210701.tif\n",
            "\n",
            "level_2/SMC:\n",
            "SMC_-_-_inst_2021.07.01.09.24.tif SMC_-_-_inst_2021.07.06.08.00.tif\n",
            "SMC_-_-_inst_2021.07.01.11.00.tif SMC_-_-_inst_2021.07.06.08.06.tif\n",
            "SMC_-_-_inst_2021.07.01.11.06.tif SMC_-_-_inst_2021.07.06.11.18.tif\n",
            "SMC_-_-_inst_2021.07.02.08.24.tif SMC_-_-_inst_2021.07.06.11.24.tif\n",
            "SMC_-_-_inst_2021.07.02.08.30.tif SMC_-_-_inst_2021.07.07.08.48.tif\n",
            "SMC_-_-_inst_2021.07.02.11.42.tif SMC_-_-_inst_2021.07.07.12.00.tif\n",
            "SMC_-_-_inst_2021.07.02.11.48.tif SMC_-_-_inst_2021.07.07.12.06.tif\n",
            "SMC_-_-_inst_2021.07.03.09.12.tif SMC_-_-_inst_2021.07.08.09.30.tif\n",
            "SMC_-_-_inst_2021.07.03.10.48.tif SMC_-_-_inst_2021.07.08.11.06.tif\n",
            "SMC_-_-_inst_2021.07.03.10.54.tif SMC_-_-_inst_2021.07.08.11.12.tif\n",
            "SMC_-_-_inst_2021.07.04.08.12.tif SMC_-_-_inst_2021.07.09.08.36.tif\n",
            "SMC_-_-_inst_2021.07.04.08.18.tif SMC_-_-_inst_2021.07.09.11.48.tif\n",
            "SMC_-_-_inst_2021.07.04.11.30.tif SMC_-_-_inst_2021.07.09.11.54.tif\n",
            "SMC_-_-_inst_2021.07.04.11.36.tif SMC_-_-_inst_2021.07.10.09.18.tif\n",
            "SMC_-_-_inst_2021.07.05.09.00.tif SMC_-_-_inst_2021.07.10.10.54.tif\n",
            "SMC_-_-_inst_2021.07.05.10.36.tif\n",
            "\n",
            "level_2/static:\n",
            "aspect_deg.tif      lon_deg.tif         slope_deg.tif       z_obst_max_2021.tif\n",
            "land_mask_2021.tif  lue_max_2021.tif    t_amp_year_2021.tif\n",
            "lat_deg.tif         rs_min_2021.tif     z.tif\n"
          ]
        }
      ],
      "source": [
        "!ls level_2*/*"
      ]
    },
    {
      "cell_type": "markdown",
      "metadata": {
        "id": "Lh69IWzw9-wx"
      },
      "source": [
        "Next, we can run ETLook using the `level_2` data like this."
      ]
    },
    {
      "cell_type": "code",
      "execution_count": 20,
      "metadata": {
        "id": "QMHFJxKS-Iig"
      },
      "outputs": [
        {
          "name": "stdout",
          "output_type": "stream",
          "text": [
            "--> Running ETLook_v2\n",
            "----> u_24 will be calculated from u2m_24 and v2m_24.\n",
            "----> trans_24 will be calculated from ra_24.\n",
            "----> z_oro will be calculated from slope.\n",
            "----> lw_offset will be constant at -4.7000.\n",
            "----> lw_slope will be constant at 6.9900.\n",
            "----> r0_bare will be constant at 0.2650.\n",
            "----> r0_full will be constant at 0.2540.\n",
            "----> rn_offset will be constant at -209.7740.\n",
            "----> rn_slope will be constant at 1.3940.\n",
            "----> t_opt will be constant at 23.0970.\n",
            "----> vpd_slope will be constant at -0.3000.\n",
            "----> resolution is ~103 meter.\n"
          ]
        }
      ],
      "source": [
        "files_lvl2 = pywapor.et_look.main(project_folder, startdate, level)"
      ]
    },
    {
      "cell_type": "markdown",
      "metadata": {
        "id": "AFMggFouPqrd"
      },
      "source": [
        "We can check the pixel size in degrees of the `level_1` and `level_2` outputs like this."
      ]
    },
    {
      "cell_type": "code",
      "execution_count": 21,
      "metadata": {
        "id": "P3xNKcAoN5BC"
      },
      "outputs": [
        {
          "name": "stdout",
          "output_type": "stream",
          "text": [
            "Resolution level_1: 0.0020°\n",
            "           level_2: 0.0010°\n"
          ]
        }
      ],
      "source": [
        "level_1_file = files[\"et_24_mm\"]\n",
        "level_2_file = files_lvl2[\"et_24_mm\"]\n",
        "\n",
        "l1_xres = pywapor.general.processing_functions.get_geoinfo(level_1_file)[0][1]\n",
        "l2_xres = pywapor.general.processing_functions.get_geoinfo(level_2_file)[0][1]\n",
        "\n",
        "print(\"Resolution level_1: {0:.4f}°\".format(l1_xres))\n",
        "print(\"           level_2: {0:.4f}°\".format(l2_xres))"
      ]
    },
    {
      "cell_type": "markdown",
      "metadata": {
        "id": "y8N_f26B-25h"
      },
      "source": [
        "## Custom inputs\n",
        "\n",
        "Besides using the predefined levels, it is also possible to create your own custom level. Instead of passing a string to the `level` input parameter of `pywapor.pre_et_look.main`, we can also pass a dictionary that specifies which products we would like to use.\n",
        "\n",
        "Lets start by creating such a dictionary by choosing some sources from this table.\n",
        "\n",
        "\n",
        "| Source | Temporal Availability | Temporal Resolution |Spatial Resolution | Used For |\n",
        "| ------ | ------ | ------ | ------ | ------ |\n",
        "|[MOD13](https://lpdaac.usgs.gov/products/mod13q1v006/) | 2000-02-18 - ongoing | 16-Daily |250m|NDVI|\n",
        "|[MYD13](https://lpdaac.usgs.gov/products/myd13q1v006/) | 2002-07-04 - ongoing | 16-Daily |250m|NDVI|\n",
        "|[MCD43](https://lpdaac.usgs.gov/products/mcd43a1v006/)|2000-02-16 - ongoing|Daily|500m|Albedo|\n",
        "|[MOD11](https://lpdaac.usgs.gov/products/mod11a1v006/) | 2000-02-24 - ongoing | Daily | 1000m | LST |\n",
        "|[MYD11](https://lpdaac.usgs.gov/products/myd11a1v006/)| 2002-07-04 - ongoing | Daily | 1000m | LST |\n",
        "|[PROBAV](https://www.vito-eodata.be/collectioncatalogue/srv/eng/catalog.search#/metadata/urn:ogc:def:EOP:VITO:PROBAV_S5-TOC_100M_V001)|2014-03-11 - ongoing|5-Daily|100m|NDVI, Albedo|\n",
        "| [GEOS5](https://geos5.org) | 2017-12-01 - ongoing | 3-Hourly |0.3125°×0.25° | Meteo |\n",
        "| [MERRA2](https://gmao.gsfc.nasa.gov/reanalysis/MERRA-2/) | 1980-01-01 - ongoing | Hourly | 0.625°×0.5° | Meteo | \n",
        "| [CHIRPS](https://www.chc.ucsb.edu/data/chirps) |  1981-01-01 - ongoing | Daily | 0.05° | Precipitation |\n",
        "| [WAPOR](https://wapor.apps.fao.org/catalog/WAPOR_2/1/L1_LCC_A) | 2009 - 2020 | Yearly |250m | Landcover |\n",
        "| [GLOBCOVER](http://due.esrin.esa.int/page_globcover.php) | 2009 | Single| 250m | Landcover |\n",
        "| [SRTM](https://srtm.csi.cgiar.org) | 2009 | Single | 90m | DEM |\n"
      ]
    },
    {
      "cell_type": "code",
      "execution_count": 22,
      "metadata": {
        "id": "50Sttzaw_hoX"
      },
      "outputs": [],
      "source": [
        "my_custom_level = {\n",
        "        \"METEO\": [\"MERRA2\"],\n",
        "        \"NDVI\": [\"PROBAV\"],\n",
        "        \"ALBEDO\": [\"MDC43\"],\n",
        "        \"LST\": [\"MOD11\", \"MYD11\"],\n",
        "        \"LULC\": [\"GLOBCOVER\"],\n",
        "        \"DEM\": [\"SRTM\"],\n",
        "        \"TRANS\": [\"MERRA2\"],\n",
        "        \"PRECIPITATION\": [\"CHIRPS\"],\n",
        "}"
      ]
    },
    {
      "cell_type": "markdown",
      "metadata": {
        "id": "Rg7zx1wl_3i7"
      },
      "source": [
        "We can check if it is possible to run `pywapor.pre_et_look.main` and `pywapor.et_look.main` with this custom level for a chosen start and enddate by passing it into the following function."
      ]
    },
    {
      "cell_type": "code",
      "execution_count": 23,
      "metadata": {
        "id": "R01EbxyvAHgT"
      },
      "outputs": [
        {
          "name": "stdout",
          "output_type": "stream",
          "text": [
            "valid custom level: True\n"
          ]
        }
      ],
      "source": [
        "results, succes = pywapor.general.tests.check_source_selection(my_custom_level, \n",
        "                                                        startdate, enddate)\n",
        "print(f\"valid custom level: {succes}\")"
      ]
    },
    {
      "cell_type": "markdown",
      "metadata": {
        "id": "yURe4EhaEEwd"
      },
      "source": [
        "Now our custom level is ready! We can have a closer look at the the checks that the function performed by looking at the `results` variable."
      ]
    },
    {
      "cell_type": "code",
      "execution_count": 24,
      "metadata": {
        "id": "5zZttjiJERO7"
      },
      "outputs": [
        {
          "ename": "AttributeError",
          "evalue": "module 'pywapor.post_et_look' has no attribute 'prettyprint'",
          "output_type": "error",
          "traceback": [
            "\u001b[0;31m---------------------------------------------------------------------------\u001b[0m",
            "\u001b[0;31mAttributeError\u001b[0m                            Traceback (most recent call last)",
            "\u001b[0;32m/var/folders/xg/zl4sr4bn7_vfqc9m46h8n3sr0000gn/T/ipykernel_10753/1746574418.py\u001b[0m in \u001b[0;36m<module>\u001b[0;34m\u001b[0m\n\u001b[0;32m----> 1\u001b[0;31m \u001b[0mpywapor\u001b[0m\u001b[0;34m.\u001b[0m\u001b[0mpost_et_look\u001b[0m\u001b[0;34m.\u001b[0m\u001b[0mprettyprint\u001b[0m\u001b[0;34m(\u001b[0m\u001b[0mresults\u001b[0m\u001b[0;34m)\u001b[0m\u001b[0;34m\u001b[0m\u001b[0;34m\u001b[0m\u001b[0m\n\u001b[0m",
            "\u001b[0;31mAttributeError\u001b[0m: module 'pywapor.post_et_look' has no attribute 'prettyprint'"
          ]
        }
      ],
      "source": [
        "pywapor.post_et_look.prettyprint(results)"
      ]
    },
    {
      "cell_type": "markdown",
      "metadata": {
        "id": "Sv2ODjxGEaQq"
      },
      "source": [
        "As you can see, the function also checks if the selected sources are available for the chosen dates. \n",
        "\n",
        "Finally, we can give a name to the custom level (but this is not required, the default name is `custom`) and then start downloading the required data."
      ]
    },
    {
      "cell_type": "code",
      "execution_count": 25,
      "metadata": {
        "id": "sWAdYPf3EmQZ"
      },
      "outputs": [
        {
          "name": "stdout",
          "output_type": "stream",
          "text": [
            "\n",
            "#################\n",
            "## PRE_ET_LOOK ##\n",
            "#################\n",
            "\n",
            "#### NDVI ####\n"
          ]
        },
        {
          "name": "stderr",
          "output_type": "stream",
          "text": [
            "2021.07.16:               : 100%|██████████| 22.0/22.0 [00:55<00:00,  2.52s/days]\n"
          ]
        },
        {
          "name": "stdout",
          "output_type": "stream",
          "text": [
            "--> Reprojecting datasets.\n",
            "--> Calculating composites.\n",
            "\n",
            "#### ALBEDO ####\n",
            "\n",
            "Download daily MODIS Albedo data for period 2021-07-01 till 2021-07-10\n",
            "Progress: |██████████████████████████████████████████████████| 100.0% Complete\n",
            "--> Reprojecting datasets.\n",
            "--> Calculating composites.\n",
            "\n",
            "#### PRECIPITATION ####\n",
            "\n",
            "Downloading daily CHIRPS rainfall data for the period 2021-07-01 till 2021-07-10\n",
            "Progress: |██████████████████████████████████████████████████| 100.0% Complete\n",
            "--> Reprojecting datasets.\n",
            "--> Calculating composites.\n",
            "\n",
            "#### DEM ####\n",
            "\n",
            "#### SLOPE ASPECT ####\n",
            "\n",
            "#### LULC ####\n",
            "\n",
            "Download Globcover landcover map\n",
            "Progress: |██████████████████████████████████████████████████| 100.0% Complete\n",
            "\n",
            "#### METEO ####\n",
            "\n",
            "Downloading daily MERRA t2m data for the period 2021-07-01 till 2021-07-10\n",
            "Progress: |██████████████████████████████████████████████████| 100.0% Complete\n",
            "\n",
            "Downloading daily MERRA u2m data for the period 2021-07-01 till 2021-07-10\n",
            "Progress: |██████████████████████████████████████████████████| 100.0% Complete\n",
            "\n",
            "Downloading daily MERRA v2m data for the period 2021-07-01 till 2021-07-10\n",
            "Progress: |██████████████████████████████████████████████████| 100.0% Complete\n",
            "\n",
            "Downloading daily MERRA q2m data for the period 2021-07-01 till 2021-07-10\n",
            "Progress: |██████████████████████████████████████████████████| 100.0% Complete\n",
            "\n",
            "Downloading daily MERRA tpw data for the period 2021-07-01 till 2021-07-10\n",
            "Progress: |██████████████████████████████████████████████████| 100.0% Complete\n",
            "\n",
            "Downloading daily MERRA ps data for the period 2021-07-01 till 2021-07-10\n",
            "Progress: |██████████████████████████████████████████████████| 100.0% Complete\n",
            "\n",
            "Downloading daily MERRA slp data for the period 2021-07-01 till 2021-07-10\n",
            "Progress: |██████████████████████████████████████████████████| 100.0% Complete\n",
            "\n",
            "Downloading daily MERRA t2m data for the period 2021-07-01 till 2021-07-10\n",
            "Progress: |██████████████████████████████████████████████████| 100.0% Complete\n",
            "## t2m-max ##\n",
            "--> Reprojecting datasets.\n",
            "--> Calculating composites.\n",
            "## t2m-min ##\n",
            "--> Reprojecting datasets.\n",
            "--> Calculating composites.\n",
            "## t2m ##\n",
            "--> Reprojecting datasets.\n",
            "--> Calculating composites.\n",
            "## u2m ##\n",
            "--> Reprojecting datasets.\n",
            "--> Calculating composites.\n"
          ]
        }
      ],
      "source": [
        "my_custom_level[\"name\"] = \"my_first_custom_level\"\n",
        "\n",
        "pre_files_cstm = pywapor.pre_et_look.main(project_folder, startdate, enddate, latlim, lonlim, my_custom_level)"
      ]
    },
    {
      "cell_type": "markdown",
      "metadata": {
        "id": "t9a2_qrvHPYE"
      },
      "source": [
        "And then again, run ETLook like this.\n",
        "\n",
        "> ⚠️  \n",
        ">\n",
        "> Note that here we don't pass the dictionary, but the name of the level as the level selector!\n",
        ">\n",
        "> ⚠️  \n",
        "\n"
      ]
    },
    {
      "cell_type": "code",
      "execution_count": null,
      "metadata": {
        "id": "phhPDillHOsg"
      },
      "outputs": [],
      "source": [
        "files_cstm = pywapor.et_look.main(project_folder, startdate, \"my_first_custom_level\")"
      ]
    }
  ],
  "metadata": {
    "colab": {
      "collapsed_sections": [],
      "name": "pywapor_101_v220.ipynb",
      "provenance": [],
      "toc_visible": true
    },
    "kernelspec": {
      "display_name": "Python 3",
      "name": "python3"
    },
    "language_info": {
      "codemirror_mode": {
        "name": "ipython",
        "version": 3
      },
      "file_extension": ".py",
      "mimetype": "text/x-python",
      "name": "python",
      "nbconvert_exporter": "python",
      "pygments_lexer": "ipython3",
      "version": "3.9.7"
    }
  },
  "nbformat": 4,
  "nbformat_minor": 0
}
