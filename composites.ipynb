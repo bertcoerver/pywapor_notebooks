{
 "cells": [
  {
   "cell_type": "markdown",
   "metadata": {},
   "source": [
    "#### Notebooks\n",
    "|  | Name | Duration* |\n",
    "| ------ | ------ | ------ |\n",
    "| 1. | [Introduction](https://colab.research.google.com/github/bertcoerver/pywapor_notebooks/blob/main/pywapor_101.ipynb) | 10 + 30 |\n",
    "| 2. | [Levels](https://colab.research.google.com/github/bertcoerver/pywapor_notebooks/blob/main/levels.ipynb) | 10 + 120 |\n",
    "| 3. | **Composites** | 10 + 10 |\n",
    "| 4. | [pyWaPOR vs. WaPOR](https://colab.research.google.com/github/bertcoerver/pywapor_notebooks/blob/main/wapor_vs_pywapor.ipynb) | 10 + 30 |\n",
    "| 5. | Soil Saturation | > Coming Soon < |\n",
    "\n",
    "\\* Estimation of the time required in minutes, as in \"active\" + \"download time\". \n",
    "\n",
    "\\* Also note that running the different notebooks on the same instance (or your own computer), will save you a lot of \"download time\" because the downloaded data can be reused between the notebooks."
   ]
  },
  {
   "cell_type": "markdown",
   "metadata": {},
   "source": [
    "# Composites\n",
    "\n",
    "In this notebook we'll take a closer look at how pre_et_look works internally. To do so, we'll be using a couple of functions that you'd normally not need to touch, because they are called automatically when you pre_et_look."
   ]
  },
  {
   "cell_type": "markdown",
   "metadata": {},
   "source": [
    "First, we'll install pywapor in case it's not installed yet."
   ]
  },
  {
   "cell_type": "code",
   "execution_count": null,
   "metadata": {},
   "outputs": [],
   "source": [
    "!pip install pywapor==2.3.2 --quiet"
   ]
  },
  {
   "cell_type": "markdown",
   "metadata": {},
   "source": [
    "Then we can define some of the basic parameters, that were explained in the introduction notebook. In this case we'll look at the Fayoum region again, for a period of two months."
   ]
  },
  {
   "cell_type": "code",
   "execution_count": null,
   "metadata": {},
   "outputs": [],
   "source": [
    "import pywapor\n",
    "\n",
    "project_folder = r\"/Users/hmcoerver/On My Mac/pyWAPOR/example_data\"\n",
    "latlim = [28.9, 29.7]\n",
    "lonlim = [30.2, 31.2]\n",
    "startdate = \"2021-06-01\"\n",
    "enddate = \"2021-08-01\""
   ]
  },
  {
   "cell_type": "markdown",
   "metadata": {},
   "source": [
    "One of the first things happening when you run pre_et_look, is the creation of a more precise definition of the composites (from here on also referred to as epochs) for which pre_et_look will prepare the data to be used by et_look.\n",
    "\n",
    "The default value for the composite_length in pywapor.pre_et_look.main is \"DEKAD\", which creates three composites per month, just like much of the WaPOR data. We'll go with this default value for now. The variable epochs_info consists of three lists, with information on the number, startdate and enddate of each epoch."
   ]
  },
  {
   "cell_type": "code",
   "execution_count": null,
   "metadata": {},
   "outputs": [],
   "source": [
    "composite_length = \"DEKAD\"\n",
    "\n",
    "epochs_info = pywapor.pre_et_look.create_dates(startdate, enddate, composite_length)\n",
    "\n",
    "for number, start, end in zip(*epochs_info):\n",
    "    print(f\"Composite {number + 1} starts at {start} and ends at {end}.\\n\")"
   ]
  },
  {
   "cell_type": "markdown",
   "metadata": {},
   "source": [
    "Besides defining the epochs, pre_et_look also downloads data. In this example we'll look solely at NDVI data (from MOD13 and MYD13). So let's download some data and store it in our RAW folder. In case you already went trough some other notebooks and you're using the same project folder, some of the data should already be there and this step should go pretty quickly."
   ]
  },
  {
   "cell_type": "code",
   "execution_count": null,
   "metadata": {},
   "outputs": [],
   "source": [
    "import os\n",
    "\n",
    "raw_folder = os.path.join(project_folder, \"RAW\")\n",
    "\n",
    "dl_args = (raw_folder, latlim, lonlim, startdate, enddate)\n",
    "\n",
    "raw_ndvi_files = list()\n",
    "raw_ndvi_files.append(pywapor.collect.MOD13.NDVI(*dl_args))\n",
    "raw_ndvi_files.append(pywapor.collect.MYD13.NDVI(*dl_args))"
   ]
  },
  {
   "cell_type": "markdown",
   "metadata": {},
   "source": [
    "Now that we have defined our epochs and downloaded some data, we can create our first composites. To do so, we need to define one more variable, which specifies what kind of composite we want to create. This variable, cmeta, is a dictionary with a couple of keys.\n",
    "\n",
    "* var_name and var_unit simply define the name and unit of the data we are dealing with.\n",
    "* spatial_interp defines the interpolation method used to align datasets with different resolutions with eachother. Since MOD13 and MYD13 each have the same pixel-size, spatial_interp is not relevant here. Possible values are \"nearest\" or \"linear\".\n",
    "* Finally, composite_type and temporal_interp will be explained in more detail below.\n",
    "\n",
    "> Also note that we're passing lean_output as False, by doing so the output of this function will be a bit more extensive than normally, i.e. some temporary internal variables that normally get deleted, are stored and returned now, for the sake of this exercise."
   ]
  },
  {
   "cell_type": "code",
   "execution_count": null,
   "metadata": {},
   "outputs": [],
   "source": [
    "cmeta = {\n",
    "    \"var_name\": \"ndvi\",\n",
    "    \"var_unit\": \"-\",\n",
    "    \"spatial_interp\": \"nearest\",\n",
    "    \"composite_type\": \"mean\",\n",
    "    \"temporal_interp\": False,\n",
    "}\n",
    "\n",
    "ds = pywapor.general.compositer.main(cmeta, raw_ndvi_files, epochs_info, lean_output = False)"
   ]
  },
  {
   "cell_type": "markdown",
   "metadata": {},
   "source": [
    "The compositer.main function return an xarray.Dataset object. We can inspect it my simple doing the following."
   ]
  },
  {
   "cell_type": "code",
   "execution_count": null,
   "metadata": {},
   "outputs": [],
   "source": [
    "ds"
   ]
  },
  {
   "cell_type": "markdown",
   "metadata": {},
   "source": [
    "You'll see a couple of things here:\n",
    "\n",
    "* First of all, the dimensions of this dataset.\n",
    "* Next the different coordinates of the variables.\n",
    "* Then a list of data variables and their respective dimensions. For example, the variable band_data is a 3-dimensional datacube. This variable contains all the original pixel values from the geoTIFFs we've downloaded earlier. \n",
    "* Finally, there is an attribute section, which stores some metadata on this dataset."
   ]
  },
  {
   "cell_type": "markdown",
   "metadata": {},
   "source": [
    "It's quite easy to plot data inside xarray.Dataset object. For example we can create a map of one of the composites we have created (the first epoch in this case)."
   ]
  },
  {
   "cell_type": "code",
   "execution_count": null,
   "metadata": {},
   "outputs": [],
   "source": [
    "qm = ds.composite.isel(epoch = 0).plot()"
   ]
  },
  {
   "cell_type": "markdown",
   "metadata": {},
   "source": [
    "Next, we can have a closer look at the composites we've created, by defining a dictionary with points of interest (POI). Here we'll just add one point to the dictionary and name it \"Agriculture\", since this point is situated in an agricultural area and we'll also add a dot on the previously created map to see where this point is situated."
   ]
  },
  {
   "cell_type": "code",
   "execution_count": null,
   "metadata": {},
   "outputs": [],
   "source": [
    "diagnostics = { # label          # lat      # lon\n",
    "                \"Agriculture\":\t(29.32301,\t30.77599),\n",
    "              }\n",
    "\n",
    "fig = qm.get_figure()\n",
    "fig.clf()\n",
    "qm = ds.composite.isel(epoch = 0).plot()\n",
    "fig = qm.get_figure()\n",
    "for poi_name, (lat, lon) in diagnostics.items():\n",
    "    fig.gca().scatter(lon, lat, c = \"black\", label = poi_name)\n",
    "fig.gca().legend()"
   ]
  },
  {
   "cell_type": "markdown",
   "metadata": {},
   "source": [
    "Now we can plot a timeseries of the NDVI at this POI.\n",
    "\n",
    ">In case you define more POIs, you might also want define an output folder (trough the keyword argument out_folder), as this will make sure the different plots get saved as png-files."
   ]
  },
  {
   "cell_type": "code",
   "execution_count": null,
   "metadata": {},
   "outputs": [],
   "source": [
    "pywapor.post_et_look.plot_composite(ds, diagnostics, out_folder = None)"
   ]
  },
  {
   "cell_type": "markdown",
   "metadata": {},
   "source": [
    "In the graph we have just created, you should see a couple of things. First of all, there are red-stars and green-dots that show available NDVI measurements at our POI, coming from MOD13 and MYD13 respectively. Then there are blue bars that show the composite pixel values at this location. Since our composites are dekadal, the width of the bars is about 10 days (on the x-axis).\n",
    "\n",
    "Each composite value is the mean of the available measurements within the respective epoch. For example, most of the bars match with some of the red-stars or green-dots. While the first bar, ranging from June 1st till June 11th is exactly in between two measurements, i.e. it's the mean of the available measurements.\n",
    "\n",
    "The composite type is defined using the keyword composite_type in the cmeta variable. Possible values are \"mean\", \"min\", \"max\" or a float value to calculate a percentile (the percentile option is  significantly more computationally heavy than the others)."
   ]
  },
  {
   "cell_type": "markdown",
   "metadata": {},
   "source": [
    "Now let's adjust our composite_length to create 6-day composites and see what happends."
   ]
  },
  {
   "cell_type": "code",
   "execution_count": null,
   "metadata": {},
   "outputs": [],
   "source": [
    "epochs_info = pywapor.pre_et_look.create_dates(startdate, enddate, 6)\n",
    "for number, start, end in zip(*epochs_info):\n",
    "    print(f\"Composite {number + 1} starts at {start} and ends at {end}.\\n\")"
   ]
  },
  {
   "cell_type": "code",
   "execution_count": null,
   "metadata": {},
   "outputs": [],
   "source": [
    "ds = pywapor.general.compositer.main(cmeta, raw_ndvi_files, epochs_info, lean_output = False)\n",
    "pywapor.post_et_look.plot_composite(ds, diagnostics)"
   ]
  },
  {
   "cell_type": "markdown",
   "metadata": {},
   "source": [
    "In the new graph, you'll see that the blue bars have become smaller, since our epochs are now shorter. As a result, some composites could not be created, because no NDVI measurements were available during that respective epoch. For example, the fourth composite (ranging between 2021-06-19 00:00:00 and 2021-06-25 00:00:00) is missing."
   ]
  },
  {
   "cell_type": "markdown",
   "metadata": {},
   "source": [
    "We solve this by applying a temporal interpolation between the available measurements. This is especially suitable for this data, because the MOD13 and MYD13 datasets itself are 16-daily composites, i.e. their measurements can be considered valid for a 16-day period."
   ]
  },
  {
   "cell_type": "code",
   "execution_count": null,
   "metadata": {},
   "outputs": [],
   "source": [
    "cmeta = {\n",
    "    \"composite_type\": \"mean\",\n",
    "    \"temporal_interp\": \"nearest\",\n",
    "    \"spatial_interp\": \"nearest\",\n",
    "    \"var_name\": \"ndvi\",\n",
    "    \"var_unit\": \"-\",\n",
    "}\n",
    "\n",
    "ds = pywapor.general.compositer.main(cmeta, raw_ndvi_files, epochs_info, lean_output = False)\n",
    "pywapor.post_et_look.plot_composite(ds, diagnostics)"
   ]
  },
  {
   "cell_type": "markdown",
   "metadata": {},
   "source": [
    "Possible values for temporal_interp are False, \"linear\", \"nearest\", \"zero\", \"slinear\", \"quadratic\" or \"cubic\". But be aware that some of these can be computationally heavy, as you can see when combining a cubic temporal interpolation with a percentile composite_type."
   ]
  },
  {
   "cell_type": "code",
   "execution_count": null,
   "metadata": {},
   "outputs": [],
   "source": [
    "cmeta = {\n",
    "    \"composite_type\": 0.75,\n",
    "    \"temporal_interp\": \"cubic\",\n",
    "    \"spatial_interp\": \"nearest\",\n",
    "    \"var_name\": \"ndvi\",\n",
    "    \"var_unit\": \"-\",\n",
    "}\n",
    "\n",
    "ds = pywapor.general.compositer.main(cmeta, raw_ndvi_files, epochs_info, lean_output = False)\n",
    "pywapor.post_et_look.plot_composite(ds, diagnostics)"
   ]
  }
 ],
 "metadata": {
  "interpreter": {
   "hash": "0af097f0945d50f1fc5e0db4d0fb8fd2187838485354cc00c3b02176c5f67e33"
  },
  "kernelspec": {
   "display_name": "Python 3.9.5 64-bit ('wapor_test': conda)",
   "language": "python",
   "name": "python3"
  },
  "language_info": {
   "codemirror_mode": {
    "name": "ipython",
    "version": 3
   },
   "file_extension": ".py",
   "mimetype": "text/x-python",
   "name": "python",
   "nbconvert_exporter": "python",
   "pygments_lexer": "ipython3",
   "version": "3.9.7"
  },
  "orig_nbformat": 4
 },
 "nbformat": 4,
 "nbformat_minor": 2
}
