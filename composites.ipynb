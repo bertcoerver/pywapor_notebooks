{
 "cells": [
  {
   "cell_type": "code",
   "execution_count": null,
   "metadata": {},
   "outputs": [],
   "source": [
    "!pip install pywapor==2.3.1 --quiet"
   ]
  },
  {
   "cell_type": "code",
   "execution_count": 1,
   "metadata": {},
   "outputs": [],
   "source": [
    "import pywapor\n",
    "\n",
    "project_folder = r\"/Users/hmcoerver/On My Mac/pyWAPOR/example_data\"\n",
    "latlim = [28.9, 29.7]\n",
    "lonlim = [30.2, 31.2]\n",
    "startdate = \"2021-06-01\"\n",
    "enddate = \"2021-08-01\""
   ]
  },
  {
   "cell_type": "code",
   "execution_count": null,
   "metadata": {},
   "outputs": [],
   "source": [
    "composite_length = \"DEKAD\"\n",
    "\n",
    "epochs_info = pywapor.pre_et_look.create_dates(startdate, enddate, composite_length)\n",
    "\n",
    "for number, start, end in zip(*epochs_info):\n",
    "    print(f\"Composite {number + 1} starts at {start} and ends at {end}.\\n\")"
   ]
  },
  {
   "cell_type": "code",
   "execution_count": null,
   "metadata": {},
   "outputs": [],
   "source": [
    "import os\n",
    "\n",
    "raw_folder = os.path.join(project_folder, \"RAW\")\n",
    "\n",
    "dl_args = (raw_folder, latlim, lonlim, startdate, enddate)\n",
    "\n",
    "raw_ndvi_files = list()\n",
    "raw_ndvi_files.append(pywapor.collect.MOD13.NDVI(*dl_args))\n",
    "raw_ndvi_files.append(pywapor.collect.MYD13.NDVI(*dl_args))"
   ]
  },
  {
   "cell_type": "code",
   "execution_count": null,
   "metadata": {},
   "outputs": [],
   "source": [
    "cmeta = {\n",
    "    \"composite_type\": \"mean\",\n",
    "    \"temporal_interp\": False,\n",
    "    \"spatial_interp\": \"nearest\",\n",
    "    \"var_name\": \"ndvi\",\n",
    "    \"var_unit\": \"-\",\n",
    "}\n",
    "\n",
    "ds = pywapor.general.compositer.main(cmeta, raw_ndvi_files, epochs_info, lean_output = False)"
   ]
  },
  {
   "cell_type": "code",
   "execution_count": null,
   "metadata": {},
   "outputs": [],
   "source": [
    "ds"
   ]
  },
  {
   "cell_type": "code",
   "execution_count": null,
   "metadata": {},
   "outputs": [],
   "source": [
    "diagnostics = { # label          # lat      # lon\n",
    "                \"agriculture\":\t(29.32301,\t30.77599),\n",
    "              }\n",
    "\n",
    "pywapor.post_et_look.plot_composite(ds, diagnostics)"
   ]
  },
  {
   "cell_type": "code",
   "execution_count": null,
   "metadata": {},
   "outputs": [],
   "source": [
    "\n",
    "for number, start, end in zip(*epochs_info):\n",
    "    print(f\"Composite {number + 1} starts at {start} and ends at {end}.\\n\")"
   ]
  },
  {
   "cell_type": "code",
   "execution_count": null,
   "metadata": {},
   "outputs": [],
   "source": [
    "epochs_info = pywapor.pre_et_look.create_dates(startdate, enddate, 6)\n",
    "ds = pywapor.general.compositer.main(cmeta, raw_ndvi_files, epochs_info, lean_output = False)\n",
    "pywapor.post_et_look.plot_composite(ds, diagnostics)"
   ]
  },
  {
   "cell_type": "code",
   "execution_count": null,
   "metadata": {},
   "outputs": [],
   "source": [
    "cmeta = {\n",
    "    \"composite_type\": \"mean\",\n",
    "    \"temporal_interp\": \"linear\",\n",
    "    \"spatial_interp\": \"nearest\",\n",
    "    \"var_name\": \"ndvi\",\n",
    "    \"var_unit\": \"-\",\n",
    "}\n",
    "\n",
    "ds = pywapor.general.compositer.main(cmeta, raw_ndvi_files, epochs_info, lean_output = False)\n",
    "pywapor.post_et_look.plot_composite(ds, diagnostics)"
   ]
  },
  {
   "cell_type": "code",
   "execution_count": null,
   "metadata": {},
   "outputs": [],
   "source": [
    "cmeta = {\n",
    "    \"composite_type\": \"max\",\n",
    "    \"temporal_interp\": \"linear\",\n",
    "    \"spatial_interp\": \"nearest\",\n",
    "    \"var_name\": \"ndvi\",\n",
    "    \"var_unit\": \"-\",\n",
    "}\n",
    "\n",
    "ds = pywapor.general.compositer.main(cmeta, raw_ndvi_files, epochs_info, lean_output = False)\n",
    "pywapor.post_et_look.plot_composite(ds, diagnostics)"
   ]
  }
 ],
 "metadata": {
  "interpreter": {
   "hash": "0af097f0945d50f1fc5e0db4d0fb8fd2187838485354cc00c3b02176c5f67e33"
  },
  "kernelspec": {
   "display_name": "Python 3.9.5 64-bit ('wapor_test': conda)",
   "language": "python",
   "name": "python3"
  },
  "language_info": {
   "codemirror_mode": {
    "name": "ipython",
    "version": 3
   },
   "file_extension": ".py",
   "mimetype": "text/x-python",
   "name": "python",
   "nbconvert_exporter": "python",
   "pygments_lexer": "ipython3",
   "version": "3.9.7"
  },
  "orig_nbformat": 4
 },
 "nbformat": 4,
 "nbformat_minor": 2
}
