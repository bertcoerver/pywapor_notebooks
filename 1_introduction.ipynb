{
  "cells": [
    {
      "cell_type": "markdown",
      "metadata": {},
      "source": [
        "### pyWaPOR Introduction"
      ]
    },
    {
      "cell_type": "markdown",
      "metadata": {
        "id": "XZ_9AP55KxvB"
      },
      "source": [
        "#### Installation\n",
        "\n",
        "The pywapor package depends on several other packages, most of them get installed automatically when we install pywapor. The GDAL package needs to be installed manually however. Luckily, it is already installed on the backend computer used by Google Colab. We can verify that GDAL is installed by running the following commands."
      ]
    },
    {
      "cell_type": "code",
      "execution_count": 1,
      "metadata": {},
      "outputs": [
        {
          "name": "stdout",
          "output_type": "stream",
          "text": [
            "Using gdal version 3.4.0\n"
          ]
        }
      ],
      "source": [
        "from osgeo import gdal\n",
        "print(\"Using gdal version\", gdal.__version__)"
      ]
    },
    {
      "cell_type": "markdown",
      "metadata": {
        "id": "74aXWEzAKY2M"
      },
      "source": [
        "Now that we know that Python is able to import the GDAL package, we can install pywapor by running the following command.\n",
        "\n"
      ]
    },
    {
      "cell_type": "code",
      "execution_count": null,
      "metadata": {
        "colab": {
          "base_uri": "https://localhost:8080/"
        },
        "id": "jW9d6wtlKKuE",
        "outputId": "32c85291-894b-4bea-99c3-f5e5d922374f"
      },
      "outputs": [],
      "source": [
        "!pip install pywapor==2.3.4 --quiet"
      ]
    },
    {
      "cell_type": "markdown",
      "metadata": {
        "id": "fzHQsJcy76iH"
      },
      "source": [
        "If everything went well, we can now import pywapor in Python, let's try it (fingers crossed)!"
      ]
    },
    {
      "cell_type": "code",
      "execution_count": 1,
      "metadata": {},
      "outputs": [
        {
          "name": "stdout",
          "output_type": "stream",
          "text": [
            "Using pywapor version: 2.3.4\n"
          ]
        }
      ],
      "source": [
        "import pywapor\n",
        "print(\"Using pywapor version:\", pywapor.__version__)"
      ]
    },
    {
      "cell_type": "markdown",
      "metadata": {
        "id": "MiqFKqNmK9m0"
      },
      "source": [
        "#### ETLook Input\n",
        "\n",
        "In order to run the ETLook model, we first need to collect the necessary inputs. For your convenience, the pywapor package has a function that can collect all this data from selected sources and make sure the data is stored in the correct format. In one of the following lessons we will look at how you can add other datasets to the input.\n",
        "\n",
        "Because some of the data portals used require a user to login with a username and a password, we first need to set those up. Most importantly, we will need a `NASA Earthdata Login` to be able to collect the MODIS and MERRA2 datasets, which can be created [over here](https://urs.earthdata.nasa.gov/users/new).\n",
        "\n",
        "> ⚠️\n",
        ">\n",
        "> After creating your account, you still need to accept some 'Terms of Use', before you can continue with this notebook. To do that, login to your newly created account and go to\n",
        ">\n",
        "> `Applications > Authorized Apps > Approve More Applications`\n",
        ">\n",
        "> There, make sure the two following applications are authorized:\n",
        "> 1. `NASA GESDISC DATA ARCHIVE`\n",
        "> 2. `LP DAAC Data Pool`\n",
        ">\n",
        "> ⚠️\n",
        "\n",
        "Once you have your account set up, we can enter our username and password by running the following code (if you skip this step, you'll be prompted for your username and password once the script starts downloading any product that requires them).\n"
      ]
    },
    {
      "cell_type": "code",
      "execution_count": null,
      "metadata": {},
      "outputs": [],
      "source": [
        "pywapor.collect.setup_dl_accounts.setup_account(\"NASA\")"
      ]
    },
    {
      "cell_type": "markdown",
      "metadata": {
        "id": "ed72eDLrF8AA"
      },
      "source": [
        "Next, we need a WAPOR API token. To get that token, you need to create an account [here](https://wapor.apps.fao.org/home/WAPOR_2/1) and then go to `My WaPOR > My Profile > API Token`. Once you have the token, we can add it to our pywapor accounts."
      ]
    },
    {
      "cell_type": "code",
      "execution_count": null,
      "metadata": {},
      "outputs": [],
      "source": [
        "pywapor.collect.setup_dl_accounts.setup_account(\"WAPOR\")"
      ]
    },
    {
      "cell_type": "markdown",
      "metadata": {
        "id": "2m5yrTgrGO5P"
      },
      "source": [
        "Now that we have our accounts set up we can start defining our period and area-of-interest (AOI). \n",
        "\n",
        "First we define a `startdate` and `enddate`, our boundingbox through `latlim` and `lonlim` and we give a `project_folder` in which all our data will be stored. Here I've chosen an period of exactly 10 days which is the default composite length of pyWAPOR. We'll talk more about composites in the next lesson. The given boundingbox will show us the Fayoum irrigation scheme in Egypt.\n",
        "\n",
        "Note that for `latlim` the first value refers to the southern border of your AOI, so this value should always be smaller than the second. For `lonlim`, the first value refers to the western border of your AOI."
      ]
    },
    {
      "cell_type": "code",
      "execution_count": 2,
      "metadata": {},
      "outputs": [],
      "source": [
        "project_folder = r\"/Users/hmcoerver/pywapor_notebooks\"\n",
        "startdate = \"2021-07-01\"\n",
        "enddate = \"2021-07-11\"\n",
        "latlim = [28.9, 29.7]\n",
        "lonlim = [30.2, 31.2]"
      ]
    },
    {
      "cell_type": "markdown",
      "metadata": {},
      "source": [
        "Then we can run `pywapor.pre_et_look.main()` to start the downloading."
      ]
    },
    {
      "cell_type": "code",
      "execution_count": 3,
      "metadata": {},
      "outputs": [
        {
          "name": "stderr",
          "output_type": "stream",
          "text": [
            "> PRE_ET_LOOK\n",
            "    # ndvi\n",
            "    --> Downloading MOD13.\n",
            "Tile: 3 / 3: 0.00Bytes [00:00, ?Bytes/s]\n",
            "    --> Downloading MYD13.\n",
            "Tile: 1 / 1: 0.00Bytes [00:00, ?Bytes/s]\n",
            "    --> Resampling resolution is ~205 meter.\n",
            "    --> Resampling datasets.\n",
            "    --> Calculating composites.\n",
            "    # p_24\n",
            "    --> Downloading CHIRPS.\n",
            "Tile: 11 / 11: 0.00Bytes [00:00, ?Bytes/s]\n",
            "    --> Resampling datasets.\n",
            "    --> Calculating composites.\n",
            "    # se_root\n",
            "    > PRE_SE_ROOT\n",
            "        # ndvi\n",
            "        --> Downloading MOD13.\n",
            "Tile: 3 / 3: 0.00Bytes [00:00, ?Bytes/s]\n",
            "        --> Downloading MYD13.\n",
            "Tile: 1 / 1: 0.00Bytes [00:00, ?Bytes/s]\n",
            "        --> Resampling resolution is ~205 meter.\n",
            "        --> Resampling datasets.\n",
            "        # lst\n",
            "        --> Downloading MOD11.\n",
            "Tile: 11 / 11: 0.00Bytes [00:00, ?Bytes/s]\n",
            "        --> Downloading MYD11.\n",
            "Tile: 11 / 11: 0.00Bytes [00:00, ?Bytes/s]\n",
            "        --> Resampling datasets.\n",
            "        > METEO\n",
            "            # t_air_i\n",
            "            --> Downloading GEOS5 (3-hourly), t2m.\n",
            "Tile: 35 / 35: 0.00Bytes [00:00, ?Bytes/s]\n",
            "            --> Applying 'kelvin_to_celsius' to `t_air_i` from GEOS5.\n",
            "            # u2m_i\n",
            "            --> Downloading GEOS5 (3-hourly), u2m.\n",
            "Tile: 35 / 35: 0.00Bytes [00:00, ?Bytes/s]\n",
            "            # v2m_i\n",
            "            --> Downloading GEOS5 (3-hourly), v2m.\n",
            "Tile: 35 / 35: 0.00Bytes [00:00, ?Bytes/s]\n",
            "            # qv_i\n",
            "            --> Downloading GEOS5 (3-hourly), qv2m.\n",
            "Tile: 35 / 35: 0.00Bytes [00:00, ?Bytes/s]\n",
            "            # wv_i\n",
            "            --> Downloading GEOS5 (3-hourly), tqv.\n",
            "Tile: 35 / 35: 0.00Bytes [00:00, ?Bytes/s]\n",
            "            # p_air_i\n",
            "            --> Downloading GEOS5 (3-hourly), ps.\n",
            "Tile: 35 / 35: 0.00Bytes [00:00, ?Bytes/s]\n",
            "            # p_air_0_i\n",
            "            --> Downloading GEOS5 (3-hourly), slp.\n",
            "Tile: 35 / 35: 0.00Bytes [00:00, ?Bytes/s]\n",
            "        < METEO\n",
            "        --> Interpolating datasets.\n",
            "    < PRE_SE_ROOT\n",
            "    > SE_ROOT\n",
            "        --> Running SEroot_v2.\n",
            "        --> Saving outputs.\n",
            "    < SE_ROOT\n",
            "    --> Resampling datasets.\n",
            "    --> Calculating composites.\n",
            "    # r0\n",
            "    --> Downloading MCD43.\n",
            "Tile: 11 / 11: 0.00Bytes [00:00, ?Bytes/s]\n",
            "    --> Resampling datasets.\n",
            "    --> Interpolating 4 of 4 missing pixels.\n",
            "    --> Calculating composites.\n",
            "    # z\n",
            "    --> Downloading SRTM.\n",
            "    --> Resampling datasets.\n",
            "    # lulc\n",
            "    --> Downloading WAPOR.\n",
            "    --> Creating new variable `land_mask`.\n",
            "    --> Creating new variable `rs_min`.\n",
            "    --> Creating new variable `lue_max`.\n",
            "    --> Creating new variable `z_obst_max`.\n",
            "    --> Applying 'remove_var' to `lulc` from WAPOR.\n",
            "    --> Resampling datasets.\n",
            "    --> Calculating composites.\n",
            "    # ra_24\n",
            "    --> Downloading MERRA2 (daily), swgnet.\n",
            "Tile: 11 / 11: 0.00Bytes [00:00, ?Bytes/s]\n",
            "    --> Resampling datasets.\n",
            "    --> Calculating composites.\n",
            "    # t_air_24\n",
            "    --> Downloading GEOS5 (daily), t2m.\n",
            "Tile: 11 / 11: 0.00Bytes [00:00, ?Bytes/s]\n",
            "    --> Applying 'kelvin_to_celsius' to `t_air_24` from GEOS5.\n",
            "    --> Resampling datasets.\n",
            "    --> Calculating composites.\n",
            "    # t_air_min_24\n",
            "    --> Downloading GEOS5 (daily), t2m-min.\n",
            "Tile: 11 / 11: 0.00Bytes [00:00, ?Bytes/s]\n",
            "    --> Applying 'kelvin_to_celsius' to `t_air_min_24` from GEOS5.\n",
            "    --> Resampling datasets.\n",
            "    --> Calculating composites.\n",
            "    # t_air_max_24\n",
            "    --> Downloading GEOS5 (daily), t2m-max.\n",
            "Tile: 11 / 11: 0.00Bytes [00:00, ?Bytes/s]\n",
            "    --> Applying 'kelvin_to_celsius' to `t_air_max_24` from GEOS5.\n",
            "    --> Resampling datasets.\n",
            "    --> Calculating composites.\n",
            "    # u2m_24\n",
            "    --> Downloading GEOS5 (daily), u2m.\n",
            "Tile: 11 / 11: 0.00Bytes [00:00, ?Bytes/s]\n",
            "    --> Resampling datasets.\n",
            "    --> Calculating composites.\n",
            "    # v2m_24\n",
            "    --> Downloading GEOS5 (daily), v2m.\n",
            "Tile: 11 / 11: 0.00Bytes [00:00, ?Bytes/s]\n",
            "    --> Resampling datasets.\n",
            "    --> Calculating composites.\n",
            "    # p_air_0_24\n",
            "    --> Downloading GEOS5 (daily), slp.\n",
            "Tile: 11 / 11: 0.00Bytes [00:00, ?Bytes/s]\n",
            "    --> Resampling datasets.\n",
            "    --> Calculating composites.\n",
            "    # qv_24\n",
            "    --> Downloading GEOS5 (daily), qv2m.\n",
            "Tile: 11 / 11: 0.00Bytes [00:00, ?Bytes/s]\n",
            "    --> Resampling datasets.\n",
            "    --> Calculating composites.\n",
            "    # lw_offset\n",
            "    --> Resampling datasets.\n",
            "    # lw_slope\n",
            "    --> Resampling datasets.\n",
            "    # r0_bare\n",
            "    --> Resampling datasets.\n",
            "    # r0_full\n",
            "    --> Resampling datasets.\n",
            "    # rn_offset\n",
            "    --> Resampling datasets.\n",
            "    # rn_slope\n",
            "    --> Resampling datasets.\n",
            "    # t_amp_year\n",
            "    --> Resampling datasets.\n",
            "    # t_opt\n",
            "    --> Resampling datasets.\n",
            "    # vpd_slope\n",
            "    --> Resampling datasets.\n",
            "    # z_oro\n",
            "    --> Resampling datasets.\n",
            "    > Composite enhancers.\n",
            "        # t_air_24\n",
            "        --> Calculating local means (r = 0.25°) of `z`.\n",
            "        --> Applying 'lapse_rate' to `t_air_24`.\n",
            "        # t_air_min_24\n",
            "        --> Applying 'lapse_rate' to `t_air_min_24`.\n",
            "        # t_air_max_24\n",
            "        --> Applying 'lapse_rate' to `t_air_max_24`.\n",
            "        # z\n",
            "        --> Creating new variable `slope`.\n",
            "        --> Creating new variable `aspect`.\n",
            "        --> Creating new variable `lat_deg`.\n",
            "        --> Creating new variable `lon_deg`.\n",
            "    < Composite enhancers.\n",
            "    --> Saving results.\n",
            "< PRE_ET_LOOK\n"
          ]
        }
      ],
      "source": [
        "ds, fh = pywapor.pre_et_look.main(project_folder, startdate, enddate, latlim, lonlim)"
      ]
    },
    {
      "cell_type": "markdown",
      "metadata": {
        "id": "Tm7SaBW9d_6x"
      },
      "source": [
        "Once you see the output line `< PRE_ET_LOOK`, the code has finished. The function has created a bunch of files in you `project_folder` and returned two variables: `ds` and `fh`. We'll have a look at the folder first.\n",
        "\n",
        "Using the [`ls` unix command](https://en.wikipedia.org/wiki/Ls), we can see the contents of a folder, and with the asterices we can see the contents of recursive folders. Our `project_folder` now contains the following subdirectories and files."
      ]
    },
    {
      "cell_type": "code",
      "execution_count": 4,
      "metadata": {},
      "outputs": [
        {
          "name": "stdout",
          "output_type": "stream",
          "text": [
            "log.txt\n",
            "\n",
            "RAW:\n",
            "\u001b[34mCHIRPS\u001b[m\u001b[m\n",
            "\u001b[34mGEOS5\u001b[m\u001b[m\n",
            "\u001b[34mGLOBCOVER\u001b[m\u001b[m\n",
            "LC08_L2SP_177040_20210715_20210721_02_T1.tar\n",
            "\u001b[34mMERRA2\u001b[m\u001b[m\n",
            "\u001b[34mMODIS\u001b[m\u001b[m\n",
            "\u001b[34mPROBAV\u001b[m\u001b[m\n",
            "\u001b[34mSRTM\u001b[m\u001b[m\n",
            "\u001b[34mSTATICS\u001b[m\u001b[m\n",
            "\u001b[34mWAPOR\u001b[m\u001b[m\n",
            "\n",
            "level_1:\n",
            "et_look_input.nc  se_root_input.nc  \u001b[34mse_root_output\u001b[m\u001b[m    se_root_output.nc\n",
            "\n",
            "my_landsat_folder:\n",
            "LE07_L2SP_177040_20210707_20210802_02_T1.tar\n",
            "\u001b[34mlst\u001b[m\u001b[m\n",
            "\u001b[34mndvi\u001b[m\u001b[m\n",
            "\u001b[34mr0\u001b[m\u001b[m\n"
          ]
        }
      ],
      "source": [
        "!ls *"
      ]
    },
    {
      "cell_type": "markdown",
      "metadata": {
        "id": "aOSTwRklSm5t"
      },
      "source": [
        "The `project_folder` now contains two directories, `RAW` and `level_1`. In the RAW-folder all the data that was downloaded is stored just as we got it from the different servers. In the level_1-folder, this RAW data has been proprocessed to prepare it for use in ET_Look. The most important file here is called `et_look_input.nc`, this file contains all the data we need to run the model!\n",
        "\n",
        "Next, let's have a look at the two variables that were returned by the function. `fh` is an abbreveation for 'filehandle', it's simply a string giving the location of the `et_look_input.nc`-file."
      ]
    },
    {
      "cell_type": "code",
      "execution_count": 5,
      "metadata": {},
      "outputs": [
        {
          "name": "stdout",
          "output_type": "stream",
          "text": [
            "fh is of the type <class 'str'> and its value is: \n",
            " \n",
            " '/Users/hmcoerver/pywapor_notebooks/level_1/et_look_input.nc'\n"
          ]
        }
      ],
      "source": [
        "print(f\"fh is of the type {type(fh)} and its value is: \\n \\n '{fh}'\")"
      ]
    },
    {
      "cell_type": "markdown",
      "metadata": {},
      "source": [
        "The variable called `ds` (which stands for Dataset), is an xarray.Dataset. XArray is an Python-package that let's you work with large multi-dimensional datasets. Let's see what it looks like."
      ]
    },
    {
      "cell_type": "code",
      "execution_count": 6,
      "metadata": {},
      "outputs": [
        {
          "data": {
            "text/html": [
              "<div><svg style=\"position: absolute; width: 0; height: 0; overflow: hidden\">\n",
              "<defs>\n",
              "<symbol id=\"icon-database\" viewBox=\"0 0 32 32\">\n",
              "<path d=\"M16 0c-8.837 0-16 2.239-16 5v4c0 2.761 7.163 5 16 5s16-2.239 16-5v-4c0-2.761-7.163-5-16-5z\"></path>\n",
              "<path d=\"M16 17c-8.837 0-16-2.239-16-5v6c0 2.761 7.163 5 16 5s16-2.239 16-5v-6c0 2.761-7.163 5-16 5z\"></path>\n",
              "<path d=\"M16 26c-8.837 0-16-2.239-16-5v6c0 2.761 7.163 5 16 5s16-2.239 16-5v-6c0 2.761-7.163 5-16 5z\"></path>\n",
              "</symbol>\n",
              "<symbol id=\"icon-file-text2\" viewBox=\"0 0 32 32\">\n",
              "<path d=\"M28.681 7.159c-0.694-0.947-1.662-2.053-2.724-3.116s-2.169-2.030-3.116-2.724c-1.612-1.182-2.393-1.319-2.841-1.319h-15.5c-1.378 0-2.5 1.121-2.5 2.5v27c0 1.378 1.122 2.5 2.5 2.5h23c1.378 0 2.5-1.122 2.5-2.5v-19.5c0-0.448-0.137-1.23-1.319-2.841zM24.543 5.457c0.959 0.959 1.712 1.825 2.268 2.543h-4.811v-4.811c0.718 0.556 1.584 1.309 2.543 2.268zM28 29.5c0 0.271-0.229 0.5-0.5 0.5h-23c-0.271 0-0.5-0.229-0.5-0.5v-27c0-0.271 0.229-0.5 0.5-0.5 0 0 15.499-0 15.5 0v7c0 0.552 0.448 1 1 1h7v19.5z\"></path>\n",
              "<path d=\"M23 26h-14c-0.552 0-1-0.448-1-1s0.448-1 1-1h14c0.552 0 1 0.448 1 1s-0.448 1-1 1z\"></path>\n",
              "<path d=\"M23 22h-14c-0.552 0-1-0.448-1-1s0.448-1 1-1h14c0.552 0 1 0.448 1 1s-0.448 1-1 1z\"></path>\n",
              "<path d=\"M23 18h-14c-0.552 0-1-0.448-1-1s0.448-1 1-1h14c0.552 0 1 0.448 1 1s-0.448 1-1 1z\"></path>\n",
              "</symbol>\n",
              "</defs>\n",
              "</svg>\n",
              "<style>/* CSS stylesheet for displaying xarray objects in jupyterlab.\n",
              " *\n",
              " */\n",
              "\n",
              ":root {\n",
              "  --xr-font-color0: var(--jp-content-font-color0, rgba(0, 0, 0, 1));\n",
              "  --xr-font-color2: var(--jp-content-font-color2, rgba(0, 0, 0, 0.54));\n",
              "  --xr-font-color3: var(--jp-content-font-color3, rgba(0, 0, 0, 0.38));\n",
              "  --xr-border-color: var(--jp-border-color2, #e0e0e0);\n",
              "  --xr-disabled-color: var(--jp-layout-color3, #bdbdbd);\n",
              "  --xr-background-color: var(--jp-layout-color0, white);\n",
              "  --xr-background-color-row-even: var(--jp-layout-color1, white);\n",
              "  --xr-background-color-row-odd: var(--jp-layout-color2, #eeeeee);\n",
              "}\n",
              "\n",
              "html[theme=dark],\n",
              "body.vscode-dark {\n",
              "  --xr-font-color0: rgba(255, 255, 255, 1);\n",
              "  --xr-font-color2: rgba(255, 255, 255, 0.54);\n",
              "  --xr-font-color3: rgba(255, 255, 255, 0.38);\n",
              "  --xr-border-color: #1F1F1F;\n",
              "  --xr-disabled-color: #515151;\n",
              "  --xr-background-color: #111111;\n",
              "  --xr-background-color-row-even: #111111;\n",
              "  --xr-background-color-row-odd: #313131;\n",
              "}\n",
              "\n",
              ".xr-wrap {\n",
              "  display: block !important;\n",
              "  min-width: 300px;\n",
              "  max-width: 700px;\n",
              "}\n",
              "\n",
              ".xr-text-repr-fallback {\n",
              "  /* fallback to plain text repr when CSS is not injected (untrusted notebook) */\n",
              "  display: none;\n",
              "}\n",
              "\n",
              ".xr-header {\n",
              "  padding-top: 6px;\n",
              "  padding-bottom: 6px;\n",
              "  margin-bottom: 4px;\n",
              "  border-bottom: solid 1px var(--xr-border-color);\n",
              "}\n",
              "\n",
              ".xr-header > div,\n",
              ".xr-header > ul {\n",
              "  display: inline;\n",
              "  margin-top: 0;\n",
              "  margin-bottom: 0;\n",
              "}\n",
              "\n",
              ".xr-obj-type,\n",
              ".xr-array-name {\n",
              "  margin-left: 2px;\n",
              "  margin-right: 10px;\n",
              "}\n",
              "\n",
              ".xr-obj-type {\n",
              "  color: var(--xr-font-color2);\n",
              "}\n",
              "\n",
              ".xr-sections {\n",
              "  padding-left: 0 !important;\n",
              "  display: grid;\n",
              "  grid-template-columns: 150px auto auto 1fr 20px 20px;\n",
              "}\n",
              "\n",
              ".xr-section-item {\n",
              "  display: contents;\n",
              "}\n",
              "\n",
              ".xr-section-item input {\n",
              "  display: none;\n",
              "}\n",
              "\n",
              ".xr-section-item input + label {\n",
              "  color: var(--xr-disabled-color);\n",
              "}\n",
              "\n",
              ".xr-section-item input:enabled + label {\n",
              "  cursor: pointer;\n",
              "  color: var(--xr-font-color2);\n",
              "}\n",
              "\n",
              ".xr-section-item input:enabled + label:hover {\n",
              "  color: var(--xr-font-color0);\n",
              "}\n",
              "\n",
              ".xr-section-summary {\n",
              "  grid-column: 1;\n",
              "  color: var(--xr-font-color2);\n",
              "  font-weight: 500;\n",
              "}\n",
              "\n",
              ".xr-section-summary > span {\n",
              "  display: inline-block;\n",
              "  padding-left: 0.5em;\n",
              "}\n",
              "\n",
              ".xr-section-summary-in:disabled + label {\n",
              "  color: var(--xr-font-color2);\n",
              "}\n",
              "\n",
              ".xr-section-summary-in + label:before {\n",
              "  display: inline-block;\n",
              "  content: '►';\n",
              "  font-size: 11px;\n",
              "  width: 15px;\n",
              "  text-align: center;\n",
              "}\n",
              "\n",
              ".xr-section-summary-in:disabled + label:before {\n",
              "  color: var(--xr-disabled-color);\n",
              "}\n",
              "\n",
              ".xr-section-summary-in:checked + label:before {\n",
              "  content: '▼';\n",
              "}\n",
              "\n",
              ".xr-section-summary-in:checked + label > span {\n",
              "  display: none;\n",
              "}\n",
              "\n",
              ".xr-section-summary,\n",
              ".xr-section-inline-details {\n",
              "  padding-top: 4px;\n",
              "  padding-bottom: 4px;\n",
              "}\n",
              "\n",
              ".xr-section-inline-details {\n",
              "  grid-column: 2 / -1;\n",
              "}\n",
              "\n",
              ".xr-section-details {\n",
              "  display: none;\n",
              "  grid-column: 1 / -1;\n",
              "  margin-bottom: 5px;\n",
              "}\n",
              "\n",
              ".xr-section-summary-in:checked ~ .xr-section-details {\n",
              "  display: contents;\n",
              "}\n",
              "\n",
              ".xr-array-wrap {\n",
              "  grid-column: 1 / -1;\n",
              "  display: grid;\n",
              "  grid-template-columns: 20px auto;\n",
              "}\n",
              "\n",
              ".xr-array-wrap > label {\n",
              "  grid-column: 1;\n",
              "  vertical-align: top;\n",
              "}\n",
              "\n",
              ".xr-preview {\n",
              "  color: var(--xr-font-color3);\n",
              "}\n",
              "\n",
              ".xr-array-preview,\n",
              ".xr-array-data {\n",
              "  padding: 0 5px !important;\n",
              "  grid-column: 2;\n",
              "}\n",
              "\n",
              ".xr-array-data,\n",
              ".xr-array-in:checked ~ .xr-array-preview {\n",
              "  display: none;\n",
              "}\n",
              "\n",
              ".xr-array-in:checked ~ .xr-array-data,\n",
              ".xr-array-preview {\n",
              "  display: inline-block;\n",
              "}\n",
              "\n",
              ".xr-dim-list {\n",
              "  display: inline-block !important;\n",
              "  list-style: none;\n",
              "  padding: 0 !important;\n",
              "  margin: 0;\n",
              "}\n",
              "\n",
              ".xr-dim-list li {\n",
              "  display: inline-block;\n",
              "  padding: 0;\n",
              "  margin: 0;\n",
              "}\n",
              "\n",
              ".xr-dim-list:before {\n",
              "  content: '(';\n",
              "}\n",
              "\n",
              ".xr-dim-list:after {\n",
              "  content: ')';\n",
              "}\n",
              "\n",
              ".xr-dim-list li:not(:last-child):after {\n",
              "  content: ',';\n",
              "  padding-right: 5px;\n",
              "}\n",
              "\n",
              ".xr-has-index {\n",
              "  font-weight: bold;\n",
              "}\n",
              "\n",
              ".xr-var-list,\n",
              ".xr-var-item {\n",
              "  display: contents;\n",
              "}\n",
              "\n",
              ".xr-var-item > div,\n",
              ".xr-var-item label,\n",
              ".xr-var-item > .xr-var-name span {\n",
              "  background-color: var(--xr-background-color-row-even);\n",
              "  margin-bottom: 0;\n",
              "}\n",
              "\n",
              ".xr-var-item > .xr-var-name:hover span {\n",
              "  padding-right: 5px;\n",
              "}\n",
              "\n",
              ".xr-var-list > li:nth-child(odd) > div,\n",
              ".xr-var-list > li:nth-child(odd) > label,\n",
              ".xr-var-list > li:nth-child(odd) > .xr-var-name span {\n",
              "  background-color: var(--xr-background-color-row-odd);\n",
              "}\n",
              "\n",
              ".xr-var-name {\n",
              "  grid-column: 1;\n",
              "}\n",
              "\n",
              ".xr-var-dims {\n",
              "  grid-column: 2;\n",
              "}\n",
              "\n",
              ".xr-var-dtype {\n",
              "  grid-column: 3;\n",
              "  text-align: right;\n",
              "  color: var(--xr-font-color2);\n",
              "}\n",
              "\n",
              ".xr-var-preview {\n",
              "  grid-column: 4;\n",
              "}\n",
              "\n",
              ".xr-var-name,\n",
              ".xr-var-dims,\n",
              ".xr-var-dtype,\n",
              ".xr-preview,\n",
              ".xr-attrs dt {\n",
              "  white-space: nowrap;\n",
              "  overflow: hidden;\n",
              "  text-overflow: ellipsis;\n",
              "  padding-right: 10px;\n",
              "}\n",
              "\n",
              ".xr-var-name:hover,\n",
              ".xr-var-dims:hover,\n",
              ".xr-var-dtype:hover,\n",
              ".xr-attrs dt:hover {\n",
              "  overflow: visible;\n",
              "  width: auto;\n",
              "  z-index: 1;\n",
              "}\n",
              "\n",
              ".xr-var-attrs,\n",
              ".xr-var-data {\n",
              "  display: none;\n",
              "  background-color: var(--xr-background-color) !important;\n",
              "  padding-bottom: 5px !important;\n",
              "}\n",
              "\n",
              ".xr-var-attrs-in:checked ~ .xr-var-attrs,\n",
              ".xr-var-data-in:checked ~ .xr-var-data {\n",
              "  display: block;\n",
              "}\n",
              "\n",
              ".xr-var-data > table {\n",
              "  float: right;\n",
              "}\n",
              "\n",
              ".xr-var-name span,\n",
              ".xr-var-data,\n",
              ".xr-attrs {\n",
              "  padding-left: 25px !important;\n",
              "}\n",
              "\n",
              ".xr-attrs,\n",
              ".xr-var-attrs,\n",
              ".xr-var-data {\n",
              "  grid-column: 1 / -1;\n",
              "}\n",
              "\n",
              "dl.xr-attrs {\n",
              "  padding: 0;\n",
              "  margin: 0;\n",
              "  display: grid;\n",
              "  grid-template-columns: 125px auto;\n",
              "}\n",
              "\n",
              ".xr-attrs dt,\n",
              ".xr-attrs dd {\n",
              "  padding: 0;\n",
              "  margin: 0;\n",
              "  float: left;\n",
              "  padding-right: 10px;\n",
              "  width: auto;\n",
              "}\n",
              "\n",
              ".xr-attrs dt {\n",
              "  font-weight: normal;\n",
              "  grid-column: 1;\n",
              "}\n",
              "\n",
              ".xr-attrs dt:hover span {\n",
              "  display: inline-block;\n",
              "  background: var(--xr-background-color);\n",
              "  padding-right: 10px;\n",
              "}\n",
              "\n",
              ".xr-attrs dd {\n",
              "  grid-column: 2;\n",
              "  white-space: pre-wrap;\n",
              "  word-break: break-all;\n",
              "}\n",
              "\n",
              ".xr-icon-database,\n",
              ".xr-icon-file-text2 {\n",
              "  display: inline-block;\n",
              "  vertical-align: middle;\n",
              "  width: 1em;\n",
              "  height: 1.5em !important;\n",
              "  stroke-width: 0;\n",
              "  stroke: currentColor;\n",
              "  fill: currentColor;\n",
              "}\n",
              "</style><pre class='xr-text-repr-fallback'>&lt;xarray.Dataset&gt;\n",
              "Dimensions:       (epoch: 1, lon: 510, lat: 408)\n",
              "Coordinates:\n",
              "  * epoch         (epoch) int64 0\n",
              "  * lon           (lon) float64 30.2 30.2 30.2 30.21 ... 31.19 31.2 31.2 31.2\n",
              "  * lat           (lat) float64 29.7 29.7 29.7 29.69 ... 28.91 28.9 28.9 28.9\n",
              "    epoch_starts  (epoch) datetime64[ns] 2021-07-01\n",
              "    epoch_ends    (epoch) datetime64[ns] 2021-07-11\n",
              "Data variables: (12/32)\n",
              "    ndvi          (epoch, lat, lon) float32 ...\n",
              "    p_24          (epoch, lat, lon) float32 ...\n",
              "    se_root       (epoch, lat, lon) float32 ...\n",
              "    r0            (epoch, lat, lon) float32 ...\n",
              "    z             (lat, lon) float32 ...\n",
              "    land_mask     (epoch, lat, lon) float32 ...\n",
              "    ...            ...\n",
              "    z_oro         (lat, lon) float32 ...\n",
              "    t_diff        (lat, lon) float32 ...\n",
              "    slope         (lat, lon) float32 ...\n",
              "    aspect        (lat, lon) float32 ...\n",
              "    lat_deg       (lat, lon) float32 ...\n",
              "    lon_deg       (lat, lon) float32 ...\n",
              "Attributes:\n",
              "    geotransform:  [ 3.01984737e+01  1.96536998e-03  0.00000000e+00  2.970126...\n",
              "    projection:    GEOGCS[&quot;WGS 84&quot;,DATUM[&quot;WGS_1984&quot;,SPHEROID[&quot;WGS 84&quot;,6378137...\n",
              "    pixel_size:    204.5582318379489\n",
              "    example_file:  /Users/hmcoerver/pywapor_notebooks/RAW/MODIS/MOD13/NDVI_MO...</pre><div class='xr-wrap' style='display:none'><div class='xr-header'><div class='xr-obj-type'>xarray.Dataset</div></div><ul class='xr-sections'><li class='xr-section-item'><input id='section-9a560ac0-f088-4476-89ed-a3d58dad10de' class='xr-section-summary-in' type='checkbox' disabled ><label for='section-9a560ac0-f088-4476-89ed-a3d58dad10de' class='xr-section-summary'  title='Expand/collapse section'>Dimensions:</label><div class='xr-section-inline-details'><ul class='xr-dim-list'><li><span class='xr-has-index'>epoch</span>: 1</li><li><span class='xr-has-index'>lon</span>: 510</li><li><span class='xr-has-index'>lat</span>: 408</li></ul></div><div class='xr-section-details'></div></li><li class='xr-section-item'><input id='section-5243a4a7-8e29-46f0-8d16-85627af60a54' class='xr-section-summary-in' type='checkbox'  checked><label for='section-5243a4a7-8e29-46f0-8d16-85627af60a54' class='xr-section-summary' >Coordinates: <span>(5)</span></label><div class='xr-section-inline-details'></div><div class='xr-section-details'><ul class='xr-var-list'><li class='xr-var-item'><div class='xr-var-name'><span class='xr-has-index'>epoch</span></div><div class='xr-var-dims'>(epoch)</div><div class='xr-var-dtype'>int64</div><div class='xr-var-preview xr-preview'>0</div><input id='attrs-b34cc186-4153-4693-998f-39ce12e4617c' class='xr-var-attrs-in' type='checkbox' disabled><label for='attrs-b34cc186-4153-4693-998f-39ce12e4617c' title='Show/Hide attributes'><svg class='icon xr-icon-file-text2'><use xlink:href='#icon-file-text2'></use></svg></label><input id='data-86246ca2-61df-4c43-a803-f2f6431a71d3' class='xr-var-data-in' type='checkbox'><label for='data-86246ca2-61df-4c43-a803-f2f6431a71d3' title='Show/Hide data repr'><svg class='icon xr-icon-database'><use xlink:href='#icon-database'></use></svg></label><div class='xr-var-attrs'><dl class='xr-attrs'></dl></div><div class='xr-var-data'><pre>array([0])</pre></div></li><li class='xr-var-item'><div class='xr-var-name'><span class='xr-has-index'>lon</span></div><div class='xr-var-dims'>(lon)</div><div class='xr-var-dtype'>float64</div><div class='xr-var-preview xr-preview'>30.2 30.2 30.2 ... 31.2 31.2 31.2</div><input id='attrs-d66c0d7e-c9aa-4b80-8267-e24003e70bd8' class='xr-var-attrs-in' type='checkbox' ><label for='attrs-d66c0d7e-c9aa-4b80-8267-e24003e70bd8' title='Show/Hide attributes'><svg class='icon xr-icon-file-text2'><use xlink:href='#icon-file-text2'></use></svg></label><input id='data-e65c822f-fc15-4076-8eb3-09d438af0d80' class='xr-var-data-in' type='checkbox'><label for='data-e65c822f-fc15-4076-8eb3-09d438af0d80' title='Show/Hide data repr'><svg class='icon xr-icon-database'><use xlink:href='#icon-database'></use></svg></label><div class='xr-var-attrs'><dl class='xr-attrs'><dt><span>long_name :</span></dt><dd>Longitude</dd><dt><span>units :</span></dt><dd>degrees</dd></dl></div><div class='xr-var-data'><pre>array([30.199456, 30.201422, 30.203387, ..., 31.195899, 31.197864, 31.19983 ])</pre></div></li><li class='xr-var-item'><div class='xr-var-name'><span class='xr-has-index'>lat</span></div><div class='xr-var-dims'>(lat)</div><div class='xr-var-dtype'>float64</div><div class='xr-var-preview xr-preview'>29.7 29.7 29.7 ... 28.9 28.9 28.9</div><input id='attrs-ac8da14e-c0d7-4977-9682-eac67ffa38f1' class='xr-var-attrs-in' type='checkbox' ><label for='attrs-ac8da14e-c0d7-4977-9682-eac67ffa38f1' title='Show/Hide attributes'><svg class='icon xr-icon-file-text2'><use xlink:href='#icon-file-text2'></use></svg></label><input id='data-3a6bce11-9cde-4997-b7d8-89a93d39e4e4' class='xr-var-data-in' type='checkbox'><label for='data-3a6bce11-9cde-4997-b7d8-89a93d39e4e4' title='Show/Hide data repr'><svg class='icon xr-icon-database'><use xlink:href='#icon-database'></use></svg></label><div class='xr-var-attrs'><dl class='xr-attrs'><dt><span>long_name :</span></dt><dd>Latitude</dd><dt><span>units :</span></dt><dd>degrees</dd></dl></div><div class='xr-var-data'><pre>array([29.700281, 29.698316, 29.69635 , ..., 28.904306, 28.902341, 28.900375])</pre></div></li><li class='xr-var-item'><div class='xr-var-name'><span>epoch_starts</span></div><div class='xr-var-dims'>(epoch)</div><div class='xr-var-dtype'>datetime64[ns]</div><div class='xr-var-preview xr-preview'>...</div><input id='attrs-9a291509-90e5-408b-b883-9833fa0ea76d' class='xr-var-attrs-in' type='checkbox' disabled><label for='attrs-9a291509-90e5-408b-b883-9833fa0ea76d' title='Show/Hide attributes'><svg class='icon xr-icon-file-text2'><use xlink:href='#icon-file-text2'></use></svg></label><input id='data-dcac2f37-1bfd-4a34-8897-a818d1252128' class='xr-var-data-in' type='checkbox'><label for='data-dcac2f37-1bfd-4a34-8897-a818d1252128' title='Show/Hide data repr'><svg class='icon xr-icon-database'><use xlink:href='#icon-database'></use></svg></label><div class='xr-var-attrs'><dl class='xr-attrs'></dl></div><div class='xr-var-data'><pre>array([&#x27;2021-07-01T00:00:00.000000000&#x27;], dtype=&#x27;datetime64[ns]&#x27;)</pre></div></li><li class='xr-var-item'><div class='xr-var-name'><span>epoch_ends</span></div><div class='xr-var-dims'>(epoch)</div><div class='xr-var-dtype'>datetime64[ns]</div><div class='xr-var-preview xr-preview'>...</div><input id='attrs-a098c2d8-b951-47f0-ad3c-68ff3841fc55' class='xr-var-attrs-in' type='checkbox' disabled><label for='attrs-a098c2d8-b951-47f0-ad3c-68ff3841fc55' title='Show/Hide attributes'><svg class='icon xr-icon-file-text2'><use xlink:href='#icon-file-text2'></use></svg></label><input id='data-fcd3ecde-7ce4-4ab9-886b-b9a350a95a18' class='xr-var-data-in' type='checkbox'><label for='data-fcd3ecde-7ce4-4ab9-886b-b9a350a95a18' title='Show/Hide data repr'><svg class='icon xr-icon-database'><use xlink:href='#icon-database'></use></svg></label><div class='xr-var-attrs'><dl class='xr-attrs'></dl></div><div class='xr-var-data'><pre>array([&#x27;2021-07-11T00:00:00.000000000&#x27;], dtype=&#x27;datetime64[ns]&#x27;)</pre></div></li></ul></div></li><li class='xr-section-item'><input id='section-509cb306-8030-45fa-8676-c6e642f62379' class='xr-section-summary-in' type='checkbox'  ><label for='section-509cb306-8030-45fa-8676-c6e642f62379' class='xr-section-summary' >Data variables: <span>(32)</span></label><div class='xr-section-inline-details'></div><div class='xr-section-details'><ul class='xr-var-list'><li class='xr-var-item'><div class='xr-var-name'><span>ndvi</span></div><div class='xr-var-dims'>(epoch, lat, lon)</div><div class='xr-var-dtype'>float32</div><div class='xr-var-preview xr-preview'>...</div><input id='attrs-6dc7e55c-bc8f-442c-a12a-65d592924191' class='xr-var-attrs-in' type='checkbox' ><label for='attrs-6dc7e55c-bc8f-442c-a12a-65d592924191' title='Show/Hide attributes'><svg class='icon xr-icon-file-text2'><use xlink:href='#icon-file-text2'></use></svg></label><input id='data-ff6743ea-7824-4676-a002-ea3b272096fe' class='xr-var-data-in' type='checkbox'><label for='data-ff6743ea-7824-4676-a002-ea3b272096fe' title='Show/Hide data repr'><svg class='icon xr-icon-database'><use xlink:href='#icon-database'></use></svg></label><div class='xr-var-attrs'><dl class='xr-attrs'><dt><span>sources :</span></dt><dd>[&#x27;MOD13Q1&#x27;, &#x27;MYD13Q1&#x27;]</dd><dt><span>long_name :</span></dt><dd>Normalized difference vegetation index</dd><dt><span>units :</span></dt><dd>-</dd></dl></div><div class='xr-var-data'><pre>[208080 values with dtype=float32]</pre></div></li><li class='xr-var-item'><div class='xr-var-name'><span>p_24</span></div><div class='xr-var-dims'>(epoch, lat, lon)</div><div class='xr-var-dtype'>float32</div><div class='xr-var-preview xr-preview'>...</div><input id='attrs-180564b8-e711-4b67-9afd-cb0122858c4f' class='xr-var-attrs-in' type='checkbox' ><label for='attrs-180564b8-e711-4b67-9afd-cb0122858c4f' title='Show/Hide attributes'><svg class='icon xr-icon-file-text2'><use xlink:href='#icon-file-text2'></use></svg></label><input id='data-7a78baa4-c03e-4ca2-a65b-0a13d37b9421' class='xr-var-data-in' type='checkbox'><label for='data-7a78baa4-c03e-4ca2-a65b-0a13d37b9421' title='Show/Hide data repr'><svg class='icon xr-icon-database'><use xlink:href='#icon-database'></use></svg></label><div class='xr-var-attrs'><dl class='xr-attrs'><dt><span>sources :</span></dt><dd>CHIRPS.v2.0</dd><dt><span>long_name :</span></dt><dd>Daily precipitation</dd><dt><span>units :</span></dt><dd>mm day-1</dd></dl></div><div class='xr-var-data'><pre>[208080 values with dtype=float32]</pre></div></li><li class='xr-var-item'><div class='xr-var-name'><span>se_root</span></div><div class='xr-var-dims'>(epoch, lat, lon)</div><div class='xr-var-dtype'>float32</div><div class='xr-var-preview xr-preview'>...</div><input id='attrs-7253287d-15b1-4bc1-aa20-79e682140e79' class='xr-var-attrs-in' type='checkbox' ><label for='attrs-7253287d-15b1-4bc1-aa20-79e682140e79' title='Show/Hide attributes'><svg class='icon xr-icon-file-text2'><use xlink:href='#icon-file-text2'></use></svg></label><input id='data-3189fd04-54d4-4f80-8bcf-6bd23e56e119' class='xr-var-data-in' type='checkbox'><label for='data-3189fd04-54d4-4f80-8bcf-6bd23e56e119' title='Show/Hide data repr'><svg class='icon xr-icon-database'><use xlink:href='#icon-database'></use></svg></label><div class='xr-var-attrs'><dl class='xr-attrs'><dt><span>sources :</span></dt><dd>-</dd><dt><span>long_name :</span></dt><dd>Relative root zone soil moisture</dd><dt><span>units :</span></dt><dd>-</dd></dl></div><div class='xr-var-data'><pre>[208080 values with dtype=float32]</pre></div></li><li class='xr-var-item'><div class='xr-var-name'><span>r0</span></div><div class='xr-var-dims'>(epoch, lat, lon)</div><div class='xr-var-dtype'>float32</div><div class='xr-var-preview xr-preview'>...</div><input id='attrs-7bb20fec-c121-4182-9d76-a7b13a22869f' class='xr-var-attrs-in' type='checkbox' ><label for='attrs-7bb20fec-c121-4182-9d76-a7b13a22869f' title='Show/Hide attributes'><svg class='icon xr-icon-file-text2'><use xlink:href='#icon-file-text2'></use></svg></label><input id='data-513b9108-847b-42ae-bff9-a6f1f34a6aec' class='xr-var-data-in' type='checkbox'><label for='data-513b9108-847b-42ae-bff9-a6f1f34a6aec' title='Show/Hide data repr'><svg class='icon xr-icon-database'><use xlink:href='#icon-database'></use></svg></label><div class='xr-var-attrs'><dl class='xr-attrs'><dt><span>sources :</span></dt><dd>MCD43A3</dd><dt><span>long_name :</span></dt><dd>Albedo</dd><dt><span>units :</span></dt><dd>-</dd></dl></div><div class='xr-var-data'><pre>[208080 values with dtype=float32]</pre></div></li><li class='xr-var-item'><div class='xr-var-name'><span>z</span></div><div class='xr-var-dims'>(lat, lon)</div><div class='xr-var-dtype'>float32</div><div class='xr-var-preview xr-preview'>...</div><input id='attrs-9697d198-058a-4e9a-9f70-e442f4aab107' class='xr-var-attrs-in' type='checkbox' ><label for='attrs-9697d198-058a-4e9a-9f70-e442f4aab107' title='Show/Hide attributes'><svg class='icon xr-icon-file-text2'><use xlink:href='#icon-file-text2'></use></svg></label><input id='data-386ee0d4-3559-4643-a651-4944420c7160' class='xr-var-data-in' type='checkbox'><label for='data-386ee0d4-3559-4643-a651-4944420c7160' title='Show/Hide data repr'><svg class='icon xr-icon-database'><use xlink:href='#icon-database'></use></svg></label><div class='xr-var-attrs'><dl class='xr-attrs'><dt><span>sources :</span></dt><dd>SRTM</dd><dt><span>long_name :</span></dt><dd>Elevation above sea level</dd><dt><span>units :</span></dt><dd>m</dd></dl></div><div class='xr-var-data'><pre>[208080 values with dtype=float32]</pre></div></li><li class='xr-var-item'><div class='xr-var-name'><span>land_mask</span></div><div class='xr-var-dims'>(epoch, lat, lon)</div><div class='xr-var-dtype'>float32</div><div class='xr-var-preview xr-preview'>...</div><input id='attrs-84b0cb61-4bfa-4e6f-a7bb-abf60f386ace' class='xr-var-attrs-in' type='checkbox' ><label for='attrs-84b0cb61-4bfa-4e6f-a7bb-abf60f386ace' title='Show/Hide attributes'><svg class='icon xr-icon-file-text2'><use xlink:href='#icon-file-text2'></use></svg></label><input id='data-f3130653-99e8-403b-bc3b-05ba672cbbce' class='xr-var-data-in' type='checkbox'><label for='data-f3130653-99e8-403b-bc3b-05ba672cbbce' title='Show/Hide data repr'><svg class='icon xr-icon-database'><use xlink:href='#icon-database'></use></svg></label><div class='xr-var-attrs'><dl class='xr-attrs'><dt><span>sources :</span></dt><dd>WAPOR</dd><dt><span>long_name :</span></dt><dd>Land use classification</dd><dt><span>units :</span></dt><dd>-</dd></dl></div><div class='xr-var-data'><pre>[208080 values with dtype=float32]</pre></div></li><li class='xr-var-item'><div class='xr-var-name'><span>rs_min</span></div><div class='xr-var-dims'>(epoch, lat, lon)</div><div class='xr-var-dtype'>float32</div><div class='xr-var-preview xr-preview'>...</div><input id='attrs-5157453b-1ebe-4b75-af00-15ace0ae3c40' class='xr-var-attrs-in' type='checkbox' ><label for='attrs-5157453b-1ebe-4b75-af00-15ace0ae3c40' title='Show/Hide attributes'><svg class='icon xr-icon-file-text2'><use xlink:href='#icon-file-text2'></use></svg></label><input id='data-ff2b9c02-8174-41c1-870f-c1d2e162523e' class='xr-var-data-in' type='checkbox'><label for='data-ff2b9c02-8174-41c1-870f-c1d2e162523e' title='Show/Hide data repr'><svg class='icon xr-icon-database'><use xlink:href='#icon-database'></use></svg></label><div class='xr-var-attrs'><dl class='xr-attrs'><dt><span>sources :</span></dt><dd>WAPOR</dd><dt><span>long_name :</span></dt><dd>Minimal stomatal resistance</dd><dt><span>units :</span></dt><dd>s m-1</dd></dl></div><div class='xr-var-data'><pre>[208080 values with dtype=float32]</pre></div></li><li class='xr-var-item'><div class='xr-var-name'><span>lue_max</span></div><div class='xr-var-dims'>(epoch, lat, lon)</div><div class='xr-var-dtype'>float32</div><div class='xr-var-preview xr-preview'>...</div><input id='attrs-bba8a04c-a62e-4669-8d38-c1317116adf6' class='xr-var-attrs-in' type='checkbox' ><label for='attrs-bba8a04c-a62e-4669-8d38-c1317116adf6' title='Show/Hide attributes'><svg class='icon xr-icon-file-text2'><use xlink:href='#icon-file-text2'></use></svg></label><input id='data-eefd537d-27f6-47b2-bff1-d3dcb55b6b16' class='xr-var-data-in' type='checkbox'><label for='data-eefd537d-27f6-47b2-bff1-d3dcb55b6b16' title='Show/Hide data repr'><svg class='icon xr-icon-database'><use xlink:href='#icon-database'></use></svg></label><div class='xr-var-attrs'><dl class='xr-attrs'><dt><span>sources :</span></dt><dd>WAPOR</dd><dt><span>long_name :</span></dt><dd></dd><dt><span>units :</span></dt><dd></dd></dl></div><div class='xr-var-data'><pre>[208080 values with dtype=float32]</pre></div></li><li class='xr-var-item'><div class='xr-var-name'><span>z_obst_max</span></div><div class='xr-var-dims'>(epoch, lat, lon)</div><div class='xr-var-dtype'>float32</div><div class='xr-var-preview xr-preview'>...</div><input id='attrs-4d4a77b1-1b6a-44d7-aabf-038835c3652f' class='xr-var-attrs-in' type='checkbox' ><label for='attrs-4d4a77b1-1b6a-44d7-aabf-038835c3652f' title='Show/Hide attributes'><svg class='icon xr-icon-file-text2'><use xlink:href='#icon-file-text2'></use></svg></label><input id='data-6942415b-ca0a-4a59-afb6-ba05138bff95' class='xr-var-data-in' type='checkbox'><label for='data-6942415b-ca0a-4a59-afb6-ba05138bff95' title='Show/Hide data repr'><svg class='icon xr-icon-database'><use xlink:href='#icon-database'></use></svg></label><div class='xr-var-attrs'><dl class='xr-attrs'><dt><span>sources :</span></dt><dd>WAPOR</dd><dt><span>long_name :</span></dt><dd>Maximum obstacle height</dd><dt><span>units :</span></dt><dd>m</dd></dl></div><div class='xr-var-data'><pre>[208080 values with dtype=float32]</pre></div></li><li class='xr-var-item'><div class='xr-var-name'><span>ra_24</span></div><div class='xr-var-dims'>(epoch, lat, lon)</div><div class='xr-var-dtype'>float32</div><div class='xr-var-preview xr-preview'>...</div><input id='attrs-be2fe4ee-2712-4425-97f2-2152c74d7dcd' class='xr-var-attrs-in' type='checkbox' ><label for='attrs-be2fe4ee-2712-4425-97f2-2152c74d7dcd' title='Show/Hide attributes'><svg class='icon xr-icon-file-text2'><use xlink:href='#icon-file-text2'></use></svg></label><input id='data-775ff880-ba1a-4873-9328-4a056758a8ee' class='xr-var-data-in' type='checkbox'><label for='data-775ff880-ba1a-4873-9328-4a056758a8ee' title='Show/Hide data repr'><svg class='icon xr-icon-database'><use xlink:href='#icon-database'></use></svg></label><div class='xr-var-attrs'><dl class='xr-attrs'><dt><span>sources :</span></dt><dd>MERRA2</dd><dt><span>long_name :</span></dt><dd>Daily solar radiation</dd><dt><span>units :</span></dt><dd>W m-2</dd></dl></div><div class='xr-var-data'><pre>[208080 values with dtype=float32]</pre></div></li><li class='xr-var-item'><div class='xr-var-name'><span>t_air_24</span></div><div class='xr-var-dims'>(epoch, lat, lon)</div><div class='xr-var-dtype'>float32</div><div class='xr-var-preview xr-preview'>...</div><input id='attrs-1f383094-bf44-4566-bfc1-617ffc181484' class='xr-var-attrs-in' type='checkbox' ><label for='attrs-1f383094-bf44-4566-bfc1-617ffc181484' title='Show/Hide attributes'><svg class='icon xr-icon-file-text2'><use xlink:href='#icon-file-text2'></use></svg></label><input id='data-56301921-38db-4c92-a6f3-906afa343680' class='xr-var-data-in' type='checkbox'><label for='data-56301921-38db-4c92-a6f3-906afa343680' title='Show/Hide data repr'><svg class='icon xr-icon-database'><use xlink:href='#icon-database'></use></svg></label><div class='xr-var-attrs'><dl class='xr-attrs'><dt><span>sources :</span></dt><dd>GEOS5</dd><dt><span>long_name :</span></dt><dd>Daily air temperature</dd><dt><span>units :</span></dt><dd>C</dd></dl></div><div class='xr-var-data'><pre>[208080 values with dtype=float32]</pre></div></li><li class='xr-var-item'><div class='xr-var-name'><span>t_air_min_24</span></div><div class='xr-var-dims'>(epoch, lat, lon)</div><div class='xr-var-dtype'>float32</div><div class='xr-var-preview xr-preview'>...</div><input id='attrs-db4e76be-9af9-4e6e-aa74-2bcf85815d82' class='xr-var-attrs-in' type='checkbox' ><label for='attrs-db4e76be-9af9-4e6e-aa74-2bcf85815d82' title='Show/Hide attributes'><svg class='icon xr-icon-file-text2'><use xlink:href='#icon-file-text2'></use></svg></label><input id='data-99009d20-72bd-4bc9-86eb-1f508e824d27' class='xr-var-data-in' type='checkbox'><label for='data-99009d20-72bd-4bc9-86eb-1f508e824d27' title='Show/Hide data repr'><svg class='icon xr-icon-database'><use xlink:href='#icon-database'></use></svg></label><div class='xr-var-attrs'><dl class='xr-attrs'><dt><span>sources :</span></dt><dd>GEOS5</dd><dt><span>long_name :</span></dt><dd>Daily minimum temperature</dd><dt><span>units :</span></dt><dd>C</dd></dl></div><div class='xr-var-data'><pre>[208080 values with dtype=float32]</pre></div></li><li class='xr-var-item'><div class='xr-var-name'><span>t_air_max_24</span></div><div class='xr-var-dims'>(epoch, lat, lon)</div><div class='xr-var-dtype'>float32</div><div class='xr-var-preview xr-preview'>...</div><input id='attrs-0c92d509-d407-479b-bdd1-e5c77ef2b95e' class='xr-var-attrs-in' type='checkbox' ><label for='attrs-0c92d509-d407-479b-bdd1-e5c77ef2b95e' title='Show/Hide attributes'><svg class='icon xr-icon-file-text2'><use xlink:href='#icon-file-text2'></use></svg></label><input id='data-e5b0e955-1c47-4343-8f7e-7cb156da6dbb' class='xr-var-data-in' type='checkbox'><label for='data-e5b0e955-1c47-4343-8f7e-7cb156da6dbb' title='Show/Hide data repr'><svg class='icon xr-icon-database'><use xlink:href='#icon-database'></use></svg></label><div class='xr-var-attrs'><dl class='xr-attrs'><dt><span>sources :</span></dt><dd>GEOS5</dd><dt><span>long_name :</span></dt><dd>Daily maximum temperature</dd><dt><span>units :</span></dt><dd>C</dd></dl></div><div class='xr-var-data'><pre>[208080 values with dtype=float32]</pre></div></li><li class='xr-var-item'><div class='xr-var-name'><span>u2m_24</span></div><div class='xr-var-dims'>(epoch, lat, lon)</div><div class='xr-var-dtype'>float32</div><div class='xr-var-preview xr-preview'>...</div><input id='attrs-d7fa4c17-0c99-4908-ad6a-5b6d096b8eca' class='xr-var-attrs-in' type='checkbox' ><label for='attrs-d7fa4c17-0c99-4908-ad6a-5b6d096b8eca' title='Show/Hide attributes'><svg class='icon xr-icon-file-text2'><use xlink:href='#icon-file-text2'></use></svg></label><input id='data-d7c423b2-8a7b-4812-83bf-a088d1996bc0' class='xr-var-data-in' type='checkbox'><label for='data-d7c423b2-8a7b-4812-83bf-a088d1996bc0' title='Show/Hide data repr'><svg class='icon xr-icon-database'><use xlink:href='#icon-database'></use></svg></label><div class='xr-var-attrs'><dl class='xr-attrs'><dt><span>sources :</span></dt><dd>GEOS5</dd><dt><span>long_name :</span></dt><dd>Daily average eastward wind speed at 2 meter</dd><dt><span>units :</span></dt><dd>m s-1</dd></dl></div><div class='xr-var-data'><pre>[208080 values with dtype=float32]</pre></div></li><li class='xr-var-item'><div class='xr-var-name'><span>v2m_24</span></div><div class='xr-var-dims'>(epoch, lat, lon)</div><div class='xr-var-dtype'>float32</div><div class='xr-var-preview xr-preview'>...</div><input id='attrs-dd291c5e-48dc-457d-80d4-e94348f42352' class='xr-var-attrs-in' type='checkbox' ><label for='attrs-dd291c5e-48dc-457d-80d4-e94348f42352' title='Show/Hide attributes'><svg class='icon xr-icon-file-text2'><use xlink:href='#icon-file-text2'></use></svg></label><input id='data-ea8485ba-b384-40b0-8422-249bb999450c' class='xr-var-data-in' type='checkbox'><label for='data-ea8485ba-b384-40b0-8422-249bb999450c' title='Show/Hide data repr'><svg class='icon xr-icon-database'><use xlink:href='#icon-database'></use></svg></label><div class='xr-var-attrs'><dl class='xr-attrs'><dt><span>sources :</span></dt><dd>GEOS5</dd><dt><span>long_name :</span></dt><dd>Daily average northward wind speed at 2 meter</dd><dt><span>units :</span></dt><dd>m s-1</dd></dl></div><div class='xr-var-data'><pre>[208080 values with dtype=float32]</pre></div></li><li class='xr-var-item'><div class='xr-var-name'><span>p_air_0_24</span></div><div class='xr-var-dims'>(epoch, lat, lon)</div><div class='xr-var-dtype'>float32</div><div class='xr-var-preview xr-preview'>...</div><input id='attrs-2b0b5365-c7f5-47a3-a5c8-4084126c5b6b' class='xr-var-attrs-in' type='checkbox' ><label for='attrs-2b0b5365-c7f5-47a3-a5c8-4084126c5b6b' title='Show/Hide attributes'><svg class='icon xr-icon-file-text2'><use xlink:href='#icon-file-text2'></use></svg></label><input id='data-053b137e-45f0-41cd-911c-aef982eae8e4' class='xr-var-data-in' type='checkbox'><label for='data-053b137e-45f0-41cd-911c-aef982eae8e4' title='Show/Hide data repr'><svg class='icon xr-icon-database'><use xlink:href='#icon-database'></use></svg></label><div class='xr-var-attrs'><dl class='xr-attrs'><dt><span>sources :</span></dt><dd>GEOS5</dd><dt><span>long_name :</span></dt><dd>Daily air pressure at sea level</dd><dt><span>units :</span></dt><dd>mbar</dd></dl></div><div class='xr-var-data'><pre>[208080 values with dtype=float32]</pre></div></li><li class='xr-var-item'><div class='xr-var-name'><span>qv_24</span></div><div class='xr-var-dims'>(epoch, lat, lon)</div><div class='xr-var-dtype'>float32</div><div class='xr-var-preview xr-preview'>...</div><input id='attrs-de076c58-8a0d-4640-b3b5-06a1e8edf9b3' class='xr-var-attrs-in' type='checkbox' ><label for='attrs-de076c58-8a0d-4640-b3b5-06a1e8edf9b3' title='Show/Hide attributes'><svg class='icon xr-icon-file-text2'><use xlink:href='#icon-file-text2'></use></svg></label><input id='data-5f52b97a-404c-4a96-bd58-569650ef1661' class='xr-var-data-in' type='checkbox'><label for='data-5f52b97a-404c-4a96-bd58-569650ef1661' title='Show/Hide data repr'><svg class='icon xr-icon-database'><use xlink:href='#icon-database'></use></svg></label><div class='xr-var-attrs'><dl class='xr-attrs'><dt><span>sources :</span></dt><dd>GEOS5</dd><dt><span>long_name :</span></dt><dd>Daily specific humidity</dd><dt><span>units :</span></dt><dd>kg kg-1</dd></dl></div><div class='xr-var-data'><pre>[208080 values with dtype=float32]</pre></div></li><li class='xr-var-item'><div class='xr-var-name'><span>lw_offset</span></div><div class='xr-var-dims'>(lat, lon)</div><div class='xr-var-dtype'>float32</div><div class='xr-var-preview xr-preview'>...</div><input id='attrs-88275b48-e812-4d38-8744-626f6e5ca33a' class='xr-var-attrs-in' type='checkbox' ><label for='attrs-88275b48-e812-4d38-8744-626f6e5ca33a' title='Show/Hide attributes'><svg class='icon xr-icon-file-text2'><use xlink:href='#icon-file-text2'></use></svg></label><input id='data-93cda8eb-301b-4632-882e-8c6f012adc9f' class='xr-var-data-in' type='checkbox'><label for='data-93cda8eb-301b-4632-882e-8c6f012adc9f' title='Show/Hide data repr'><svg class='icon xr-icon-database'><use xlink:href='#icon-database'></use></svg></label><div class='xr-var-attrs'><dl class='xr-attrs'><dt><span>sources :</span></dt><dd>STATICS</dd><dt><span>long_name :</span></dt><dd>Offset of the tau-term in the FAO-56 longwave radiation relationship</dd><dt><span>units :</span></dt><dd>-</dd></dl></div><div class='xr-var-data'><pre>[208080 values with dtype=float32]</pre></div></li><li class='xr-var-item'><div class='xr-var-name'><span>lw_slope</span></div><div class='xr-var-dims'>(lat, lon)</div><div class='xr-var-dtype'>float32</div><div class='xr-var-preview xr-preview'>...</div><input id='attrs-94fd3a07-e6ad-4658-8b59-18036a5cbe8e' class='xr-var-attrs-in' type='checkbox' ><label for='attrs-94fd3a07-e6ad-4658-8b59-18036a5cbe8e' title='Show/Hide attributes'><svg class='icon xr-icon-file-text2'><use xlink:href='#icon-file-text2'></use></svg></label><input id='data-5b64092c-5ffb-4aec-afcb-3efcccb5b720' class='xr-var-data-in' type='checkbox'><label for='data-5b64092c-5ffb-4aec-afcb-3efcccb5b720' title='Show/Hide data repr'><svg class='icon xr-icon-database'><use xlink:href='#icon-database'></use></svg></label><div class='xr-var-attrs'><dl class='xr-attrs'><dt><span>sources :</span></dt><dd>STATICS</dd><dt><span>long_name :</span></dt><dd>Slope of the tau-term in the FAO-56 longwave radiation relationship</dd><dt><span>units :</span></dt><dd>-</dd></dl></div><div class='xr-var-data'><pre>[208080 values with dtype=float32]</pre></div></li><li class='xr-var-item'><div class='xr-var-name'><span>r0_bare</span></div><div class='xr-var-dims'>(lat, lon)</div><div class='xr-var-dtype'>float32</div><div class='xr-var-preview xr-preview'>...</div><input id='attrs-48936694-0fc7-45a7-84b8-5ed7256d6245' class='xr-var-attrs-in' type='checkbox' ><label for='attrs-48936694-0fc7-45a7-84b8-5ed7256d6245' title='Show/Hide attributes'><svg class='icon xr-icon-file-text2'><use xlink:href='#icon-file-text2'></use></svg></label><input id='data-2a2dda7f-827e-49fc-b175-3f9ce82a5f79' class='xr-var-data-in' type='checkbox'><label for='data-2a2dda7f-827e-49fc-b175-3f9ce82a5f79' title='Show/Hide data repr'><svg class='icon xr-icon-database'><use xlink:href='#icon-database'></use></svg></label><div class='xr-var-attrs'><dl class='xr-attrs'><dt><span>sources :</span></dt><dd>STATICS</dd><dt><span>long_name :</span></dt><dd>Dry bare soil surface albedo</dd><dt><span>units :</span></dt><dd>-</dd></dl></div><div class='xr-var-data'><pre>[208080 values with dtype=float32]</pre></div></li><li class='xr-var-item'><div class='xr-var-name'><span>r0_full</span></div><div class='xr-var-dims'>(lat, lon)</div><div class='xr-var-dtype'>float32</div><div class='xr-var-preview xr-preview'>...</div><input id='attrs-b7190755-f35a-45f1-9ff2-4e4575b88e36' class='xr-var-attrs-in' type='checkbox' ><label for='attrs-b7190755-f35a-45f1-9ff2-4e4575b88e36' title='Show/Hide attributes'><svg class='icon xr-icon-file-text2'><use xlink:href='#icon-file-text2'></use></svg></label><input id='data-6ef51e0e-0795-4070-a5cc-69e668b06c69' class='xr-var-data-in' type='checkbox'><label for='data-6ef51e0e-0795-4070-a5cc-69e668b06c69' title='Show/Hide data repr'><svg class='icon xr-icon-database'><use xlink:href='#icon-database'></use></svg></label><div class='xr-var-attrs'><dl class='xr-attrs'><dt><span>sources :</span></dt><dd>STATICS</dd><dt><span>long_name :</span></dt><dd>Surface albedo under full vegetation cover</dd><dt><span>units :</span></dt><dd>-</dd></dl></div><div class='xr-var-data'><pre>[208080 values with dtype=float32]</pre></div></li><li class='xr-var-item'><div class='xr-var-name'><span>rn_offset</span></div><div class='xr-var-dims'>(lat, lon)</div><div class='xr-var-dtype'>float32</div><div class='xr-var-preview xr-preview'>...</div><input id='attrs-7890538b-3981-46b3-97ca-d94fe759b5f0' class='xr-var-attrs-in' type='checkbox' ><label for='attrs-7890538b-3981-46b3-97ca-d94fe759b5f0' title='Show/Hide attributes'><svg class='icon xr-icon-file-text2'><use xlink:href='#icon-file-text2'></use></svg></label><input id='data-a2a23230-8bb8-4ae7-a619-b482efd9e09a' class='xr-var-data-in' type='checkbox'><label for='data-a2a23230-8bb8-4ae7-a619-b482efd9e09a' title='Show/Hide data repr'><svg class='icon xr-icon-database'><use xlink:href='#icon-database'></use></svg></label><div class='xr-var-attrs'><dl class='xr-attrs'><dt><span>sources :</span></dt><dd>STATICS</dd><dt><span>long_name :</span></dt><dd>Offset rn/g0-relation water</dd><dt><span>units :</span></dt><dd>-</dd></dl></div><div class='xr-var-data'><pre>[208080 values with dtype=float32]</pre></div></li><li class='xr-var-item'><div class='xr-var-name'><span>rn_slope</span></div><div class='xr-var-dims'>(lat, lon)</div><div class='xr-var-dtype'>float32</div><div class='xr-var-preview xr-preview'>...</div><input id='attrs-05e95a1e-d04c-460c-ba08-091085caba2b' class='xr-var-attrs-in' type='checkbox' ><label for='attrs-05e95a1e-d04c-460c-ba08-091085caba2b' title='Show/Hide attributes'><svg class='icon xr-icon-file-text2'><use xlink:href='#icon-file-text2'></use></svg></label><input id='data-8745fb24-d1f3-459f-bec0-8424481d7a1b' class='xr-var-data-in' type='checkbox'><label for='data-8745fb24-d1f3-459f-bec0-8424481d7a1b' title='Show/Hide data repr'><svg class='icon xr-icon-database'><use xlink:href='#icon-database'></use></svg></label><div class='xr-var-attrs'><dl class='xr-attrs'><dt><span>sources :</span></dt><dd>STATICS</dd><dt><span>long_name :</span></dt><dd>Slope rn/g0-relation water</dd><dt><span>units :</span></dt><dd>-</dd></dl></div><div class='xr-var-data'><pre>[208080 values with dtype=float32]</pre></div></li><li class='xr-var-item'><div class='xr-var-name'><span>t_amp_year</span></div><div class='xr-var-dims'>(lat, lon)</div><div class='xr-var-dtype'>float32</div><div class='xr-var-preview xr-preview'>...</div><input id='attrs-9b31a2d1-3cc9-4684-9692-93dd1c021353' class='xr-var-attrs-in' type='checkbox' ><label for='attrs-9b31a2d1-3cc9-4684-9692-93dd1c021353' title='Show/Hide attributes'><svg class='icon xr-icon-file-text2'><use xlink:href='#icon-file-text2'></use></svg></label><input id='data-c5495000-ca96-4d9b-bb6c-c63b34904af5' class='xr-var-data-in' type='checkbox'><label for='data-c5495000-ca96-4d9b-bb6c-c63b34904af5' title='Show/Hide data repr'><svg class='icon xr-icon-database'><use xlink:href='#icon-database'></use></svg></label><div class='xr-var-attrs'><dl class='xr-attrs'><dt><span>sources :</span></dt><dd>STATICS</dd><dt><span>long_name :</span></dt><dd>Yearly air temperature amplitude</dd><dt><span>units :</span></dt><dd>K</dd></dl></div><div class='xr-var-data'><pre>[208080 values with dtype=float32]</pre></div></li><li class='xr-var-item'><div class='xr-var-name'><span>t_opt</span></div><div class='xr-var-dims'>(lat, lon)</div><div class='xr-var-dtype'>float32</div><div class='xr-var-preview xr-preview'>...</div><input id='attrs-abeb66c6-42be-43ae-bd5f-d816df91a685' class='xr-var-attrs-in' type='checkbox' ><label for='attrs-abeb66c6-42be-43ae-bd5f-d816df91a685' title='Show/Hide attributes'><svg class='icon xr-icon-file-text2'><use xlink:href='#icon-file-text2'></use></svg></label><input id='data-feacd15c-31f5-43c1-a96e-06342fb0c1b6' class='xr-var-data-in' type='checkbox'><label for='data-feacd15c-31f5-43c1-a96e-06342fb0c1b6' title='Show/Hide data repr'><svg class='icon xr-icon-database'><use xlink:href='#icon-database'></use></svg></label><div class='xr-var-attrs'><dl class='xr-attrs'><dt><span>sources :</span></dt><dd>STATICS</dd><dt><span>long_name :</span></dt><dd>Optimum air temperature for plant growth</dd><dt><span>units :</span></dt><dd>C</dd></dl></div><div class='xr-var-data'><pre>[208080 values with dtype=float32]</pre></div></li><li class='xr-var-item'><div class='xr-var-name'><span>vpd_slope</span></div><div class='xr-var-dims'>(lat, lon)</div><div class='xr-var-dtype'>float32</div><div class='xr-var-preview xr-preview'>...</div><input id='attrs-aa5caa3b-4efc-44ba-ba9d-1da83dbc1b24' class='xr-var-attrs-in' type='checkbox' ><label for='attrs-aa5caa3b-4efc-44ba-ba9d-1da83dbc1b24' title='Show/Hide attributes'><svg class='icon xr-icon-file-text2'><use xlink:href='#icon-file-text2'></use></svg></label><input id='data-c033eee7-f853-4fc4-ac22-8084a0590d45' class='xr-var-data-in' type='checkbox'><label for='data-c033eee7-f853-4fc4-ac22-8084a0590d45' title='Show/Hide data repr'><svg class='icon xr-icon-database'><use xlink:href='#icon-database'></use></svg></label><div class='xr-var-attrs'><dl class='xr-attrs'><dt><span>sources :</span></dt><dd>STATICS</dd><dt><span>long_name :</span></dt><dd>Vapour pressure stress curve slope</dd><dt><span>units :</span></dt><dd>mbar-1</dd></dl></div><div class='xr-var-data'><pre>[208080 values with dtype=float32]</pre></div></li><li class='xr-var-item'><div class='xr-var-name'><span>z_oro</span></div><div class='xr-var-dims'>(lat, lon)</div><div class='xr-var-dtype'>float32</div><div class='xr-var-preview xr-preview'>...</div><input id='attrs-9d650326-4aa2-49c4-93a0-18cf2a1236cc' class='xr-var-attrs-in' type='checkbox' ><label for='attrs-9d650326-4aa2-49c4-93a0-18cf2a1236cc' title='Show/Hide attributes'><svg class='icon xr-icon-file-text2'><use xlink:href='#icon-file-text2'></use></svg></label><input id='data-6ea33631-a0c1-403e-8b47-efdf5a53ea54' class='xr-var-data-in' type='checkbox'><label for='data-6ea33631-a0c1-403e-8b47-efdf5a53ea54' title='Show/Hide data repr'><svg class='icon xr-icon-database'><use xlink:href='#icon-database'></use></svg></label><div class='xr-var-attrs'><dl class='xr-attrs'><dt><span>sources :</span></dt><dd>STATICS</dd><dt><span>long_name :</span></dt><dd>Orographic roughness</dd><dt><span>units :</span></dt><dd>m</dd></dl></div><div class='xr-var-data'><pre>[208080 values with dtype=float32]</pre></div></li><li class='xr-var-item'><div class='xr-var-name'><span>t_diff</span></div><div class='xr-var-dims'>(lat, lon)</div><div class='xr-var-dtype'>float32</div><div class='xr-var-preview xr-preview'>...</div><input id='attrs-25f752bc-ab0a-4f89-a9db-4f2517a85f31' class='xr-var-attrs-in' type='checkbox' ><label for='attrs-25f752bc-ab0a-4f89-a9db-4f2517a85f31' title='Show/Hide attributes'><svg class='icon xr-icon-file-text2'><use xlink:href='#icon-file-text2'></use></svg></label><input id='data-8f970826-92bb-4829-b2b4-098207fb9289' class='xr-var-data-in' type='checkbox'><label for='data-8f970826-92bb-4829-b2b4-098207fb9289' title='Show/Hide data repr'><svg class='icon xr-icon-database'><use xlink:href='#icon-database'></use></svg></label><div class='xr-var-attrs'><dl class='xr-attrs'><dt><span>sources :</span></dt><dd>temperature.lapse_rate()</dd><dt><span>long_name :</span></dt><dd>Lapse-rate temperature adjustment</dd><dt><span>units :</span></dt><dd>C</dd></dl></div><div class='xr-var-data'><pre>[208080 values with dtype=float32]</pre></div></li><li class='xr-var-item'><div class='xr-var-name'><span>slope</span></div><div class='xr-var-dims'>(lat, lon)</div><div class='xr-var-dtype'>float32</div><div class='xr-var-preview xr-preview'>...</div><input id='attrs-8f400bd6-d051-49d0-8adc-67ed05d773d9' class='xr-var-attrs-in' type='checkbox' ><label for='attrs-8f400bd6-d051-49d0-8adc-67ed05d773d9' title='Show/Hide attributes'><svg class='icon xr-icon-file-text2'><use xlink:href='#icon-file-text2'></use></svg></label><input id='data-e69ab771-8710-4692-98f3-90678c3d828d' class='xr-var-data-in' type='checkbox'><label for='data-e69ab771-8710-4692-98f3-90678c3d828d' title='Show/Hide data repr'><svg class='icon xr-icon-database'><use xlink:href='#icon-database'></use></svg></label><div class='xr-var-attrs'><dl class='xr-attrs'><dt><span>sources :</span></dt><dd>dem.to_slope()</dd><dt><span>long_name :</span></dt><dd>Slope</dd><dt><span>units :</span></dt><dd>radians</dd></dl></div><div class='xr-var-data'><pre>[208080 values with dtype=float32]</pre></div></li><li class='xr-var-item'><div class='xr-var-name'><span>aspect</span></div><div class='xr-var-dims'>(lat, lon)</div><div class='xr-var-dtype'>float32</div><div class='xr-var-preview xr-preview'>...</div><input id='attrs-681308bb-0719-400b-85bc-827ba108d32a' class='xr-var-attrs-in' type='checkbox' ><label for='attrs-681308bb-0719-400b-85bc-827ba108d32a' title='Show/Hide attributes'><svg class='icon xr-icon-file-text2'><use xlink:href='#icon-file-text2'></use></svg></label><input id='data-01351c61-d904-4c57-a7df-25e75076c08e' class='xr-var-data-in' type='checkbox'><label for='data-01351c61-d904-4c57-a7df-25e75076c08e' title='Show/Hide data repr'><svg class='icon xr-icon-database'><use xlink:href='#icon-database'></use></svg></label><div class='xr-var-attrs'><dl class='xr-attrs'><dt><span>sources :</span></dt><dd>dem.to_aspect()</dd><dt><span>long_name :</span></dt><dd>Aspect (0 is north; pi is south)</dd><dt><span>units :</span></dt><dd>radians</dd></dl></div><div class='xr-var-data'><pre>[208080 values with dtype=float32]</pre></div></li><li class='xr-var-item'><div class='xr-var-name'><span>lat_deg</span></div><div class='xr-var-dims'>(lat, lon)</div><div class='xr-var-dtype'>float32</div><div class='xr-var-preview xr-preview'>...</div><input id='attrs-eb03a13b-9c4c-408c-a9df-bf5218c5b335' class='xr-var-attrs-in' type='checkbox' ><label for='attrs-eb03a13b-9c4c-408c-a9df-bf5218c5b335' title='Show/Hide attributes'><svg class='icon xr-icon-file-text2'><use xlink:href='#icon-file-text2'></use></svg></label><input id='data-7593a667-6884-4028-90af-c71e296f607e' class='xr-var-data-in' type='checkbox'><label for='data-7593a667-6884-4028-90af-c71e296f607e' title='Show/Hide data repr'><svg class='icon xr-icon-database'><use xlink:href='#icon-database'></use></svg></label><div class='xr-var-attrs'><dl class='xr-attrs'><dt><span>sources :</span></dt><dd>dem.to_lat()</dd><dt><span>long_name :</span></dt><dd>Latitude in degrees</dd><dt><span>units :</span></dt><dd>degrees</dd></dl></div><div class='xr-var-data'><pre>[208080 values with dtype=float32]</pre></div></li><li class='xr-var-item'><div class='xr-var-name'><span>lon_deg</span></div><div class='xr-var-dims'>(lat, lon)</div><div class='xr-var-dtype'>float32</div><div class='xr-var-preview xr-preview'>...</div><input id='attrs-3e141026-4925-4b7f-9e16-7997a0db8302' class='xr-var-attrs-in' type='checkbox' ><label for='attrs-3e141026-4925-4b7f-9e16-7997a0db8302' title='Show/Hide attributes'><svg class='icon xr-icon-file-text2'><use xlink:href='#icon-file-text2'></use></svg></label><input id='data-8d5b504b-06f9-4f36-be02-9a368f24ae14' class='xr-var-data-in' type='checkbox'><label for='data-8d5b504b-06f9-4f36-be02-9a368f24ae14' title='Show/Hide data repr'><svg class='icon xr-icon-database'><use xlink:href='#icon-database'></use></svg></label><div class='xr-var-attrs'><dl class='xr-attrs'><dt><span>sources :</span></dt><dd>dem.to_lon()</dd><dt><span>long_name :</span></dt><dd>Longitude in degrees</dd><dt><span>units :</span></dt><dd>degrees</dd></dl></div><div class='xr-var-data'><pre>[208080 values with dtype=float32]</pre></div></li></ul></div></li><li class='xr-section-item'><input id='section-5920f396-0fd6-4142-a777-a0bf66141b99' class='xr-section-summary-in' type='checkbox'  checked><label for='section-5920f396-0fd6-4142-a777-a0bf66141b99' class='xr-section-summary' >Attributes: <span>(4)</span></label><div class='xr-section-inline-details'></div><div class='xr-section-details'><dl class='xr-attrs'><dt><span>geotransform :</span></dt><dd>[ 3.01984737e+01  1.96536998e-03  0.00000000e+00  2.97012638e+01\n",
              "  0.00000000e+00 -1.96536998e-03]</dd><dt><span>projection :</span></dt><dd>GEOGCS[&quot;WGS 84&quot;,DATUM[&quot;WGS_1984&quot;,SPHEROID[&quot;WGS 84&quot;,6378137,298.257223563,AUTHORITY[&quot;EPSG&quot;,&quot;7030&quot;]],AUTHORITY[&quot;EPSG&quot;,&quot;6326&quot;]],PRIMEM[&quot;Greenwich&quot;,0],UNIT[&quot;degree&quot;,0.0174532925199433,AUTHORITY[&quot;EPSG&quot;,&quot;9122&quot;]],AXIS[&quot;Latitude&quot;,NORTH],AXIS[&quot;Longitude&quot;,EAST],AUTHORITY[&quot;EPSG&quot;,&quot;4326&quot;]]</dd><dt><span>pixel_size :</span></dt><dd>204.5582318379489</dd><dt><span>example_file :</span></dt><dd>/Users/hmcoerver/pywapor_notebooks/RAW/MODIS/MOD13/NDVI_MOD13Q1_-_16-daily_2021.06.26.tif</dd></dl></div></li></ul></div></div>"
            ],
            "text/plain": [
              "<xarray.Dataset>\n",
              "Dimensions:       (epoch: 1, lon: 510, lat: 408)\n",
              "Coordinates:\n",
              "  * epoch         (epoch) int64 0\n",
              "  * lon           (lon) float64 30.2 30.2 30.2 30.21 ... 31.19 31.2 31.2 31.2\n",
              "  * lat           (lat) float64 29.7 29.7 29.7 29.69 ... 28.91 28.9 28.9 28.9\n",
              "    epoch_starts  (epoch) datetime64[ns] ...\n",
              "    epoch_ends    (epoch) datetime64[ns] ...\n",
              "Data variables: (12/32)\n",
              "    ndvi          (epoch, lat, lon) float32 ...\n",
              "    p_24          (epoch, lat, lon) float32 ...\n",
              "    se_root       (epoch, lat, lon) float32 ...\n",
              "    r0            (epoch, lat, lon) float32 ...\n",
              "    z             (lat, lon) float32 ...\n",
              "    land_mask     (epoch, lat, lon) float32 ...\n",
              "    ...            ...\n",
              "    z_oro         (lat, lon) float32 ...\n",
              "    t_diff        (lat, lon) float32 ...\n",
              "    slope         (lat, lon) float32 ...\n",
              "    aspect        (lat, lon) float32 ...\n",
              "    lat_deg       (lat, lon) float32 ...\n",
              "    lon_deg       (lat, lon) float32 ...\n",
              "Attributes:\n",
              "    geotransform:  [ 3.01984737e+01  1.96536998e-03  0.00000000e+00  2.970126...\n",
              "    projection:    GEOGCS[\"WGS 84\",DATUM[\"WGS_1984\",SPHEROID[\"WGS 84\",6378137...\n",
              "    pixel_size:    204.5582318379489\n",
              "    example_file:  /Users/hmcoerver/pywapor_notebooks/RAW/MODIS/MOD13/NDVI_MO..."
            ]
          },
          "execution_count": 6,
          "metadata": {},
          "output_type": "execute_result"
        }
      ],
      "source": [
        "ds"
      ]
    },
    {
      "cell_type": "markdown",
      "metadata": {},
      "source": [
        "The output of calling `ds` is interactive. It contains several parts, at the top you'll see `Dimension`, which gives information about the dimensions of our dataset. In the W-E direction, the dataset contains 510 values, while in the S-N direction 408, i.e. we have 510 * 408 = 208,080 pixels! Finally, there is an `epoch`-dimension, which is of size 1. Remember that we selected a period of 10 days, `pre_et_look` created 1 composite for that period, hence the size of 1 (we'll talk more about this in the next lesson).\n",
        "\n",
        "Then there is a part called `Data variables`, you might have to click on it to expand its information. Once you do that, you'll see a list of variables for which the data is stored inside the file specified by `fh`. After each variable name, you can see it's dimensions. E.g. `ndvi` is a 3-dimensional variable, while `z` is 2-dimensional. To get more information about a variable, you can click on the little 'paper'-icon at the end of the line. If you look at the info for `ndvi` for example, you should see that `ndvi` stands for \"Normalized difference vegetation index\", its unit is \\[-\\] and the data comes from \\['MOD13Q1', 'MYD13Q1'\\].\n",
        "\n",
        "Finally, there is a section called `Attributes`, which contains some metadata on this dataset. For example `pixel_size` gives you the size of the pixels in this dataset in meters."
      ]
    },
    {
      "cell_type": "markdown",
      "metadata": {
        "id": "DDcpwCU-DPtp"
      },
      "source": [
        "XArray datasets are also easy to plot, for example, we can create a map of `z` like this (Note that XArray is smart enough to automatically fill in the units and the description of the variable!)."
      ]
    },
    {
      "cell_type": "code",
      "execution_count": 7,
      "metadata": {},
      "outputs": [
        {
          "data": {
            "text/plain": [
              "<matplotlib.collections.QuadMesh at 0x156fd5e80>"
            ]
          },
          "execution_count": 7,
          "metadata": {},
          "output_type": "execute_result"
        }
      ],
      "source": [
        "ds.z.plot()"
      ]
    },
    {
      "cell_type": "markdown",
      "metadata": {},
      "source": [
        "If we want to make a map of a 3-dimensional variable, we'll have to select for which time (i.e. `epoch`) we want to create the map like this."
      ]
    },
    {
      "cell_type": "code",
      "execution_count": 8,
      "metadata": {},
      "outputs": [
        {
          "data": {
            "text/plain": [
              "<matplotlib.collections.QuadMesh at 0x15fb3a6d0>"
            ]
          },
          "execution_count": 8,
          "metadata": {},
          "output_type": "execute_result"
        }
      ],
      "source": [
        "ds.r0.isel(epoch = 0).plot()"
      ]
    },
    {
      "cell_type": "markdown",
      "metadata": {},
      "source": [
        "If for some reason you have lost the variable `ds` (maybe you restarted you computer) and don't want to run `pre_et_look` again, you can simply open the file specified by `fh` like this."
      ]
    },
    {
      "cell_type": "code",
      "execution_count": 9,
      "metadata": {},
      "outputs": [],
      "source": [
        "import xarray as xr\n",
        "ds = xr.open_dataset(fh)"
      ]
    },
    {
      "cell_type": "markdown",
      "metadata": {},
      "source": [
        "Above we saw that the `level_1` folder also contains some other \".nc\" files than just `et_look_input.nc`. Try opening them with `xr.open_dataset()` and explore their contents!"
      ]
    },
    {
      "cell_type": "markdown",
      "metadata": {
        "id": "s0VaOK65I4Gi"
      },
      "source": [
        "#### Running ETLook\n",
        "\n",
        "Now that we have created the input file for the model, we can run the model! We simply pass the `et_look_input.nc` file to `pywapor.et_look.main()`."
      ]
    },
    {
      "cell_type": "code",
      "execution_count": 10,
      "metadata": {},
      "outputs": [
        {
          "name": "stdout",
          "output_type": "stream",
          "text": [
            "--> Running ETLook_v2\n"
          ]
        },
        {
          "name": "stderr",
          "output_type": "stream",
          "text": [
            "--> Saving outputs.\n"
          ]
        }
      ],
      "source": [
        "ds = pywapor.et_look.main(fh)"
      ]
    },
    {
      "cell_type": "markdown",
      "metadata": {
        "id": "MLf3M4liMGdF"
      },
      "source": [
        "This should go pretty quickly (a couple of seconds). First we'll check our `project_folder` again."
      ]
    },
    {
      "cell_type": "code",
      "execution_count": 11,
      "metadata": {},
      "outputs": [
        {
          "name": "stdout",
          "output_type": "stream",
          "text": [
            "log.txt\n",
            "\n",
            "RAW:\n",
            "\u001b[34mCHIRPS\u001b[m\u001b[m\n",
            "\u001b[34mGEOS5\u001b[m\u001b[m\n",
            "\u001b[34mGLOBCOVER\u001b[m\u001b[m\n",
            "LC08_L2SP_177040_20210715_20210721_02_T1.tar\n",
            "\u001b[34mMERRA2\u001b[m\u001b[m\n",
            "\u001b[34mMODIS\u001b[m\u001b[m\n",
            "\u001b[34mPROBAV\u001b[m\u001b[m\n",
            "\u001b[34mSRTM\u001b[m\u001b[m\n",
            "\u001b[34mSTATICS\u001b[m\u001b[m\n",
            "\u001b[34mWAPOR\u001b[m\u001b[m\n",
            "\n",
            "level_1:\n",
            "et_look_input.nc  se_root_input.nc  se_root_output.nc\n",
            "et_look_output.nc \u001b[34mse_root_output\u001b[m\u001b[m\n",
            "\n",
            "my_landsat_folder:\n",
            "LE07_L2SP_177040_20210707_20210802_02_T1.tar\n",
            "\u001b[34mlst\u001b[m\u001b[m\n",
            "\u001b[34mndvi\u001b[m\u001b[m\n",
            "\u001b[34mr0\u001b[m\u001b[m\n"
          ]
        }
      ],
      "source": [
        "!ls *"
      ]
    },
    {
      "cell_type": "markdown",
      "metadata": {
        "id": "lN3V9RNAMTLu"
      },
      "source": [
        "Looks pretty much the same, except there is now a file called `et_look_output.nc`!\n",
        "\n"
      ]
    },
    {
      "cell_type": "markdown",
      "metadata": {},
      "source": [
        "We've also overwritten the variable `ds`. So let's see what is in there now."
      ]
    },
    {
      "cell_type": "code",
      "execution_count": 12,
      "metadata": {},
      "outputs": [
        {
          "data": {
            "text/html": [
              "<div><svg style=\"position: absolute; width: 0; height: 0; overflow: hidden\">\n",
              "<defs>\n",
              "<symbol id=\"icon-database\" viewBox=\"0 0 32 32\">\n",
              "<path d=\"M16 0c-8.837 0-16 2.239-16 5v4c0 2.761 7.163 5 16 5s16-2.239 16-5v-4c0-2.761-7.163-5-16-5z\"></path>\n",
              "<path d=\"M16 17c-8.837 0-16-2.239-16-5v6c0 2.761 7.163 5 16 5s16-2.239 16-5v-6c0 2.761-7.163 5-16 5z\"></path>\n",
              "<path d=\"M16 26c-8.837 0-16-2.239-16-5v6c0 2.761 7.163 5 16 5s16-2.239 16-5v-6c0 2.761-7.163 5-16 5z\"></path>\n",
              "</symbol>\n",
              "<symbol id=\"icon-file-text2\" viewBox=\"0 0 32 32\">\n",
              "<path d=\"M28.681 7.159c-0.694-0.947-1.662-2.053-2.724-3.116s-2.169-2.030-3.116-2.724c-1.612-1.182-2.393-1.319-2.841-1.319h-15.5c-1.378 0-2.5 1.121-2.5 2.5v27c0 1.378 1.122 2.5 2.5 2.5h23c1.378 0 2.5-1.122 2.5-2.5v-19.5c0-0.448-0.137-1.23-1.319-2.841zM24.543 5.457c0.959 0.959 1.712 1.825 2.268 2.543h-4.811v-4.811c0.718 0.556 1.584 1.309 2.543 2.268zM28 29.5c0 0.271-0.229 0.5-0.5 0.5h-23c-0.271 0-0.5-0.229-0.5-0.5v-27c0-0.271 0.229-0.5 0.5-0.5 0 0 15.499-0 15.5 0v7c0 0.552 0.448 1 1 1h7v19.5z\"></path>\n",
              "<path d=\"M23 26h-14c-0.552 0-1-0.448-1-1s0.448-1 1-1h14c0.552 0 1 0.448 1 1s-0.448 1-1 1z\"></path>\n",
              "<path d=\"M23 22h-14c-0.552 0-1-0.448-1-1s0.448-1 1-1h14c0.552 0 1 0.448 1 1s-0.448 1-1 1z\"></path>\n",
              "<path d=\"M23 18h-14c-0.552 0-1-0.448-1-1s0.448-1 1-1h14c0.552 0 1 0.448 1 1s-0.448 1-1 1z\"></path>\n",
              "</symbol>\n",
              "</defs>\n",
              "</svg>\n",
              "<style>/* CSS stylesheet for displaying xarray objects in jupyterlab.\n",
              " *\n",
              " */\n",
              "\n",
              ":root {\n",
              "  --xr-font-color0: var(--jp-content-font-color0, rgba(0, 0, 0, 1));\n",
              "  --xr-font-color2: var(--jp-content-font-color2, rgba(0, 0, 0, 0.54));\n",
              "  --xr-font-color3: var(--jp-content-font-color3, rgba(0, 0, 0, 0.38));\n",
              "  --xr-border-color: var(--jp-border-color2, #e0e0e0);\n",
              "  --xr-disabled-color: var(--jp-layout-color3, #bdbdbd);\n",
              "  --xr-background-color: var(--jp-layout-color0, white);\n",
              "  --xr-background-color-row-even: var(--jp-layout-color1, white);\n",
              "  --xr-background-color-row-odd: var(--jp-layout-color2, #eeeeee);\n",
              "}\n",
              "\n",
              "html[theme=dark],\n",
              "body.vscode-dark {\n",
              "  --xr-font-color0: rgba(255, 255, 255, 1);\n",
              "  --xr-font-color2: rgba(255, 255, 255, 0.54);\n",
              "  --xr-font-color3: rgba(255, 255, 255, 0.38);\n",
              "  --xr-border-color: #1F1F1F;\n",
              "  --xr-disabled-color: #515151;\n",
              "  --xr-background-color: #111111;\n",
              "  --xr-background-color-row-even: #111111;\n",
              "  --xr-background-color-row-odd: #313131;\n",
              "}\n",
              "\n",
              ".xr-wrap {\n",
              "  display: block !important;\n",
              "  min-width: 300px;\n",
              "  max-width: 700px;\n",
              "}\n",
              "\n",
              ".xr-text-repr-fallback {\n",
              "  /* fallback to plain text repr when CSS is not injected (untrusted notebook) */\n",
              "  display: none;\n",
              "}\n",
              "\n",
              ".xr-header {\n",
              "  padding-top: 6px;\n",
              "  padding-bottom: 6px;\n",
              "  margin-bottom: 4px;\n",
              "  border-bottom: solid 1px var(--xr-border-color);\n",
              "}\n",
              "\n",
              ".xr-header > div,\n",
              ".xr-header > ul {\n",
              "  display: inline;\n",
              "  margin-top: 0;\n",
              "  margin-bottom: 0;\n",
              "}\n",
              "\n",
              ".xr-obj-type,\n",
              ".xr-array-name {\n",
              "  margin-left: 2px;\n",
              "  margin-right: 10px;\n",
              "}\n",
              "\n",
              ".xr-obj-type {\n",
              "  color: var(--xr-font-color2);\n",
              "}\n",
              "\n",
              ".xr-sections {\n",
              "  padding-left: 0 !important;\n",
              "  display: grid;\n",
              "  grid-template-columns: 150px auto auto 1fr 20px 20px;\n",
              "}\n",
              "\n",
              ".xr-section-item {\n",
              "  display: contents;\n",
              "}\n",
              "\n",
              ".xr-section-item input {\n",
              "  display: none;\n",
              "}\n",
              "\n",
              ".xr-section-item input + label {\n",
              "  color: var(--xr-disabled-color);\n",
              "}\n",
              "\n",
              ".xr-section-item input:enabled + label {\n",
              "  cursor: pointer;\n",
              "  color: var(--xr-font-color2);\n",
              "}\n",
              "\n",
              ".xr-section-item input:enabled + label:hover {\n",
              "  color: var(--xr-font-color0);\n",
              "}\n",
              "\n",
              ".xr-section-summary {\n",
              "  grid-column: 1;\n",
              "  color: var(--xr-font-color2);\n",
              "  font-weight: 500;\n",
              "}\n",
              "\n",
              ".xr-section-summary > span {\n",
              "  display: inline-block;\n",
              "  padding-left: 0.5em;\n",
              "}\n",
              "\n",
              ".xr-section-summary-in:disabled + label {\n",
              "  color: var(--xr-font-color2);\n",
              "}\n",
              "\n",
              ".xr-section-summary-in + label:before {\n",
              "  display: inline-block;\n",
              "  content: '►';\n",
              "  font-size: 11px;\n",
              "  width: 15px;\n",
              "  text-align: center;\n",
              "}\n",
              "\n",
              ".xr-section-summary-in:disabled + label:before {\n",
              "  color: var(--xr-disabled-color);\n",
              "}\n",
              "\n",
              ".xr-section-summary-in:checked + label:before {\n",
              "  content: '▼';\n",
              "}\n",
              "\n",
              ".xr-section-summary-in:checked + label > span {\n",
              "  display: none;\n",
              "}\n",
              "\n",
              ".xr-section-summary,\n",
              ".xr-section-inline-details {\n",
              "  padding-top: 4px;\n",
              "  padding-bottom: 4px;\n",
              "}\n",
              "\n",
              ".xr-section-inline-details {\n",
              "  grid-column: 2 / -1;\n",
              "}\n",
              "\n",
              ".xr-section-details {\n",
              "  display: none;\n",
              "  grid-column: 1 / -1;\n",
              "  margin-bottom: 5px;\n",
              "}\n",
              "\n",
              ".xr-section-summary-in:checked ~ .xr-section-details {\n",
              "  display: contents;\n",
              "}\n",
              "\n",
              ".xr-array-wrap {\n",
              "  grid-column: 1 / -1;\n",
              "  display: grid;\n",
              "  grid-template-columns: 20px auto;\n",
              "}\n",
              "\n",
              ".xr-array-wrap > label {\n",
              "  grid-column: 1;\n",
              "  vertical-align: top;\n",
              "}\n",
              "\n",
              ".xr-preview {\n",
              "  color: var(--xr-font-color3);\n",
              "}\n",
              "\n",
              ".xr-array-preview,\n",
              ".xr-array-data {\n",
              "  padding: 0 5px !important;\n",
              "  grid-column: 2;\n",
              "}\n",
              "\n",
              ".xr-array-data,\n",
              ".xr-array-in:checked ~ .xr-array-preview {\n",
              "  display: none;\n",
              "}\n",
              "\n",
              ".xr-array-in:checked ~ .xr-array-data,\n",
              ".xr-array-preview {\n",
              "  display: inline-block;\n",
              "}\n",
              "\n",
              ".xr-dim-list {\n",
              "  display: inline-block !important;\n",
              "  list-style: none;\n",
              "  padding: 0 !important;\n",
              "  margin: 0;\n",
              "}\n",
              "\n",
              ".xr-dim-list li {\n",
              "  display: inline-block;\n",
              "  padding: 0;\n",
              "  margin: 0;\n",
              "}\n",
              "\n",
              ".xr-dim-list:before {\n",
              "  content: '(';\n",
              "}\n",
              "\n",
              ".xr-dim-list:after {\n",
              "  content: ')';\n",
              "}\n",
              "\n",
              ".xr-dim-list li:not(:last-child):after {\n",
              "  content: ',';\n",
              "  padding-right: 5px;\n",
              "}\n",
              "\n",
              ".xr-has-index {\n",
              "  font-weight: bold;\n",
              "}\n",
              "\n",
              ".xr-var-list,\n",
              ".xr-var-item {\n",
              "  display: contents;\n",
              "}\n",
              "\n",
              ".xr-var-item > div,\n",
              ".xr-var-item label,\n",
              ".xr-var-item > .xr-var-name span {\n",
              "  background-color: var(--xr-background-color-row-even);\n",
              "  margin-bottom: 0;\n",
              "}\n",
              "\n",
              ".xr-var-item > .xr-var-name:hover span {\n",
              "  padding-right: 5px;\n",
              "}\n",
              "\n",
              ".xr-var-list > li:nth-child(odd) > div,\n",
              ".xr-var-list > li:nth-child(odd) > label,\n",
              ".xr-var-list > li:nth-child(odd) > .xr-var-name span {\n",
              "  background-color: var(--xr-background-color-row-odd);\n",
              "}\n",
              "\n",
              ".xr-var-name {\n",
              "  grid-column: 1;\n",
              "}\n",
              "\n",
              ".xr-var-dims {\n",
              "  grid-column: 2;\n",
              "}\n",
              "\n",
              ".xr-var-dtype {\n",
              "  grid-column: 3;\n",
              "  text-align: right;\n",
              "  color: var(--xr-font-color2);\n",
              "}\n",
              "\n",
              ".xr-var-preview {\n",
              "  grid-column: 4;\n",
              "}\n",
              "\n",
              ".xr-var-name,\n",
              ".xr-var-dims,\n",
              ".xr-var-dtype,\n",
              ".xr-preview,\n",
              ".xr-attrs dt {\n",
              "  white-space: nowrap;\n",
              "  overflow: hidden;\n",
              "  text-overflow: ellipsis;\n",
              "  padding-right: 10px;\n",
              "}\n",
              "\n",
              ".xr-var-name:hover,\n",
              ".xr-var-dims:hover,\n",
              ".xr-var-dtype:hover,\n",
              ".xr-attrs dt:hover {\n",
              "  overflow: visible;\n",
              "  width: auto;\n",
              "  z-index: 1;\n",
              "}\n",
              "\n",
              ".xr-var-attrs,\n",
              ".xr-var-data {\n",
              "  display: none;\n",
              "  background-color: var(--xr-background-color) !important;\n",
              "  padding-bottom: 5px !important;\n",
              "}\n",
              "\n",
              ".xr-var-attrs-in:checked ~ .xr-var-attrs,\n",
              ".xr-var-data-in:checked ~ .xr-var-data {\n",
              "  display: block;\n",
              "}\n",
              "\n",
              ".xr-var-data > table {\n",
              "  float: right;\n",
              "}\n",
              "\n",
              ".xr-var-name span,\n",
              ".xr-var-data,\n",
              ".xr-attrs {\n",
              "  padding-left: 25px !important;\n",
              "}\n",
              "\n",
              ".xr-attrs,\n",
              ".xr-var-attrs,\n",
              ".xr-var-data {\n",
              "  grid-column: 1 / -1;\n",
              "}\n",
              "\n",
              "dl.xr-attrs {\n",
              "  padding: 0;\n",
              "  margin: 0;\n",
              "  display: grid;\n",
              "  grid-template-columns: 125px auto;\n",
              "}\n",
              "\n",
              ".xr-attrs dt,\n",
              ".xr-attrs dd {\n",
              "  padding: 0;\n",
              "  margin: 0;\n",
              "  float: left;\n",
              "  padding-right: 10px;\n",
              "  width: auto;\n",
              "}\n",
              "\n",
              ".xr-attrs dt {\n",
              "  font-weight: normal;\n",
              "  grid-column: 1;\n",
              "}\n",
              "\n",
              ".xr-attrs dt:hover span {\n",
              "  display: inline-block;\n",
              "  background: var(--xr-background-color);\n",
              "  padding-right: 10px;\n",
              "}\n",
              "\n",
              ".xr-attrs dd {\n",
              "  grid-column: 2;\n",
              "  white-space: pre-wrap;\n",
              "  word-break: break-all;\n",
              "}\n",
              "\n",
              ".xr-icon-database,\n",
              ".xr-icon-file-text2 {\n",
              "  display: inline-block;\n",
              "  vertical-align: middle;\n",
              "  width: 1em;\n",
              "  height: 1.5em !important;\n",
              "  stroke-width: 0;\n",
              "  stroke: currentColor;\n",
              "  fill: currentColor;\n",
              "}\n",
              "</style><pre class='xr-text-repr-fallback'>&lt;xarray.Dataset&gt;\n",
              "Dimensions:       (epoch: 1, lon: 510, lat: 408)\n",
              "Coordinates:\n",
              "  * epoch         (epoch) int64 0\n",
              "  * lon           (lon) float64 30.2 30.2 30.2 30.21 ... 31.19 31.2 31.2 31.2\n",
              "  * lat           (lat) float64 29.7 29.7 29.7 29.69 ... 28.91 28.9 28.9 28.9\n",
              "    epoch_starts  (epoch) datetime64[ns] 2021-07-01\n",
              "    epoch_ends    (epoch) datetime64[ns] 2021-07-11\n",
              "Data variables:\n",
              "    se_root       (epoch, lat, lon) float32 ...\n",
              "    int_mm        (epoch, lat, lon) float64 ...\n",
              "    t_24_mm       (epoch, lat, lon) float64 ...\n",
              "    e_24_mm       (epoch, lat, lon) float64 ...\n",
              "    et_24_mm      (epoch, lat, lon) float64 ...\n",
              "    et_ref_24_mm  (epoch, lat, lon) float64 ...\n",
              "Attributes:\n",
              "    geotransform:  [ 3.01984737e+01  1.96536998e-03  0.00000000e+00  2.970126...\n",
              "    projection:    GEOGCS[&quot;WGS 84&quot;,DATUM[&quot;WGS_1984&quot;,SPHEROID[&quot;WGS 84&quot;,6378137...\n",
              "    pixel_size:    204.5582318379489\n",
              "    example_file:  /Users/hmcoerver/pywapor_notebooks/RAW/MODIS/MOD13/NDVI_MO...</pre><div class='xr-wrap' style='display:none'><div class='xr-header'><div class='xr-obj-type'>xarray.Dataset</div></div><ul class='xr-sections'><li class='xr-section-item'><input id='section-3b5a0756-210c-4686-b925-4c4f4f13e143' class='xr-section-summary-in' type='checkbox' disabled ><label for='section-3b5a0756-210c-4686-b925-4c4f4f13e143' class='xr-section-summary'  title='Expand/collapse section'>Dimensions:</label><div class='xr-section-inline-details'><ul class='xr-dim-list'><li><span class='xr-has-index'>epoch</span>: 1</li><li><span class='xr-has-index'>lon</span>: 510</li><li><span class='xr-has-index'>lat</span>: 408</li></ul></div><div class='xr-section-details'></div></li><li class='xr-section-item'><input id='section-c8e32be5-f1d3-474d-9aca-304172837c55' class='xr-section-summary-in' type='checkbox'  checked><label for='section-c8e32be5-f1d3-474d-9aca-304172837c55' class='xr-section-summary' >Coordinates: <span>(5)</span></label><div class='xr-section-inline-details'></div><div class='xr-section-details'><ul class='xr-var-list'><li class='xr-var-item'><div class='xr-var-name'><span class='xr-has-index'>epoch</span></div><div class='xr-var-dims'>(epoch)</div><div class='xr-var-dtype'>int64</div><div class='xr-var-preview xr-preview'>0</div><input id='attrs-49768993-39ef-4ca8-8d0f-37a9533c954c' class='xr-var-attrs-in' type='checkbox' disabled><label for='attrs-49768993-39ef-4ca8-8d0f-37a9533c954c' title='Show/Hide attributes'><svg class='icon xr-icon-file-text2'><use xlink:href='#icon-file-text2'></use></svg></label><input id='data-02bca91e-b2f5-45df-a5c4-7056096c6320' class='xr-var-data-in' type='checkbox'><label for='data-02bca91e-b2f5-45df-a5c4-7056096c6320' title='Show/Hide data repr'><svg class='icon xr-icon-database'><use xlink:href='#icon-database'></use></svg></label><div class='xr-var-attrs'><dl class='xr-attrs'></dl></div><div class='xr-var-data'><pre>array([0])</pre></div></li><li class='xr-var-item'><div class='xr-var-name'><span class='xr-has-index'>lon</span></div><div class='xr-var-dims'>(lon)</div><div class='xr-var-dtype'>float64</div><div class='xr-var-preview xr-preview'>30.2 30.2 30.2 ... 31.2 31.2 31.2</div><input id='attrs-4e80ec3f-a5b2-489a-834f-a935c25c0188' class='xr-var-attrs-in' type='checkbox' ><label for='attrs-4e80ec3f-a5b2-489a-834f-a935c25c0188' title='Show/Hide attributes'><svg class='icon xr-icon-file-text2'><use xlink:href='#icon-file-text2'></use></svg></label><input id='data-7ae237fb-cf47-43a3-bd90-cc51cde3c61a' class='xr-var-data-in' type='checkbox'><label for='data-7ae237fb-cf47-43a3-bd90-cc51cde3c61a' title='Show/Hide data repr'><svg class='icon xr-icon-database'><use xlink:href='#icon-database'></use></svg></label><div class='xr-var-attrs'><dl class='xr-attrs'><dt><span>long_name :</span></dt><dd>Longitude</dd><dt><span>units :</span></dt><dd>degrees</dd></dl></div><div class='xr-var-data'><pre>array([30.199456, 30.201422, 30.203387, ..., 31.195899, 31.197864, 31.19983 ])</pre></div></li><li class='xr-var-item'><div class='xr-var-name'><span class='xr-has-index'>lat</span></div><div class='xr-var-dims'>(lat)</div><div class='xr-var-dtype'>float64</div><div class='xr-var-preview xr-preview'>29.7 29.7 29.7 ... 28.9 28.9 28.9</div><input id='attrs-6daff3ad-bca3-4921-a70a-bb17150c5a14' class='xr-var-attrs-in' type='checkbox' ><label for='attrs-6daff3ad-bca3-4921-a70a-bb17150c5a14' title='Show/Hide attributes'><svg class='icon xr-icon-file-text2'><use xlink:href='#icon-file-text2'></use></svg></label><input id='data-2c8fd100-9eb4-4f75-93fb-2a512490231f' class='xr-var-data-in' type='checkbox'><label for='data-2c8fd100-9eb4-4f75-93fb-2a512490231f' title='Show/Hide data repr'><svg class='icon xr-icon-database'><use xlink:href='#icon-database'></use></svg></label><div class='xr-var-attrs'><dl class='xr-attrs'><dt><span>long_name :</span></dt><dd>Latitude</dd><dt><span>units :</span></dt><dd>degrees</dd></dl></div><div class='xr-var-data'><pre>array([29.700281, 29.698316, 29.69635 , ..., 28.904306, 28.902341, 28.900375])</pre></div></li><li class='xr-var-item'><div class='xr-var-name'><span>epoch_starts</span></div><div class='xr-var-dims'>(epoch)</div><div class='xr-var-dtype'>datetime64[ns]</div><div class='xr-var-preview xr-preview'>...</div><input id='attrs-ad02a34d-2b6f-4f4e-904e-f03d6e2198f9' class='xr-var-attrs-in' type='checkbox' disabled><label for='attrs-ad02a34d-2b6f-4f4e-904e-f03d6e2198f9' title='Show/Hide attributes'><svg class='icon xr-icon-file-text2'><use xlink:href='#icon-file-text2'></use></svg></label><input id='data-a0257505-78df-4711-b1b1-71fd346c4222' class='xr-var-data-in' type='checkbox'><label for='data-a0257505-78df-4711-b1b1-71fd346c4222' title='Show/Hide data repr'><svg class='icon xr-icon-database'><use xlink:href='#icon-database'></use></svg></label><div class='xr-var-attrs'><dl class='xr-attrs'></dl></div><div class='xr-var-data'><pre>array([&#x27;2021-07-01T00:00:00.000000000&#x27;], dtype=&#x27;datetime64[ns]&#x27;)</pre></div></li><li class='xr-var-item'><div class='xr-var-name'><span>epoch_ends</span></div><div class='xr-var-dims'>(epoch)</div><div class='xr-var-dtype'>datetime64[ns]</div><div class='xr-var-preview xr-preview'>...</div><input id='attrs-8e2ecf9a-958c-49eb-adb5-c3caad964f88' class='xr-var-attrs-in' type='checkbox' disabled><label for='attrs-8e2ecf9a-958c-49eb-adb5-c3caad964f88' title='Show/Hide attributes'><svg class='icon xr-icon-file-text2'><use xlink:href='#icon-file-text2'></use></svg></label><input id='data-77af8dd6-c75d-4d8a-852f-e910faefb2e7' class='xr-var-data-in' type='checkbox'><label for='data-77af8dd6-c75d-4d8a-852f-e910faefb2e7' title='Show/Hide data repr'><svg class='icon xr-icon-database'><use xlink:href='#icon-database'></use></svg></label><div class='xr-var-attrs'><dl class='xr-attrs'></dl></div><div class='xr-var-data'><pre>array([&#x27;2021-07-11T00:00:00.000000000&#x27;], dtype=&#x27;datetime64[ns]&#x27;)</pre></div></li></ul></div></li><li class='xr-section-item'><input id='section-4ef2b65e-15e3-4af5-8038-bce0f138c4ae' class='xr-section-summary-in' type='checkbox'  checked><label for='section-4ef2b65e-15e3-4af5-8038-bce0f138c4ae' class='xr-section-summary' >Data variables: <span>(6)</span></label><div class='xr-section-inline-details'></div><div class='xr-section-details'><ul class='xr-var-list'><li class='xr-var-item'><div class='xr-var-name'><span>se_root</span></div><div class='xr-var-dims'>(epoch, lat, lon)</div><div class='xr-var-dtype'>float32</div><div class='xr-var-preview xr-preview'>...</div><input id='attrs-a0ddc5a7-1960-4650-9153-d076cd6df388' class='xr-var-attrs-in' type='checkbox' ><label for='attrs-a0ddc5a7-1960-4650-9153-d076cd6df388' title='Show/Hide attributes'><svg class='icon xr-icon-file-text2'><use xlink:href='#icon-file-text2'></use></svg></label><input id='data-c29e2d02-0f9c-4177-96d0-a5469562f657' class='xr-var-data-in' type='checkbox'><label for='data-c29e2d02-0f9c-4177-96d0-a5469562f657' title='Show/Hide data repr'><svg class='icon xr-icon-database'><use xlink:href='#icon-database'></use></svg></label><div class='xr-var-attrs'><dl class='xr-attrs'><dt><span>sources :</span></dt><dd>-</dd><dt><span>long_name :</span></dt><dd>Relative root zone soil moisture</dd><dt><span>units :</span></dt><dd>-</dd></dl></div><div class='xr-var-data'><pre>[208080 values with dtype=float32]</pre></div></li><li class='xr-var-item'><div class='xr-var-name'><span>int_mm</span></div><div class='xr-var-dims'>(epoch, lat, lon)</div><div class='xr-var-dtype'>float64</div><div class='xr-var-preview xr-preview'>...</div><input id='attrs-74dbff28-0542-427e-a1e0-295a49f3d840' class='xr-var-attrs-in' type='checkbox' ><label for='attrs-74dbff28-0542-427e-a1e0-295a49f3d840' title='Show/Hide attributes'><svg class='icon xr-icon-file-text2'><use xlink:href='#icon-file-text2'></use></svg></label><input id='data-7d8f0606-08a2-4ecd-9c23-c217f7bf97ff' class='xr-var-data-in' type='checkbox'><label for='data-7d8f0606-08a2-4ecd-9c23-c217f7bf97ff' title='Show/Hide data repr'><svg class='icon xr-icon-database'><use xlink:href='#icon-database'></use></svg></label><div class='xr-var-attrs'><dl class='xr-attrs'><dt><span>long_name :</span></dt><dd>Interception</dd><dt><span>units :</span></dt><dd>mm day-1</dd></dl></div><div class='xr-var-data'><pre>[208080 values with dtype=float64]</pre></div></li><li class='xr-var-item'><div class='xr-var-name'><span>t_24_mm</span></div><div class='xr-var-dims'>(epoch, lat, lon)</div><div class='xr-var-dtype'>float64</div><div class='xr-var-preview xr-preview'>...</div><input id='attrs-17d56bcb-7194-4095-91c6-943d9de5fde1' class='xr-var-attrs-in' type='checkbox' ><label for='attrs-17d56bcb-7194-4095-91c6-943d9de5fde1' title='Show/Hide attributes'><svg class='icon xr-icon-file-text2'><use xlink:href='#icon-file-text2'></use></svg></label><input id='data-759a29f3-0d52-431e-8a2b-ada8728ba8ba' class='xr-var-data-in' type='checkbox'><label for='data-759a29f3-0d52-431e-8a2b-ada8728ba8ba' title='Show/Hide data repr'><svg class='icon xr-icon-database'><use xlink:href='#icon-database'></use></svg></label><div class='xr-var-attrs'><dl class='xr-attrs'><dt><span>long_name :</span></dt><dd>Daily transpiration in mm</dd><dt><span>units :</span></dt><dd>mm day-1</dd></dl></div><div class='xr-var-data'><pre>[208080 values with dtype=float64]</pre></div></li><li class='xr-var-item'><div class='xr-var-name'><span>e_24_mm</span></div><div class='xr-var-dims'>(epoch, lat, lon)</div><div class='xr-var-dtype'>float64</div><div class='xr-var-preview xr-preview'>...</div><input id='attrs-a6352879-9001-4b5a-882a-aa14e4b7e397' class='xr-var-attrs-in' type='checkbox' ><label for='attrs-a6352879-9001-4b5a-882a-aa14e4b7e397' title='Show/Hide attributes'><svg class='icon xr-icon-file-text2'><use xlink:href='#icon-file-text2'></use></svg></label><input id='data-8ce17cb0-da93-4f81-8c0b-0209fb6a4cc9' class='xr-var-data-in' type='checkbox'><label for='data-8ce17cb0-da93-4f81-8c0b-0209fb6a4cc9' title='Show/Hide data repr'><svg class='icon xr-icon-database'><use xlink:href='#icon-database'></use></svg></label><div class='xr-var-attrs'><dl class='xr-attrs'><dt><span>long_name :</span></dt><dd>Daily evaporation in mm</dd><dt><span>units :</span></dt><dd>mm day-1</dd></dl></div><div class='xr-var-data'><pre>[208080 values with dtype=float64]</pre></div></li><li class='xr-var-item'><div class='xr-var-name'><span>et_24_mm</span></div><div class='xr-var-dims'>(epoch, lat, lon)</div><div class='xr-var-dtype'>float64</div><div class='xr-var-preview xr-preview'>...</div><input id='attrs-cd451860-1a2b-4618-987f-9584af0d87fe' class='xr-var-attrs-in' type='checkbox' ><label for='attrs-cd451860-1a2b-4618-987f-9584af0d87fe' title='Show/Hide attributes'><svg class='icon xr-icon-file-text2'><use xlink:href='#icon-file-text2'></use></svg></label><input id='data-cd993caa-23cd-4535-90fb-83b19138b952' class='xr-var-data-in' type='checkbox'><label for='data-cd993caa-23cd-4535-90fb-83b19138b952' title='Show/Hide data repr'><svg class='icon xr-icon-database'><use xlink:href='#icon-database'></use></svg></label><div class='xr-var-attrs'><dl class='xr-attrs'><dt><span>long_name :</span></dt><dd>Daily evapotranspiration in mm</dd><dt><span>units :</span></dt><dd>mm day-1</dd></dl></div><div class='xr-var-data'><pre>[208080 values with dtype=float64]</pre></div></li><li class='xr-var-item'><div class='xr-var-name'><span>et_ref_24_mm</span></div><div class='xr-var-dims'>(epoch, lat, lon)</div><div class='xr-var-dtype'>float64</div><div class='xr-var-preview xr-preview'>...</div><input id='attrs-b35e8409-58bb-4fcd-8a4d-ebdfc410e651' class='xr-var-attrs-in' type='checkbox' ><label for='attrs-b35e8409-58bb-4fcd-8a4d-ebdfc410e651' title='Show/Hide attributes'><svg class='icon xr-icon-file-text2'><use xlink:href='#icon-file-text2'></use></svg></label><input id='data-91808bd2-c449-48eb-a81f-ab4760235204' class='xr-var-data-in' type='checkbox'><label for='data-91808bd2-c449-48eb-a81f-ab4760235204' title='Show/Hide data repr'><svg class='icon xr-icon-database'><use xlink:href='#icon-database'></use></svg></label><div class='xr-var-attrs'><dl class='xr-attrs'><dt><span>long_name :</span></dt><dd>Reference evapotranspiration (well watered grass)</dd><dt><span>units :</span></dt><dd>mm day-1</dd></dl></div><div class='xr-var-data'><pre>[208080 values with dtype=float64]</pre></div></li></ul></div></li><li class='xr-section-item'><input id='section-84884d1c-70be-4299-9485-5c2175b99649' class='xr-section-summary-in' type='checkbox'  checked><label for='section-84884d1c-70be-4299-9485-5c2175b99649' class='xr-section-summary' >Attributes: <span>(4)</span></label><div class='xr-section-inline-details'></div><div class='xr-section-details'><dl class='xr-attrs'><dt><span>geotransform :</span></dt><dd>[ 3.01984737e+01  1.96536998e-03  0.00000000e+00  2.97012638e+01\n",
              "  0.00000000e+00 -1.96536998e-03]</dd><dt><span>projection :</span></dt><dd>GEOGCS[&quot;WGS 84&quot;,DATUM[&quot;WGS_1984&quot;,SPHEROID[&quot;WGS 84&quot;,6378137,298.257223563,AUTHORITY[&quot;EPSG&quot;,&quot;7030&quot;]],AUTHORITY[&quot;EPSG&quot;,&quot;6326&quot;]],PRIMEM[&quot;Greenwich&quot;,0],UNIT[&quot;degree&quot;,0.0174532925199433,AUTHORITY[&quot;EPSG&quot;,&quot;9122&quot;]],AXIS[&quot;Latitude&quot;,NORTH],AXIS[&quot;Longitude&quot;,EAST],AUTHORITY[&quot;EPSG&quot;,&quot;4326&quot;]]</dd><dt><span>pixel_size :</span></dt><dd>204.5582318379489</dd><dt><span>example_file :</span></dt><dd>/Users/hmcoerver/pywapor_notebooks/RAW/MODIS/MOD13/NDVI_MOD13Q1_-_16-daily_2021.06.26.tif</dd></dl></div></li></ul></div></div>"
            ],
            "text/plain": [
              "<xarray.Dataset>\n",
              "Dimensions:       (epoch: 1, lon: 510, lat: 408)\n",
              "Coordinates:\n",
              "  * epoch         (epoch) int64 0\n",
              "  * lon           (lon) float64 30.2 30.2 30.2 30.21 ... 31.19 31.2 31.2 31.2\n",
              "  * lat           (lat) float64 29.7 29.7 29.7 29.69 ... 28.91 28.9 28.9 28.9\n",
              "    epoch_starts  (epoch) datetime64[ns] ...\n",
              "    epoch_ends    (epoch) datetime64[ns] ...\n",
              "Data variables:\n",
              "    se_root       (epoch, lat, lon) float32 ...\n",
              "    int_mm        (epoch, lat, lon) float64 ...\n",
              "    t_24_mm       (epoch, lat, lon) float64 ...\n",
              "    e_24_mm       (epoch, lat, lon) float64 ...\n",
              "    et_24_mm      (epoch, lat, lon) float64 ...\n",
              "    et_ref_24_mm  (epoch, lat, lon) float64 ...\n",
              "Attributes:\n",
              "    geotransform:  [ 3.01984737e+01  1.96536998e-03  0.00000000e+00  2.970126...\n",
              "    projection:    GEOGCS[\"WGS 84\",DATUM[\"WGS_1984\",SPHEROID[\"WGS 84\",6378137...\n",
              "    pixel_size:    204.5582318379489\n",
              "    example_file:  /Users/hmcoerver/pywapor_notebooks/RAW/MODIS/MOD13/NDVI_MO..."
            ]
          },
          "execution_count": 12,
          "metadata": {},
          "output_type": "execute_result"
        }
      ],
      "source": [
        "ds"
      ]
    },
    {
      "cell_type": "markdown",
      "metadata": {},
      "source": [
        "As you can see, the `Dimensions` and `Attributes` parts are the same. The `Data variables` however, now contain our output variables. We can plot them in the same way as we did with the input dataset."
      ]
    },
    {
      "cell_type": "code",
      "execution_count": 13,
      "metadata": {},
      "outputs": [
        {
          "data": {
            "text/plain": [
              "<matplotlib.collections.QuadMesh at 0x1665e0100>"
            ]
          },
          "execution_count": 13,
          "metadata": {},
          "output_type": "execute_result"
        }
      ],
      "source": [
        "ds.et_24_mm.isel(epoch = 0).plot()"
      ]
    },
    {
      "cell_type": "markdown",
      "metadata": {
        "id": "PCBZks2RM4pt"
      },
      "source": [
        "If you want to do some calulcations with the data, you can get easily get a numpy-array (e.g. for et_24_mm)."
      ]
    },
    {
      "cell_type": "code",
      "execution_count": 14,
      "metadata": {},
      "outputs": [
        {
          "name": "stdout",
          "output_type": "stream",
          "text": [
            "resolution: (408, 510)\n",
            "total pixels: 208080\n",
            "number of pixels with missing data: 143\n",
            "maximum value: 9.60\n",
            "minimum value: 0.05\n",
            "mean: 2.04\n",
            "median: 0.39\n"
          ]
        }
      ],
      "source": [
        "import numpy as np\n",
        "\n",
        "et_data = ds.et_24_mm.isel(epoch = 0).values\n",
        "\n",
        "print(\"resolution:\", et_data.shape)\n",
        "print(\"total pixels:\", et_data.size)\n",
        "print(\"number of pixels with missing data:\", np.sum(np.isnan(et_data)))\n",
        "print(\"maximum value: {0:.2f}\".format(np.nanmax(et_data)))\n",
        "print(\"minimum value: {0:.2f}\".format(np.nanmin(et_data)))\n",
        "print(\"mean: {0:.2f}\".format(np.nanmean(et_data)))\n",
        "print(\"median: {0:.2f}\".format(np.nanmedian(et_data)))"
      ]
    },
    {
      "cell_type": "markdown",
      "metadata": {},
      "source": [
        "As we could see, the output dataset only contained 6 variables. If you'd want to output all the variables that ET_Look calculated however, you could run `pywapor.et_look.main` like this."
      ]
    },
    {
      "cell_type": "code",
      "execution_count": 15,
      "metadata": {},
      "outputs": [
        {
          "name": "stdout",
          "output_type": "stream",
          "text": [
            "--> Running ETLook_v2\n"
          ]
        },
        {
          "name": "stderr",
          "output_type": "stream",
          "text": [
            "--> Saving outputs.\n"
          ]
        }
      ],
      "source": [
        "ds = pywapor.et_look.main(fh, export_vars = \"all\")"
      ]
    },
    {
      "cell_type": "markdown",
      "metadata": {},
      "source": [
        "Now `ds` contains all the variables calculated by ET_Look."
      ]
    },
    {
      "cell_type": "code",
      "execution_count": 16,
      "metadata": {},
      "outputs": [
        {
          "data": {
            "text/plain": [
              "['epoch',\n",
              " 'lon',\n",
              " 'lat',\n",
              " 'ndvi',\n",
              " 'epoch_starts',\n",
              " 'epoch_ends',\n",
              " 'p_24',\n",
              " 'se_root',\n",
              " 'r0',\n",
              " 'z',\n",
              " 'land_mask',\n",
              " 'rs_min',\n",
              " 'lue_max',\n",
              " 'z_obst_max',\n",
              " 'ra_24',\n",
              " 't_air_24',\n",
              " 't_air_min_24',\n",
              " 't_air_max_24',\n",
              " 'u2m_24',\n",
              " 'v2m_24',\n",
              " 'p_air_0_24',\n",
              " 'qv_24',\n",
              " 'lw_offset',\n",
              " 'lw_slope',\n",
              " 'r0_bare',\n",
              " 'r0_full',\n",
              " 'rn_offset',\n",
              " 'rn_slope',\n",
              " 't_amp_year',\n",
              " 't_opt',\n",
              " 'vpd_slope',\n",
              " 'z_oro',\n",
              " 't_diff',\n",
              " 'slope',\n",
              " 'aspect',\n",
              " 'lat_deg',\n",
              " 'lon_deg',\n",
              " 'u_24',\n",
              " 'doy',\n",
              " 'sc',\n",
              " 'decl',\n",
              " 'iesd',\n",
              " 'vc',\n",
              " 'lai',\n",
              " 'lai_eff',\n",
              " 'sf_soil',\n",
              " 'lat_rad',\n",
              " 'ws',\n",
              " 'ra_24_toa_flat',\n",
              " 'trans_24',\n",
              " 'stress_rad',\n",
              " 'p_air_24',\n",
              " 'vp_24',\n",
              " 'svp_24',\n",
              " 'vpd_24',\n",
              " 'stress_vpd',\n",
              " 'stress_temp',\n",
              " 'r_canopy_0',\n",
              " 't_air_k_24',\n",
              " 'l_net',\n",
              " 'int_mm',\n",
              " 'lh_24',\n",
              " 'int_wm2',\n",
              " 'rn_24',\n",
              " 'rn_24_canopy',\n",
              " 'stress_moist',\n",
              " 'r_canopy',\n",
              " 'z_obst',\n",
              " 'z0m',\n",
              " 'ra_canopy_init',\n",
              " 'u_b_24',\n",
              " 'ad_dry_24',\n",
              " 'ad_moist_24',\n",
              " 'ad_24',\n",
              " 'psy_24',\n",
              " 'ssvp_24',\n",
              " 't_24_init',\n",
              " 'h_canopy_24_init',\n",
              " 'disp',\n",
              " 'u_star_24_init',\n",
              " 't_24',\n",
              " 't_24_mm',\n",
              " 'rn_24_soil',\n",
              " 'r_soil',\n",
              " 'ra_soil_init',\n",
              " 'u_star_24_soil_init',\n",
              " 'stc',\n",
              " 'vhc',\n",
              " 'dd',\n",
              " 'g0_bs',\n",
              " 'g0_24',\n",
              " 'e_24_init',\n",
              " 'h_soil_24_init',\n",
              " 'e_24',\n",
              " 'e_24_mm',\n",
              " 'et_24_mm',\n",
              " 'rn_24_grass',\n",
              " 'et_ref_24',\n",
              " 'et_ref_24_mm']"
            ]
          },
          "execution_count": 16,
          "metadata": {},
          "output_type": "execute_result"
        }
      ],
      "source": [
        "list(ds.variables)"
      ]
    },
    {
      "cell_type": "markdown",
      "metadata": {},
      "source": [
        "Finally, if you'd want to export the data to GeoTIFFS instead of netCDF, you could do the following."
      ]
    },
    {
      "cell_type": "code",
      "execution_count": 17,
      "metadata": {},
      "outputs": [
        {
          "name": "stdout",
          "output_type": "stream",
          "text": [
            "--> Running ETLook_v2\n"
          ]
        },
        {
          "name": "stderr",
          "output_type": "stream",
          "text": [
            "--> Saving outputs.\n"
          ]
        }
      ],
      "source": [
        "files = pywapor.et_look.main(fh, export_to_tif = True)"
      ]
    },
    {
      "cell_type": "markdown",
      "metadata": {},
      "source": [
        "The variable `files` is a dictionary with the paths to the respective tif-files."
      ]
    },
    {
      "cell_type": "code",
      "execution_count": 18,
      "metadata": {},
      "outputs": [
        {
          "data": {
            "text/plain": [
              "{'int_mm': ['/Users/hmcoerver/pywapor_notebooks/level_1/int_mm_output/int-mm_-_-_10_2021.07.01.tif'],\n",
              " 't_24_mm': ['/Users/hmcoerver/pywapor_notebooks/level_1/t_24_mm_output/t-24-mm_-_-_10_2021.07.01.tif'],\n",
              " 'e_24_mm': ['/Users/hmcoerver/pywapor_notebooks/level_1/e_24_mm_output/e-24-mm_-_-_10_2021.07.01.tif'],\n",
              " 'et_24_mm': ['/Users/hmcoerver/pywapor_notebooks/level_1/et_24_mm_output/et-24-mm_-_-_10_2021.07.01.tif'],\n",
              " 'et_ref_24_mm': ['/Users/hmcoerver/pywapor_notebooks/level_1/et_ref_24_mm_output/et-ref-24-mm_-_-_10_2021.07.01.tif'],\n",
              " 'se_root': ['/Users/hmcoerver/pywapor_notebooks/level_1/se_root_output/se-root_-_-_10_2021.07.01.tif']}"
            ]
          },
          "execution_count": 18,
          "metadata": {},
          "output_type": "execute_result"
        }
      ],
      "source": [
        "files"
      ]
    }
  ],
  "metadata": {
    "colab": {
      "collapsed_sections": [],
      "name": "pywapor_101.ipynb",
      "provenance": [],
      "toc_visible": true
    },
    "interpreter": {
      "hash": "f85bfb788a8c687938d52f45e0b3b96852f22966903f9a0a715c418e604f4599"
    },
    "kernelspec": {
      "display_name": "Python 3.9.9 64-bit ('test_a': conda)",
      "name": "python3"
    },
    "language_info": {
      "codemirror_mode": {
        "name": "ipython",
        "version": 3
      },
      "file_extension": ".py",
      "mimetype": "text/x-python",
      "name": "python",
      "nbconvert_exporter": "python",
      "pygments_lexer": "ipython3",
      "version": "3.9.9"
    }
  },
  "nbformat": 4,
  "nbformat_minor": 0
}
