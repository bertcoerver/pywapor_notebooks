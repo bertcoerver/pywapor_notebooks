{
 "cells": [
  {
   "cell_type": "markdown",
   "metadata": {},
   "source": [
    "#### Notebooks\n",
    "|  | Name | Duration* |\n",
    "| ------ | ------ | ------ |\n",
    "| 1. | [Introduction](https://colab.research.google.com/github/bertcoerver/pywapor_notebooks/blob/main/pywapor_101.ipynb) | 10 + 30 |\n",
    "| 2. | [Levels](https://colab.research.google.com/github/bertcoerver/pywapor_notebooks/blob/main/levels.ipynb) | 10 + 120 |\n",
    "| 3. | [Composites](https://colab.research.google.com/github/bertcoerver/pywapor_notebooks/blob/main/composites.ipynb) | 10 + 10 |\n",
    "| 4. | **pyWaPOR vs. WaPOR** | 10 + 30 |\n",
    "| 5. | Soil Saturation | > Coming Soon < |\n",
    "\n",
    "\\* Estimation of the time required in minutes, as in \"active\" + \"download time\". \n",
    "\n",
    "\\* Also note that running the different notebooks on the same instance (or your own computer), will save you a lot of \"download time\" because the downloaded data can be reused between the notebooks."
   ]
  },
  {
   "cell_type": "markdown",
   "metadata": {},
   "source": [
    "# pyWaPOR vs. WaPOR\n",
    "\n",
    "In this notebook we'll make an comparison between dekadal Evapotranspiration data from WaPOR and from pyWaPOR."
   ]
  },
  {
   "cell_type": "markdown",
   "metadata": {},
   "source": [
    "First we install pywapor, in case it's not installed yet."
   ]
  },
  {
   "cell_type": "code",
   "execution_count": null,
   "metadata": {},
   "outputs": [],
   "source": [
    "!pip install pywapor==2.3.2 --quiet"
   ]
  },
  {
   "cell_type": "markdown",
   "metadata": {},
   "source": [
    "Next we'll define a couple of basic variables, which were explained in the introduction notebook."
   ]
  },
  {
   "cell_type": "code",
   "execution_count": null,
   "metadata": {},
   "outputs": [],
   "source": [
    "import pywapor\n",
    "\n",
    "project_folder = r\"/Users/hmcoerver/On My Mac/pyWAPOR/example_data\"\n",
    "latlim = [28.9, 29.7]\n",
    "lonlim = [30.2, 31.2]\n",
    "startdate = \"2021-07-01\"\n",
    "enddate = \"2021-07-11\""
   ]
  },
  {
   "cell_type": "markdown",
   "metadata": {},
   "source": [
    "Then we run `pre_et_look`, to generate an ET map for the first dekad of July 2021. If you already ran another notebook on this instance, you should already have all the data in your RAW folder and this should take only a few minutes."
   ]
  },
  {
   "cell_type": "code",
   "execution_count": null,
   "metadata": {},
   "outputs": [],
   "source": [
    "pre_files = pywapor.pre_et_look.main(project_folder, startdate, enddate, latlim, lonlim)"
   ]
  },
  {
   "cell_type": "markdown",
   "metadata": {},
   "source": [
    "Then we run `et_look`. In order to get a good match with WaPOR we'll adjust some of the default constants used by pyWaPOR. The WaPOR dataset is generated with different values for these constants per region, see the WaPOR documentation for more information."
   ]
  },
  {
   "cell_type": "code",
   "execution_count": null,
   "metadata": {},
   "outputs": [],
   "source": [
    "input_data = {\n",
    "                \"lw_offset\": -4.7,\n",
    "                \"lw_slope\":  6.94,\n",
    "                \"r0_bare\":   0.2650,\n",
    "                \"r0_full\":   0.2540,\n",
    "                \"rn_offset\": -210.774,\n",
    "                \"rn_slope\":  1.394, \n",
    "                \"t_opt\":     23.097,\n",
    "                \"vpd_slope\": -0.3,\n",
    "}\n",
    "\n",
    "pywapor_files = pywapor.et_look.main(project_folder, startdate, input_data = input_data)\n",
    "\n",
    "pywapor_file = pywapor_files[\"et_24_mm\"]"
   ]
  },
  {
   "cell_type": "markdown",
   "metadata": {},
   "source": [
    "Now that we have the pyWaPOR ET map, we still need the WaPOR map in order to make a comparison. We can download it like this."
   ]
  },
  {
   "cell_type": "code",
   "execution_count": null,
   "metadata": {},
   "outputs": [],
   "source": [
    "import os\n",
    "\n",
    "raw_folder = os.path.join(project_folder, \"RAW\")\n",
    "dl_args = (raw_folder, latlim, lonlim, startdate, enddate, \"L1_AETI_D\")\n",
    "\n",
    "wapor_file = pywapor.collect.WAPOR.Get_Layer(*dl_args)[0]"
   ]
  },
  {
   "cell_type": "markdown",
   "metadata": {},
   "source": [
    "For the rest of this notebook we'll work on comparing the values within these two geoTIFFs."
   ]
  },
  {
   "cell_type": "code",
   "execution_count": null,
   "metadata": {},
   "outputs": [],
   "source": [
    "print(f\"wapor_file  : {os.path.split(wapor_file)[-1]}\")\n",
    "print(f\"pywapor_file: {os.path.split(pywapor_file)[-1]}\")"
   ]
  },
  {
   "cell_type": "markdown",
   "metadata": {},
   "source": [
    "We start by opening the data and comparing some basic information. From the geotransforms of the geoTIFFs we can see that the pixel sizes are similar, but not identical. Furthermore, the number of pixels is unequal as well."
   ]
  },
  {
   "cell_type": "code",
   "execution_count": null,
   "metadata": {},
   "outputs": [],
   "source": [
    "wapor_data = pywapor.general.processing_functions.open_as_array(wapor_file)\n",
    "wapor_geot = pywapor.general.processing_functions.get_geoinfo(wapor_file)[0]\n",
    "\n",
    "pywapor_data = pywapor.general.processing_functions.open_as_array(pywapor_file)\n",
    "pywapor_geot = pywapor.general.processing_functions.get_geoinfo(pywapor_file)[0]\n",
    "\n",
    "print(f\"pixel_size pywapor  : {pywapor_geot[1]:.4f}\")\n",
    "print(f\"pixel_size wapor    : {wapor_geot[1]:.4f}\")\n",
    "print(f\"array_shape pywapor : {pywapor_data.shape}\")\n",
    "print(f\"array_shape wapor   : {wapor_data.shape}\")"
   ]
  },
  {
   "cell_type": "markdown",
   "metadata": {},
   "source": [
    "We'll have to do something about these differences, but let's first create some maps to get a better idea of what we are dealing with."
   ]
  },
  {
   "cell_type": "code",
   "execution_count": null,
   "metadata": {},
   "outputs": [],
   "source": [
    "import matplotlib.pyplot as plt\n",
    "\n",
    "fig = plt.figure(1)\n",
    "fig.clf()\n",
    "fig.set_size_inches(9.69, 5.27)\n",
    "axs = fig.subplots(1, 2, sharex=False, sharey=False).flatten()\n",
    "\n",
    "pywapor.post_et_look.plot_img(axs[0], pywapor_data, \"pywapor\", \"ET [mm/day]\")\n",
    "pywapor.post_et_look.plot_img(axs[1], wapor_data, \"wapor\", \"ET [mm/day]\")"
   ]
  },
  {
   "cell_type": "markdown",
   "metadata": {},
   "source": [
    "You'll see that the spatial extent of the WaPOR geoTIFF is larger than pyWaPORs, e.g. clearly a larger part of the Nile delta is visible on the WaPOR map. This shouldn't be a surprise though, as we've just seen that (1) the WaPOR pixels are larger and (2) the WaPOR geoTIFF has more pixels."
   ]
  },
  {
   "cell_type": "markdown",
   "metadata": {},
   "source": [
    "Nevertheless, in order to really compare the two files, we'll have to reproject one of them to match all the pixels with eachother. We'll reproject the WaPOR file to match with the pyWaPOR file using a nearest-neighbor interpolation."
   ]
  },
  {
   "cell_type": "code",
   "execution_count": null,
   "metadata": {},
   "outputs": [],
   "source": [
    "ds = pywapor.general.processing_functions.reproject_dataset_example(wapor_file, pywapor_file)\n",
    "\n",
    "wapor_data = pywapor.general.processing_functions.open_as_array(ds)\n",
    "wapor_geot = pywapor.general.processing_functions.get_geoinfo(ds)[0]\n",
    "\n",
    "print(f\"pixel_size pywapor  : {pywapor_geot[1]:.4f}\")\n",
    "print(f\"pixel_size wapor    : {wapor_geot[1]:.4f}\")\n",
    "print(f\"array_shape pywapor : {pywapor_data.shape}\")\n",
    "print(f\"array_shape wapor   : {wapor_data.shape}\")"
   ]
  },
  {
   "cell_type": "markdown",
   "metadata": {},
   "source": [
    "Now the pixels have the same size and the arrays have the same shape (i.e. the same amount of pixels)."
   ]
  },
  {
   "cell_type": "markdown",
   "metadata": {},
   "source": [
    "In the figure we've created earlier, you might also have noticed that the ET values on the WaPOR map were extremely high compared to the pyWaPOR map. As you can read in the WaPOR documentation, we need to apply a scale-factor of 0.1 to the pixel values to get the correct values."
   ]
  },
  {
   "cell_type": "code",
   "execution_count": null,
   "metadata": {},
   "outputs": [],
   "source": [
    "wapor_data *= 0.1"
   ]
  },
  {
   "cell_type": "markdown",
   "metadata": {},
   "source": [
    "Now that we have reprojected the data and applied the scale-factor, lets plot the maps again."
   ]
  },
  {
   "cell_type": "code",
   "execution_count": null,
   "metadata": {},
   "outputs": [],
   "source": [
    "fig = plt.figure(2)\n",
    "fig.clf()\n",
    "fig.set_size_inches(9.69, 5.27)\n",
    "axs = fig.subplots(1, 2, sharex=False, sharey=False).flatten()\n",
    "\n",
    "pywapor.post_et_look.plot_img(axs[0], pywapor_data, \"pywapor\", \"ET [mm/day]\")\n",
    "pywapor.post_et_look.plot_img(axs[1], wapor_data, \"wapor\", \"ET [mm/day]\")"
   ]
  },
  {
   "cell_type": "markdown",
   "metadata": {},
   "source": [
    "You'll see that the spatial extent of the two maps and the range of the ET values is similar now. The pyWaPOR file contains some pixels without any data though (the white patches). To make a fair comparison, we'll mask those pixels in the WaPOR dataset as well. "
   ]
  },
  {
   "cell_type": "code",
   "execution_count": null,
   "metadata": {},
   "outputs": [],
   "source": [
    "import numpy as np\n",
    "\n",
    "mask = np.any([np.isnan(pywapor_data), np.isnan(wapor_data)], axis = 0)\n",
    "pywapor_data[mask] = np.nan\n",
    "wapor_data[mask] = np.nan\n",
    "\n",
    "pywapor_data_1d = pywapor_data[~mask].flatten()\n",
    "wapor_data_1d = wapor_data[~mask].flatten()\n",
    "\n",
    "print(f\"array_shape pywapor : {pywapor_data_1d.shape}\")\n",
    "print(f\"array_shape wapor   : {wapor_data_1d.shape}\")"
   ]
  },
  {
   "cell_type": "markdown",
   "metadata": {},
   "source": [
    "Now we have 207236 values per dataset to compare with eachother."
   ]
  },
  {
   "cell_type": "markdown",
   "metadata": {},
   "source": [
    "Let's plot our maps again, this time fixing the colorbars of the two maps to be identical."
   ]
  },
  {
   "cell_type": "code",
   "execution_count": null,
   "metadata": {},
   "outputs": [],
   "source": [
    "fig = plt.figure(3)\n",
    "fig.clf()\n",
    "fig.set_size_inches(9.69, 5.27)\n",
    "axs = fig.subplots(1, 2, sharex=False, sharey=False).flatten()\n",
    "\n",
    "pywapor.post_et_look.plot_img(axs[0], pywapor_data, \"pywapor\", \"ET [mm/day]\", cb_limits = (0.0, 8.0))\n",
    "pywapor.post_et_look.plot_img(axs[1], wapor_data, \"wapor\", \"ET [mm/day]\", cb_limits = (0.0, 8.0))"
   ]
  },
  {
   "cell_type": "markdown",
   "metadata": {},
   "source": [
    "The maps look very similar, although it looks like the WaPOR values are slightly higher. we can also calculate some statistics now."
   ]
  },
  {
   "cell_type": "code",
   "execution_count": null,
   "metadata": {},
   "outputs": [],
   "source": [
    "r = pywapor.post_et_look.calc_pearson_correlation([pywapor_data_1d, wapor_data_1d])[0]\n",
    "nse = pywapor.post_et_look.calc_nash_sutcliffe([pywapor_data_1d, wapor_data_1d])[0]\n",
    "rmse = pywapor.post_et_look.calc_rmse([pywapor_data_1d, wapor_data_1d])[0]\n",
    "\n",
    "print(f\"r   : {r:.3f}\")\n",
    "print(f\"nse : {nse:.3f}\")\n",
    "print(f\"rmse: {rmse:.3f} [mm/day]\")"
   ]
  },
  {
   "cell_type": "markdown",
   "metadata": {},
   "source": [
    "And create a scatterplot."
   ]
  },
  {
   "cell_type": "code",
   "execution_count": null,
   "metadata": {},
   "outputs": [],
   "source": [
    "fig = plt.figure(4)\n",
    "fig.clf()\n",
    "ax = fig.gca()\n",
    "\n",
    "pywapor.post_et_look.plot_hexbin(ax, [pywapor_data_1d, wapor_data_1d], \n",
    "                                 xlabel = \"ET (pywapor) [mm/day]\", \n",
    "                                 ylabel = \"ET (wapor) [mm/day]\",\n",
    "                                 title = f\"r: {r:.3f}, nse : {nse:.3f}, rmse: {rmse:.3f} [mm/day]\")\n",
    "\n",
    "title = fig.suptitle(f\"{startdate} - {enddate}\")"
   ]
  },
  {
   "cell_type": "markdown",
   "metadata": {},
   "source": [
    "Although there is some variance, the two maps are very similar. `et_look` is identical to the model used to create the WaPOR data, but `pre_et_look` is not. This variance can thus mainly be explained by differences in the preprocessing of the `et_look` input data and minor differences in the `et_look` model setup (such as the differing constants we saw before)."
   ]
  }
 ],
 "metadata": {
  "interpreter": {
   "hash": "f85bfb788a8c687938d52f45e0b3b96852f22966903f9a0a715c418e604f4599"
  },
  "kernelspec": {
   "display_name": "Python 3.9.7 64-bit ('test_a': conda)",
   "language": "python",
   "name": "python3"
  },
  "language_info": {
   "codemirror_mode": {
    "name": "ipython",
    "version": 3
   },
   "file_extension": ".py",
   "mimetype": "text/x-python",
   "name": "python",
   "nbconvert_exporter": "python",
   "pygments_lexer": "ipython3",
   "version": "3.9.7"
  },
  "orig_nbformat": 4
 },
 "nbformat": 4,
 "nbformat_minor": 2
}
