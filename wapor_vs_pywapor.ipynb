{
 "cells": [
  {
   "cell_type": "code",
   "execution_count": 1,
   "metadata": {},
   "outputs": [],
   "source": [
    "import pywapor\n",
    "\n",
    "project_folder = r\"/Users/hmcoerver/On My Mac/pyWAPOR/example_data\"\n",
    "latlim = [28.9, 29.7]\n",
    "lonlim = [30.2, 31.2]\n",
    "startdate = \"2021-07-01\"\n",
    "enddate = \"2021-07-31\""
   ]
  },
  {
   "cell_type": "code",
   "execution_count": 2,
   "metadata": {},
   "outputs": [
    {
     "name": "stdout",
     "output_type": "stream",
     "text": [
      "\n",
      "#################\n",
      "## PRE_ET_LOOK ##\n",
      "#################\n",
      "\n",
      "#### NDVI ####\n",
      "\n",
      "Download 16-daily MOD13 NDVI data for period 2021-07-01 till 2021-07-31\n",
      "Progress: |██████████████████████████████████████████████████| 100.0% Complete\n",
      "\n",
      "Download 16-daily MYD13 NDVI data for period 2021-07-01 till 2021-07-31\n",
      "Progress: |██████████████████████████████████████████████████| 100.0% Complete\n",
      "--> Reprojecting datasets.\n",
      "--> Calculating composites.\n",
      "\n",
      "#### ALBEDO ####\n",
      "\n",
      "Download daily MODIS Albedo data for period 2021-07-01 till 2021-07-31\n",
      "Progress: |██████████████------------------------------------| 29.0% Complete"
     ]
    }
   ],
   "source": [
    "pre_files = pywapor.pre_et_look.main(project_folder, startdate, enddate, latlim, lonlim)"
   ]
  },
  {
   "cell_type": "code",
   "execution_count": null,
   "metadata": {},
   "outputs": [],
   "source": [
    "import os\n",
    "\n",
    "raw_folder = os.path.join(project_folder, \"RAW\")\n",
    "\n",
    "dl_args = (raw_folder, startdate, enddate, latlim, lonlim, \"L1_AETI_D\")\n",
    "\n",
    "wapor_files = pywapor.collect.WAPOR.Get_Layer(*dl_args)        "
   ]
  }
 ],
 "metadata": {
  "interpreter": {
   "hash": "f85bfb788a8c687938d52f45e0b3b96852f22966903f9a0a715c418e604f4599"
  },
  "kernelspec": {
   "display_name": "Python 3.9.7 64-bit ('test_a': conda)",
   "language": "python",
   "name": "python3"
  },
  "language_info": {
   "codemirror_mode": {
    "name": "ipython",
    "version": 3
   },
   "file_extension": ".py",
   "mimetype": "text/x-python",
   "name": "python",
   "nbconvert_exporter": "python",
   "pygments_lexer": "ipython3",
   "version": "3.9.7"
  },
  "orig_nbformat": 4
 },
 "nbformat": 4,
 "nbformat_minor": 2
}
